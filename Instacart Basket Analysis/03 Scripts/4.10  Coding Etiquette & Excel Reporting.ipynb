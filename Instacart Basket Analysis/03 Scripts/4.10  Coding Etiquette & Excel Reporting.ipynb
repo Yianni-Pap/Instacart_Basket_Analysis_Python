{
 "cells": [
  {
   "cell_type": "markdown",
   "id": "79efef96",
   "metadata": {},
   "source": [
    "# Part 1"
   ]
  },
  {
   "cell_type": "code",
   "execution_count": 1,
   "id": "b9091a80",
   "metadata": {},
   "outputs": [],
   "source": [
    "# Importing Libraries\n",
    "import pandas as pd\n",
    "import numpy as np\n",
    "import os\n",
    "import matplotlib.pyplot as plt\n",
    "import seaborn as sns\n",
    "import scipy"
   ]
  },
  {
   "cell_type": "code",
   "execution_count": 2,
   "id": "ab262fd3",
   "metadata": {},
   "outputs": [],
   "source": [
    "path = r'/Users/stadtsalat/Documents/Instacart Basket Analysis'"
   ]
  },
  {
   "cell_type": "markdown",
   "id": "28a27bc9",
   "metadata": {},
   "source": [
    "#### QN 1 -- Import the data set you exported in Exercise 4.9 into a new Jupyter notebook. This should be the merged version of your data that contains the new customers column."
   ]
  },
  {
   "cell_type": "code",
   "execution_count": 3,
   "id": "f7e741ec",
   "metadata": {},
   "outputs": [],
   "source": [
    "# Importing the latest data set\n",
    "ords_prods_custs = pd.read_pickle(os.path.join(path, '02 Data', 'Prepared Data', 'ords_prods_custs.pkl'))"
   ]
  },
  {
   "cell_type": "code",
   "execution_count": 4,
   "id": "f1f46e5d",
   "metadata": {},
   "outputs": [
    {
     "name": "stdout",
     "output_type": "stream",
     "text": [
      "<class 'pandas.core.frame.DataFrame'>\n",
      "Int64Index: 32404859 entries, 0 to 32404858\n",
      "Data columns (total 34 columns):\n",
      " #   Column                  Dtype   \n",
      "---  ------                  -----   \n",
      " 0   order_id                int64   \n",
      " 1   user_id                 int64   \n",
      " 2   order_number            int64   \n",
      " 3   orders_day_of_week      int64   \n",
      " 4   order_hour_of_day       int64   \n",
      " 5   days_since_prior_order  float64 \n",
      " 6   new_customer            bool    \n",
      " 7   product_id              int64   \n",
      " 8   add_to_cart_order       int64   \n",
      " 9   reordered               int64   \n",
      " 10  product_name            object  \n",
      " 11  aisle_id                int64   \n",
      " 12  department_id           int64   \n",
      " 13  prices                  float64 \n",
      " 14  _merge                  category\n",
      " 15  price_range_loc         object  \n",
      " 16  busiest_day             object  \n",
      " 17  Busiest_days            object  \n",
      " 18  busiest_period_of_day   object  \n",
      " 19  max_order               int64   \n",
      " 20  loyalty_flag            object  \n",
      " 21  avg_price               float64 \n",
      " 22  spending_flag           object  \n",
      " 23  median_order            float64 \n",
      " 24  order_frequency_flag    object  \n",
      " 25  first_name              object  \n",
      " 26  surname                 object  \n",
      " 27  gender                  object  \n",
      " 28  state                   object  \n",
      " 29  age                     int64   \n",
      " 30  date_registered         object  \n",
      " 31  number_of_dependants    int64   \n",
      " 32  marital_status          object  \n",
      " 33  income                  int64   \n",
      "dtypes: bool(1), category(1), float64(4), int64(14), object(14)\n",
      "memory usage: 8.0+ GB\n"
     ]
    }
   ],
   "source": [
    "# Checking the df\n",
    "ords_prods_custs.info()"
   ]
  },
  {
   "cell_type": "markdown",
   "id": "5fbb352f",
   "metadata": {},
   "source": [
    "QN2 -- Consider any security implications that might exist for this new data. You’ll need to address any PII data in the data before continuing your analysis."
   ]
  },
  {
   "cell_type": "markdown",
   "id": "40045f03",
   "metadata": {},
   "source": [
    "The data sets were fabricated for the purpose of this course. The customers and prices mentioned are not real meaning that the individuals cannot be identified. For the above reasons, our dataset is not subject to PII laws"
   ]
  },
  {
   "cell_type": "markdown",
   "id": "35dde40f",
   "metadata": {},
   "source": [
    "#### QN3 -- The Instacart officers are interested in comparing customer behavior in different geographic areas. Create a regional segmentation of the data. You’ll need to create a “Region” column based on the “State” column from your customers data set.\n",
    "#### -Use the region information in this Wikipedia article to create your column (you only need to create regions, not divisions)."
   ]
  },
  {
   "cell_type": "code",
   "execution_count": 5,
   "id": "3affedef",
   "metadata": {},
   "outputs": [],
   "source": [
    "# Creating Region list\n",
    "Region = []\n",
    "\n",
    "for value in ords_prods_custs ['state']:\n",
    " if value == 'Maine' or value == 'New Hampshire' or value == 'Vermont' or value == 'Massachusetts' or value == 'Rhode Island' or value == 'Connecticut' or value == 'New York' or value == 'Pennsylvania' or value == 'New Jersey':\n",
    "    Region.append('North East')\n",
    " elif value == 'Wisconsin' or value == 'Michigan' or value == 'Illinois' or value == 'Indiana' or value == 'Ohio' or value == 'North Dakota' or value == 'South Dakota' or value == 'Nebraska' or value == 'Kansas' or value == 'Minnesota' or value == 'Iowa' or value == 'Missouri':\n",
    "    Region.append('Midwest')\n",
    " elif value == 'Delaware' or value == 'Maryland' or value == 'District of Columbia' or value == 'Virginia' or value == 'West Virginia' or value == 'North Carolina' or value == 'South Carolina' or value == 'Georgia' or value == 'Florida' or value == 'Kentucky' or value == 'Tennessee' or value == 'Mississippi' or value == 'Alabama' or value == 'Oklahoma' or value == 'Texas' or value == 'Arkansas' or value == 'Louisiana':\n",
    "    Region.append('South')\n",
    " else:\n",
    "    Region.append('West')"
   ]
  },
  {
   "cell_type": "code",
   "execution_count": 6,
   "id": "459f4ca2",
   "metadata": {},
   "outputs": [],
   "source": [
    "# Creating the region column \n",
    "ords_prods_custs['region'] = Region"
   ]
  },
  {
   "cell_type": "code",
   "execution_count": 7,
   "id": "c0a1d3a0",
   "metadata": {},
   "outputs": [
    {
     "data": {
      "text/html": [
       "<div>\n",
       "<style scoped>\n",
       "    .dataframe tbody tr th:only-of-type {\n",
       "        vertical-align: middle;\n",
       "    }\n",
       "\n",
       "    .dataframe tbody tr th {\n",
       "        vertical-align: top;\n",
       "    }\n",
       "\n",
       "    .dataframe thead th {\n",
       "        text-align: right;\n",
       "    }\n",
       "</style>\n",
       "<table border=\"1\" class=\"dataframe\">\n",
       "  <thead>\n",
       "    <tr style=\"text-align: right;\">\n",
       "      <th></th>\n",
       "      <th>order_id</th>\n",
       "      <th>user_id</th>\n",
       "      <th>order_number</th>\n",
       "      <th>orders_day_of_week</th>\n",
       "      <th>order_hour_of_day</th>\n",
       "      <th>days_since_prior_order</th>\n",
       "      <th>new_customer</th>\n",
       "      <th>product_id</th>\n",
       "      <th>add_to_cart_order</th>\n",
       "      <th>reordered</th>\n",
       "      <th>...</th>\n",
       "      <th>first_name</th>\n",
       "      <th>surname</th>\n",
       "      <th>gender</th>\n",
       "      <th>state</th>\n",
       "      <th>age</th>\n",
       "      <th>date_registered</th>\n",
       "      <th>number_of_dependants</th>\n",
       "      <th>marital_status</th>\n",
       "      <th>income</th>\n",
       "      <th>region</th>\n",
       "    </tr>\n",
       "  </thead>\n",
       "  <tbody>\n",
       "    <tr>\n",
       "      <th>0</th>\n",
       "      <td>2539329</td>\n",
       "      <td>1</td>\n",
       "      <td>1</td>\n",
       "      <td>2</td>\n",
       "      <td>8</td>\n",
       "      <td>NaN</td>\n",
       "      <td>True</td>\n",
       "      <td>196</td>\n",
       "      <td>1</td>\n",
       "      <td>0</td>\n",
       "      <td>...</td>\n",
       "      <td>Linda</td>\n",
       "      <td>Nguyen</td>\n",
       "      <td>Female</td>\n",
       "      <td>Alabama</td>\n",
       "      <td>31</td>\n",
       "      <td>2/17/2019</td>\n",
       "      <td>3</td>\n",
       "      <td>married</td>\n",
       "      <td>40423</td>\n",
       "      <td>South</td>\n",
       "    </tr>\n",
       "    <tr>\n",
       "      <th>1</th>\n",
       "      <td>2398795</td>\n",
       "      <td>1</td>\n",
       "      <td>2</td>\n",
       "      <td>3</td>\n",
       "      <td>7</td>\n",
       "      <td>15.0</td>\n",
       "      <td>False</td>\n",
       "      <td>196</td>\n",
       "      <td>1</td>\n",
       "      <td>1</td>\n",
       "      <td>...</td>\n",
       "      <td>Linda</td>\n",
       "      <td>Nguyen</td>\n",
       "      <td>Female</td>\n",
       "      <td>Alabama</td>\n",
       "      <td>31</td>\n",
       "      <td>2/17/2019</td>\n",
       "      <td>3</td>\n",
       "      <td>married</td>\n",
       "      <td>40423</td>\n",
       "      <td>South</td>\n",
       "    </tr>\n",
       "    <tr>\n",
       "      <th>2</th>\n",
       "      <td>473747</td>\n",
       "      <td>1</td>\n",
       "      <td>3</td>\n",
       "      <td>3</td>\n",
       "      <td>12</td>\n",
       "      <td>21.0</td>\n",
       "      <td>False</td>\n",
       "      <td>196</td>\n",
       "      <td>1</td>\n",
       "      <td>1</td>\n",
       "      <td>...</td>\n",
       "      <td>Linda</td>\n",
       "      <td>Nguyen</td>\n",
       "      <td>Female</td>\n",
       "      <td>Alabama</td>\n",
       "      <td>31</td>\n",
       "      <td>2/17/2019</td>\n",
       "      <td>3</td>\n",
       "      <td>married</td>\n",
       "      <td>40423</td>\n",
       "      <td>South</td>\n",
       "    </tr>\n",
       "    <tr>\n",
       "      <th>3</th>\n",
       "      <td>2254736</td>\n",
       "      <td>1</td>\n",
       "      <td>4</td>\n",
       "      <td>4</td>\n",
       "      <td>7</td>\n",
       "      <td>29.0</td>\n",
       "      <td>False</td>\n",
       "      <td>196</td>\n",
       "      <td>1</td>\n",
       "      <td>1</td>\n",
       "      <td>...</td>\n",
       "      <td>Linda</td>\n",
       "      <td>Nguyen</td>\n",
       "      <td>Female</td>\n",
       "      <td>Alabama</td>\n",
       "      <td>31</td>\n",
       "      <td>2/17/2019</td>\n",
       "      <td>3</td>\n",
       "      <td>married</td>\n",
       "      <td>40423</td>\n",
       "      <td>South</td>\n",
       "    </tr>\n",
       "    <tr>\n",
       "      <th>4</th>\n",
       "      <td>431534</td>\n",
       "      <td>1</td>\n",
       "      <td>5</td>\n",
       "      <td>4</td>\n",
       "      <td>15</td>\n",
       "      <td>28.0</td>\n",
       "      <td>False</td>\n",
       "      <td>196</td>\n",
       "      <td>1</td>\n",
       "      <td>1</td>\n",
       "      <td>...</td>\n",
       "      <td>Linda</td>\n",
       "      <td>Nguyen</td>\n",
       "      <td>Female</td>\n",
       "      <td>Alabama</td>\n",
       "      <td>31</td>\n",
       "      <td>2/17/2019</td>\n",
       "      <td>3</td>\n",
       "      <td>married</td>\n",
       "      <td>40423</td>\n",
       "      <td>South</td>\n",
       "    </tr>\n",
       "  </tbody>\n",
       "</table>\n",
       "<p>5 rows × 35 columns</p>\n",
       "</div>"
      ],
      "text/plain": [
       "   order_id  user_id  order_number  orders_day_of_week  order_hour_of_day  \\\n",
       "0   2539329        1             1                   2                  8   \n",
       "1   2398795        1             2                   3                  7   \n",
       "2    473747        1             3                   3                 12   \n",
       "3   2254736        1             4                   4                  7   \n",
       "4    431534        1             5                   4                 15   \n",
       "\n",
       "   days_since_prior_order  new_customer  product_id  add_to_cart_order  \\\n",
       "0                     NaN          True         196                  1   \n",
       "1                    15.0         False         196                  1   \n",
       "2                    21.0         False         196                  1   \n",
       "3                    29.0         False         196                  1   \n",
       "4                    28.0         False         196                  1   \n",
       "\n",
       "   reordered  ... first_name  surname  gender    state age date_registered  \\\n",
       "0          0  ...      Linda   Nguyen  Female  Alabama  31       2/17/2019   \n",
       "1          1  ...      Linda   Nguyen  Female  Alabama  31       2/17/2019   \n",
       "2          1  ...      Linda   Nguyen  Female  Alabama  31       2/17/2019   \n",
       "3          1  ...      Linda   Nguyen  Female  Alabama  31       2/17/2019   \n",
       "4          1  ...      Linda   Nguyen  Female  Alabama  31       2/17/2019   \n",
       "\n",
       "  number_of_dependants marital_status income  region  \n",
       "0                    3        married  40423   South  \n",
       "1                    3        married  40423   South  \n",
       "2                    3        married  40423   South  \n",
       "3                    3        married  40423   South  \n",
       "4                    3        married  40423   South  \n",
       "\n",
       "[5 rows x 35 columns]"
      ]
     },
     "execution_count": 7,
     "metadata": {},
     "output_type": "execute_result"
    }
   ],
   "source": [
    "# Checking the df for the new region column\n",
    "ords_prods_custs.head(5)"
   ]
  },
  {
   "cell_type": "code",
   "execution_count": 8,
   "id": "ed4d34fb",
   "metadata": {},
   "outputs": [
    {
     "name": "stdout",
     "output_type": "stream",
     "text": [
      "<class 'pandas.core.frame.DataFrame'>\n",
      "Int64Index: 32404859 entries, 0 to 32404858\n",
      "Data columns (total 35 columns):\n",
      " #   Column                  Dtype   \n",
      "---  ------                  -----   \n",
      " 0   order_id                int64   \n",
      " 1   user_id                 int64   \n",
      " 2   order_number            int64   \n",
      " 3   orders_day_of_week      int64   \n",
      " 4   order_hour_of_day       int64   \n",
      " 5   days_since_prior_order  float64 \n",
      " 6   new_customer            bool    \n",
      " 7   product_id              int64   \n",
      " 8   add_to_cart_order       int64   \n",
      " 9   reordered               int64   \n",
      " 10  product_name            object  \n",
      " 11  aisle_id                int64   \n",
      " 12  department_id           int64   \n",
      " 13  prices                  float64 \n",
      " 14  _merge                  category\n",
      " 15  price_range_loc         object  \n",
      " 16  busiest_day             object  \n",
      " 17  Busiest_days            object  \n",
      " 18  busiest_period_of_day   object  \n",
      " 19  max_order               int64   \n",
      " 20  loyalty_flag            object  \n",
      " 21  avg_price               float64 \n",
      " 22  spending_flag           object  \n",
      " 23  median_order            float64 \n",
      " 24  order_frequency_flag    object  \n",
      " 25  first_name              object  \n",
      " 26  surname                 object  \n",
      " 27  gender                  object  \n",
      " 28  state                   object  \n",
      " 29  age                     int64   \n",
      " 30  date_registered         object  \n",
      " 31  number_of_dependants    int64   \n",
      " 32  marital_status          object  \n",
      " 33  income                  int64   \n",
      " 34  region                  object  \n",
      "dtypes: bool(1), category(1), float64(4), int64(14), object(15)\n",
      "memory usage: 8.3+ GB\n"
     ]
    }
   ],
   "source": [
    "#Checking the data type of the new column\n",
    "ords_prods_custs.info()"
   ]
  },
  {
   "cell_type": "markdown",
   "id": "28341a05",
   "metadata": {},
   "source": [
    "#### -- Determine whether there’s a difference in spending habits between the different U.S. regions. (Hint: You can do this by crossing the variable you just created with the spending flag.)"
   ]
  },
  {
   "cell_type": "code",
   "execution_count": 9,
   "id": "ee9409ca",
   "metadata": {},
   "outputs": [],
   "source": [
    "# Crossing spending_flag and region\n",
    "crosstab = pd.crosstab(ords_prods_custs['region'], ords_prods_custs['spending_flag'], dropna = False)"
   ]
  },
  {
   "cell_type": "code",
   "execution_count": 10,
   "id": "f0912555",
   "metadata": {},
   "outputs": [
    {
     "data": {
      "text/html": [
       "<div>\n",
       "<style scoped>\n",
       "    .dataframe tbody tr th:only-of-type {\n",
       "        vertical-align: middle;\n",
       "    }\n",
       "\n",
       "    .dataframe tbody tr th {\n",
       "        vertical-align: top;\n",
       "    }\n",
       "\n",
       "    .dataframe thead th {\n",
       "        text-align: right;\n",
       "    }\n",
       "</style>\n",
       "<table border=\"1\" class=\"dataframe\">\n",
       "  <thead>\n",
       "    <tr style=\"text-align: right;\">\n",
       "      <th>spending_flag</th>\n",
       "      <th>High spender</th>\n",
       "      <th>Low spender</th>\n",
       "    </tr>\n",
       "    <tr>\n",
       "      <th>region</th>\n",
       "      <th></th>\n",
       "      <th></th>\n",
       "    </tr>\n",
       "  </thead>\n",
       "  <tbody>\n",
       "    <tr>\n",
       "      <th>Midwest</th>\n",
       "      <td>7589534</td>\n",
       "      <td>7791</td>\n",
       "    </tr>\n",
       "    <tr>\n",
       "      <th>North East</th>\n",
       "      <td>5717129</td>\n",
       "      <td>5607</td>\n",
       "    </tr>\n",
       "    <tr>\n",
       "      <th>South</th>\n",
       "      <td>10781873</td>\n",
       "      <td>10012</td>\n",
       "    </tr>\n",
       "    <tr>\n",
       "      <th>West</th>\n",
       "      <td>8284433</td>\n",
       "      <td>8480</td>\n",
       "    </tr>\n",
       "  </tbody>\n",
       "</table>\n",
       "</div>"
      ],
      "text/plain": [
       "spending_flag  High spender  Low spender\n",
       "region                                  \n",
       "Midwest             7589534         7791\n",
       "North East          5717129         5607\n",
       "South              10781873        10012\n",
       "West                8284433         8480"
      ]
     },
     "execution_count": 10,
     "metadata": {},
     "output_type": "execute_result"
    }
   ],
   "source": [
    "# Checking the crosstab result\n",
    "crosstab"
   ]
  },
  {
   "cell_type": "code",
   "execution_count": 11,
   "id": "4be0e68e",
   "metadata": {},
   "outputs": [],
   "source": [
    "# Copying crosstab to clipboard\n",
    "crosstab.to_clipboard()"
   ]
  },
  {
   "cell_type": "markdown",
   "id": "b6706cd9",
   "metadata": {},
   "source": [
    "What we can see from the crosstab is that the South High_Spenders are the ones contributing the most in the total revenue. They are followed by West, Midwest and the North East. "
   ]
  },
  {
   "cell_type": "markdown",
   "id": "be2c691f",
   "metadata": {},
   "source": [
    "#### QN 4 -- The Instacart CFO isn’t interested in customers who don’t generate much revenue for the app. Create an exclusion flag for low-activity customers (customers with less than 5 orders) and exclude them from the data. Make sure you export this sample."
   ]
  },
  {
   "cell_type": "code",
   "execution_count": 12,
   "id": "c478843f",
   "metadata": {},
   "outputs": [],
   "source": [
    "# Creating activity flag using the max_order column to set our criteria\n",
    "ords_prods_custs.loc[ords_prods_custs['max_order']<5, 'activity_flag'] = 'low_activity_customer'\n",
    "ords_prods_custs.loc[ords_prods_custs['max_order']>=5, 'activity_flag'] = 'normal_activity_customer'"
   ]
  },
  {
   "cell_type": "code",
   "execution_count": 13,
   "id": "7f9c2384",
   "metadata": {},
   "outputs": [
    {
     "data": {
      "text/html": [
       "<div>\n",
       "<style scoped>\n",
       "    .dataframe tbody tr th:only-of-type {\n",
       "        vertical-align: middle;\n",
       "    }\n",
       "\n",
       "    .dataframe tbody tr th {\n",
       "        vertical-align: top;\n",
       "    }\n",
       "\n",
       "    .dataframe thead th {\n",
       "        text-align: right;\n",
       "    }\n",
       "</style>\n",
       "<table border=\"1\" class=\"dataframe\">\n",
       "  <thead>\n",
       "    <tr style=\"text-align: right;\">\n",
       "      <th></th>\n",
       "      <th>order_id</th>\n",
       "      <th>user_id</th>\n",
       "      <th>order_number</th>\n",
       "      <th>orders_day_of_week</th>\n",
       "      <th>order_hour_of_day</th>\n",
       "      <th>days_since_prior_order</th>\n",
       "      <th>new_customer</th>\n",
       "      <th>product_id</th>\n",
       "      <th>add_to_cart_order</th>\n",
       "      <th>reordered</th>\n",
       "      <th>...</th>\n",
       "      <th>surname</th>\n",
       "      <th>gender</th>\n",
       "      <th>state</th>\n",
       "      <th>age</th>\n",
       "      <th>date_registered</th>\n",
       "      <th>number_of_dependants</th>\n",
       "      <th>marital_status</th>\n",
       "      <th>income</th>\n",
       "      <th>region</th>\n",
       "      <th>activity_flag</th>\n",
       "    </tr>\n",
       "  </thead>\n",
       "  <tbody>\n",
       "    <tr>\n",
       "      <th>0</th>\n",
       "      <td>2539329</td>\n",
       "      <td>1</td>\n",
       "      <td>1</td>\n",
       "      <td>2</td>\n",
       "      <td>8</td>\n",
       "      <td>NaN</td>\n",
       "      <td>True</td>\n",
       "      <td>196</td>\n",
       "      <td>1</td>\n",
       "      <td>0</td>\n",
       "      <td>...</td>\n",
       "      <td>Nguyen</td>\n",
       "      <td>Female</td>\n",
       "      <td>Alabama</td>\n",
       "      <td>31</td>\n",
       "      <td>2/17/2019</td>\n",
       "      <td>3</td>\n",
       "      <td>married</td>\n",
       "      <td>40423</td>\n",
       "      <td>South</td>\n",
       "      <td>normal_activity_customer</td>\n",
       "    </tr>\n",
       "    <tr>\n",
       "      <th>1</th>\n",
       "      <td>2398795</td>\n",
       "      <td>1</td>\n",
       "      <td>2</td>\n",
       "      <td>3</td>\n",
       "      <td>7</td>\n",
       "      <td>15.0</td>\n",
       "      <td>False</td>\n",
       "      <td>196</td>\n",
       "      <td>1</td>\n",
       "      <td>1</td>\n",
       "      <td>...</td>\n",
       "      <td>Nguyen</td>\n",
       "      <td>Female</td>\n",
       "      <td>Alabama</td>\n",
       "      <td>31</td>\n",
       "      <td>2/17/2019</td>\n",
       "      <td>3</td>\n",
       "      <td>married</td>\n",
       "      <td>40423</td>\n",
       "      <td>South</td>\n",
       "      <td>normal_activity_customer</td>\n",
       "    </tr>\n",
       "    <tr>\n",
       "      <th>2</th>\n",
       "      <td>473747</td>\n",
       "      <td>1</td>\n",
       "      <td>3</td>\n",
       "      <td>3</td>\n",
       "      <td>12</td>\n",
       "      <td>21.0</td>\n",
       "      <td>False</td>\n",
       "      <td>196</td>\n",
       "      <td>1</td>\n",
       "      <td>1</td>\n",
       "      <td>...</td>\n",
       "      <td>Nguyen</td>\n",
       "      <td>Female</td>\n",
       "      <td>Alabama</td>\n",
       "      <td>31</td>\n",
       "      <td>2/17/2019</td>\n",
       "      <td>3</td>\n",
       "      <td>married</td>\n",
       "      <td>40423</td>\n",
       "      <td>South</td>\n",
       "      <td>normal_activity_customer</td>\n",
       "    </tr>\n",
       "    <tr>\n",
       "      <th>3</th>\n",
       "      <td>2254736</td>\n",
       "      <td>1</td>\n",
       "      <td>4</td>\n",
       "      <td>4</td>\n",
       "      <td>7</td>\n",
       "      <td>29.0</td>\n",
       "      <td>False</td>\n",
       "      <td>196</td>\n",
       "      <td>1</td>\n",
       "      <td>1</td>\n",
       "      <td>...</td>\n",
       "      <td>Nguyen</td>\n",
       "      <td>Female</td>\n",
       "      <td>Alabama</td>\n",
       "      <td>31</td>\n",
       "      <td>2/17/2019</td>\n",
       "      <td>3</td>\n",
       "      <td>married</td>\n",
       "      <td>40423</td>\n",
       "      <td>South</td>\n",
       "      <td>normal_activity_customer</td>\n",
       "    </tr>\n",
       "    <tr>\n",
       "      <th>4</th>\n",
       "      <td>431534</td>\n",
       "      <td>1</td>\n",
       "      <td>5</td>\n",
       "      <td>4</td>\n",
       "      <td>15</td>\n",
       "      <td>28.0</td>\n",
       "      <td>False</td>\n",
       "      <td>196</td>\n",
       "      <td>1</td>\n",
       "      <td>1</td>\n",
       "      <td>...</td>\n",
       "      <td>Nguyen</td>\n",
       "      <td>Female</td>\n",
       "      <td>Alabama</td>\n",
       "      <td>31</td>\n",
       "      <td>2/17/2019</td>\n",
       "      <td>3</td>\n",
       "      <td>married</td>\n",
       "      <td>40423</td>\n",
       "      <td>South</td>\n",
       "      <td>normal_activity_customer</td>\n",
       "    </tr>\n",
       "  </tbody>\n",
       "</table>\n",
       "<p>5 rows × 36 columns</p>\n",
       "</div>"
      ],
      "text/plain": [
       "   order_id  user_id  order_number  orders_day_of_week  order_hour_of_day  \\\n",
       "0   2539329        1             1                   2                  8   \n",
       "1   2398795        1             2                   3                  7   \n",
       "2    473747        1             3                   3                 12   \n",
       "3   2254736        1             4                   4                  7   \n",
       "4    431534        1             5                   4                 15   \n",
       "\n",
       "   days_since_prior_order  new_customer  product_id  add_to_cart_order  \\\n",
       "0                     NaN          True         196                  1   \n",
       "1                    15.0         False         196                  1   \n",
       "2                    21.0         False         196                  1   \n",
       "3                    29.0         False         196                  1   \n",
       "4                    28.0         False         196                  1   \n",
       "\n",
       "   reordered  ... surname  gender    state  age date_registered  \\\n",
       "0          0  ...  Nguyen  Female  Alabama   31       2/17/2019   \n",
       "1          1  ...  Nguyen  Female  Alabama   31       2/17/2019   \n",
       "2          1  ...  Nguyen  Female  Alabama   31       2/17/2019   \n",
       "3          1  ...  Nguyen  Female  Alabama   31       2/17/2019   \n",
       "4          1  ...  Nguyen  Female  Alabama   31       2/17/2019   \n",
       "\n",
       "  number_of_dependants marital_status income region             activity_flag  \n",
       "0                    3        married  40423  South  normal_activity_customer  \n",
       "1                    3        married  40423  South  normal_activity_customer  \n",
       "2                    3        married  40423  South  normal_activity_customer  \n",
       "3                    3        married  40423  South  normal_activity_customer  \n",
       "4                    3        married  40423  South  normal_activity_customer  \n",
       "\n",
       "[5 rows x 36 columns]"
      ]
     },
     "execution_count": 13,
     "metadata": {},
     "output_type": "execute_result"
    }
   ],
   "source": [
    "# Checking the df\n",
    "ords_prods_custs.head(5)"
   ]
  },
  {
   "cell_type": "code",
   "execution_count": 14,
   "id": "58da23bd",
   "metadata": {},
   "outputs": [
    {
     "data": {
      "text/plain": [
       "normal_activity_customer    30964564\n",
       "low_activity_customer        1440295\n",
       "Name: activity_flag, dtype: int64"
      ]
     },
     "execution_count": 14,
     "metadata": {},
     "output_type": "execute_result"
    }
   ],
   "source": [
    "# Checking the amount of low and normal activity customers\n",
    "ords_prods_custs['activity_flag']. value_counts(dropna=False)"
   ]
  },
  {
   "cell_type": "code",
   "execution_count": 15,
   "id": "983b3a15",
   "metadata": {},
   "outputs": [
    {
     "data": {
      "text/plain": [
       "32404859"
      ]
     },
     "execution_count": 15,
     "metadata": {},
     "output_type": "execute_result"
    }
   ],
   "source": [
    "# Checking if the sum of the rows matches the amount of rows on our df\n",
    "30964564 + 1440295"
   ]
  },
  {
   "cell_type": "code",
   "execution_count": 16,
   "id": "0a9bab47",
   "metadata": {},
   "outputs": [],
   "source": [
    "# Creating a subset for the low activity customers  \n",
    "low_activity_custs = ords_prods_custs[ords_prods_custs['activity_flag'] == 'low_activity_customer']"
   ]
  },
  {
   "cell_type": "code",
   "execution_count": 17,
   "id": "ca9d17ad",
   "metadata": {},
   "outputs": [
    {
     "data": {
      "text/html": [
       "<div>\n",
       "<style scoped>\n",
       "    .dataframe tbody tr th:only-of-type {\n",
       "        vertical-align: middle;\n",
       "    }\n",
       "\n",
       "    .dataframe tbody tr th {\n",
       "        vertical-align: top;\n",
       "    }\n",
       "\n",
       "    .dataframe thead th {\n",
       "        text-align: right;\n",
       "    }\n",
       "</style>\n",
       "<table border=\"1\" class=\"dataframe\">\n",
       "  <thead>\n",
       "    <tr style=\"text-align: right;\">\n",
       "      <th></th>\n",
       "      <th>order_id</th>\n",
       "      <th>user_id</th>\n",
       "      <th>order_number</th>\n",
       "      <th>orders_day_of_week</th>\n",
       "      <th>order_hour_of_day</th>\n",
       "      <th>days_since_prior_order</th>\n",
       "      <th>new_customer</th>\n",
       "      <th>product_id</th>\n",
       "      <th>add_to_cart_order</th>\n",
       "      <th>reordered</th>\n",
       "      <th>...</th>\n",
       "      <th>surname</th>\n",
       "      <th>gender</th>\n",
       "      <th>state</th>\n",
       "      <th>age</th>\n",
       "      <th>date_registered</th>\n",
       "      <th>number_of_dependants</th>\n",
       "      <th>marital_status</th>\n",
       "      <th>income</th>\n",
       "      <th>region</th>\n",
       "      <th>activity_flag</th>\n",
       "    </tr>\n",
       "  </thead>\n",
       "  <tbody>\n",
       "    <tr>\n",
       "      <th>1510</th>\n",
       "      <td>520620</td>\n",
       "      <td>120</td>\n",
       "      <td>1</td>\n",
       "      <td>3</td>\n",
       "      <td>11</td>\n",
       "      <td>NaN</td>\n",
       "      <td>True</td>\n",
       "      <td>196</td>\n",
       "      <td>2</td>\n",
       "      <td>0</td>\n",
       "      <td>...</td>\n",
       "      <td>Rich</td>\n",
       "      <td>Female</td>\n",
       "      <td>Kentucky</td>\n",
       "      <td>54</td>\n",
       "      <td>3/2/2017</td>\n",
       "      <td>2</td>\n",
       "      <td>married</td>\n",
       "      <td>99219</td>\n",
       "      <td>South</td>\n",
       "      <td>low_activity_customer</td>\n",
       "    </tr>\n",
       "    <tr>\n",
       "      <th>1511</th>\n",
       "      <td>3273029</td>\n",
       "      <td>120</td>\n",
       "      <td>3</td>\n",
       "      <td>2</td>\n",
       "      <td>8</td>\n",
       "      <td>19.0</td>\n",
       "      <td>False</td>\n",
       "      <td>196</td>\n",
       "      <td>2</td>\n",
       "      <td>1</td>\n",
       "      <td>...</td>\n",
       "      <td>Rich</td>\n",
       "      <td>Female</td>\n",
       "      <td>Kentucky</td>\n",
       "      <td>54</td>\n",
       "      <td>3/2/2017</td>\n",
       "      <td>2</td>\n",
       "      <td>married</td>\n",
       "      <td>99219</td>\n",
       "      <td>South</td>\n",
       "      <td>low_activity_customer</td>\n",
       "    </tr>\n",
       "    <tr>\n",
       "      <th>1512</th>\n",
       "      <td>520620</td>\n",
       "      <td>120</td>\n",
       "      <td>1</td>\n",
       "      <td>3</td>\n",
       "      <td>11</td>\n",
       "      <td>NaN</td>\n",
       "      <td>True</td>\n",
       "      <td>46149</td>\n",
       "      <td>1</td>\n",
       "      <td>0</td>\n",
       "      <td>...</td>\n",
       "      <td>Rich</td>\n",
       "      <td>Female</td>\n",
       "      <td>Kentucky</td>\n",
       "      <td>54</td>\n",
       "      <td>3/2/2017</td>\n",
       "      <td>2</td>\n",
       "      <td>married</td>\n",
       "      <td>99219</td>\n",
       "      <td>South</td>\n",
       "      <td>low_activity_customer</td>\n",
       "    </tr>\n",
       "    <tr>\n",
       "      <th>1513</th>\n",
       "      <td>3273029</td>\n",
       "      <td>120</td>\n",
       "      <td>3</td>\n",
       "      <td>2</td>\n",
       "      <td>8</td>\n",
       "      <td>19.0</td>\n",
       "      <td>False</td>\n",
       "      <td>46149</td>\n",
       "      <td>1</td>\n",
       "      <td>1</td>\n",
       "      <td>...</td>\n",
       "      <td>Rich</td>\n",
       "      <td>Female</td>\n",
       "      <td>Kentucky</td>\n",
       "      <td>54</td>\n",
       "      <td>3/2/2017</td>\n",
       "      <td>2</td>\n",
       "      <td>married</td>\n",
       "      <td>99219</td>\n",
       "      <td>South</td>\n",
       "      <td>low_activity_customer</td>\n",
       "    </tr>\n",
       "    <tr>\n",
       "      <th>1514</th>\n",
       "      <td>520620</td>\n",
       "      <td>120</td>\n",
       "      <td>1</td>\n",
       "      <td>3</td>\n",
       "      <td>11</td>\n",
       "      <td>NaN</td>\n",
       "      <td>True</td>\n",
       "      <td>26348</td>\n",
       "      <td>3</td>\n",
       "      <td>0</td>\n",
       "      <td>...</td>\n",
       "      <td>Rich</td>\n",
       "      <td>Female</td>\n",
       "      <td>Kentucky</td>\n",
       "      <td>54</td>\n",
       "      <td>3/2/2017</td>\n",
       "      <td>2</td>\n",
       "      <td>married</td>\n",
       "      <td>99219</td>\n",
       "      <td>South</td>\n",
       "      <td>low_activity_customer</td>\n",
       "    </tr>\n",
       "  </tbody>\n",
       "</table>\n",
       "<p>5 rows × 36 columns</p>\n",
       "</div>"
      ],
      "text/plain": [
       "      order_id  user_id  order_number  orders_day_of_week  order_hour_of_day  \\\n",
       "1510    520620      120             1                   3                 11   \n",
       "1511   3273029      120             3                   2                  8   \n",
       "1512    520620      120             1                   3                 11   \n",
       "1513   3273029      120             3                   2                  8   \n",
       "1514    520620      120             1                   3                 11   \n",
       "\n",
       "      days_since_prior_order  new_customer  product_id  add_to_cart_order  \\\n",
       "1510                     NaN          True         196                  2   \n",
       "1511                    19.0         False         196                  2   \n",
       "1512                     NaN          True       46149                  1   \n",
       "1513                    19.0         False       46149                  1   \n",
       "1514                     NaN          True       26348                  3   \n",
       "\n",
       "      reordered  ... surname  gender     state  age date_registered  \\\n",
       "1510          0  ...    Rich  Female  Kentucky   54        3/2/2017   \n",
       "1511          1  ...    Rich  Female  Kentucky   54        3/2/2017   \n",
       "1512          0  ...    Rich  Female  Kentucky   54        3/2/2017   \n",
       "1513          1  ...    Rich  Female  Kentucky   54        3/2/2017   \n",
       "1514          0  ...    Rich  Female  Kentucky   54        3/2/2017   \n",
       "\n",
       "     number_of_dependants marital_status income region          activity_flag  \n",
       "1510                    2        married  99219  South  low_activity_customer  \n",
       "1511                    2        married  99219  South  low_activity_customer  \n",
       "1512                    2        married  99219  South  low_activity_customer  \n",
       "1513                    2        married  99219  South  low_activity_customer  \n",
       "1514                    2        married  99219  South  low_activity_customer  \n",
       "\n",
       "[5 rows x 36 columns]"
      ]
     },
     "execution_count": 17,
     "metadata": {},
     "output_type": "execute_result"
    }
   ],
   "source": [
    "# Checking the subset\n",
    "low_activity_custs.head()"
   ]
  },
  {
   "cell_type": "code",
   "execution_count": 18,
   "id": "81d5878b",
   "metadata": {},
   "outputs": [
    {
     "data": {
      "text/plain": [
       "(1440295, 36)"
      ]
     },
     "execution_count": 18,
     "metadata": {},
     "output_type": "execute_result"
    }
   ],
   "source": [
    "# Checking the subset size\n",
    "low_activity_custs.shape"
   ]
  },
  {
   "cell_type": "code",
   "execution_count": 19,
   "id": "c9155ff6",
   "metadata": {},
   "outputs": [],
   "source": [
    "# Exporting the subset\n",
    "low_activity_custs.to_pickle(os.path.join(path, '02 Data', 'Prepared Data', 'low_act_custs.pkl'))"
   ]
  },
  {
   "cell_type": "code",
   "execution_count": 20,
   "id": "0fd85a39",
   "metadata": {},
   "outputs": [],
   "source": [
    "# Creating a subset for the normal activity customers\n",
    "ords_prods_custs_normal = ords_prods_custs[ords_prods_custs['activity_flag'] == 'normal_activity_customer']"
   ]
  },
  {
   "cell_type": "code",
   "execution_count": 21,
   "id": "f3b74709",
   "metadata": {},
   "outputs": [
    {
     "data": {
      "text/html": [
       "<div>\n",
       "<style scoped>\n",
       "    .dataframe tbody tr th:only-of-type {\n",
       "        vertical-align: middle;\n",
       "    }\n",
       "\n",
       "    .dataframe tbody tr th {\n",
       "        vertical-align: top;\n",
       "    }\n",
       "\n",
       "    .dataframe thead th {\n",
       "        text-align: right;\n",
       "    }\n",
       "</style>\n",
       "<table border=\"1\" class=\"dataframe\">\n",
       "  <thead>\n",
       "    <tr style=\"text-align: right;\">\n",
       "      <th></th>\n",
       "      <th>order_id</th>\n",
       "      <th>user_id</th>\n",
       "      <th>order_number</th>\n",
       "      <th>orders_day_of_week</th>\n",
       "      <th>order_hour_of_day</th>\n",
       "      <th>days_since_prior_order</th>\n",
       "      <th>new_customer</th>\n",
       "      <th>product_id</th>\n",
       "      <th>add_to_cart_order</th>\n",
       "      <th>reordered</th>\n",
       "      <th>...</th>\n",
       "      <th>surname</th>\n",
       "      <th>gender</th>\n",
       "      <th>state</th>\n",
       "      <th>age</th>\n",
       "      <th>date_registered</th>\n",
       "      <th>number_of_dependants</th>\n",
       "      <th>marital_status</th>\n",
       "      <th>income</th>\n",
       "      <th>region</th>\n",
       "      <th>activity_flag</th>\n",
       "    </tr>\n",
       "  </thead>\n",
       "  <tbody>\n",
       "    <tr>\n",
       "      <th>0</th>\n",
       "      <td>2539329</td>\n",
       "      <td>1</td>\n",
       "      <td>1</td>\n",
       "      <td>2</td>\n",
       "      <td>8</td>\n",
       "      <td>NaN</td>\n",
       "      <td>True</td>\n",
       "      <td>196</td>\n",
       "      <td>1</td>\n",
       "      <td>0</td>\n",
       "      <td>...</td>\n",
       "      <td>Nguyen</td>\n",
       "      <td>Female</td>\n",
       "      <td>Alabama</td>\n",
       "      <td>31</td>\n",
       "      <td>2/17/2019</td>\n",
       "      <td>3</td>\n",
       "      <td>married</td>\n",
       "      <td>40423</td>\n",
       "      <td>South</td>\n",
       "      <td>normal_activity_customer</td>\n",
       "    </tr>\n",
       "    <tr>\n",
       "      <th>1</th>\n",
       "      <td>2398795</td>\n",
       "      <td>1</td>\n",
       "      <td>2</td>\n",
       "      <td>3</td>\n",
       "      <td>7</td>\n",
       "      <td>15.0</td>\n",
       "      <td>False</td>\n",
       "      <td>196</td>\n",
       "      <td>1</td>\n",
       "      <td>1</td>\n",
       "      <td>...</td>\n",
       "      <td>Nguyen</td>\n",
       "      <td>Female</td>\n",
       "      <td>Alabama</td>\n",
       "      <td>31</td>\n",
       "      <td>2/17/2019</td>\n",
       "      <td>3</td>\n",
       "      <td>married</td>\n",
       "      <td>40423</td>\n",
       "      <td>South</td>\n",
       "      <td>normal_activity_customer</td>\n",
       "    </tr>\n",
       "    <tr>\n",
       "      <th>2</th>\n",
       "      <td>473747</td>\n",
       "      <td>1</td>\n",
       "      <td>3</td>\n",
       "      <td>3</td>\n",
       "      <td>12</td>\n",
       "      <td>21.0</td>\n",
       "      <td>False</td>\n",
       "      <td>196</td>\n",
       "      <td>1</td>\n",
       "      <td>1</td>\n",
       "      <td>...</td>\n",
       "      <td>Nguyen</td>\n",
       "      <td>Female</td>\n",
       "      <td>Alabama</td>\n",
       "      <td>31</td>\n",
       "      <td>2/17/2019</td>\n",
       "      <td>3</td>\n",
       "      <td>married</td>\n",
       "      <td>40423</td>\n",
       "      <td>South</td>\n",
       "      <td>normal_activity_customer</td>\n",
       "    </tr>\n",
       "    <tr>\n",
       "      <th>3</th>\n",
       "      <td>2254736</td>\n",
       "      <td>1</td>\n",
       "      <td>4</td>\n",
       "      <td>4</td>\n",
       "      <td>7</td>\n",
       "      <td>29.0</td>\n",
       "      <td>False</td>\n",
       "      <td>196</td>\n",
       "      <td>1</td>\n",
       "      <td>1</td>\n",
       "      <td>...</td>\n",
       "      <td>Nguyen</td>\n",
       "      <td>Female</td>\n",
       "      <td>Alabama</td>\n",
       "      <td>31</td>\n",
       "      <td>2/17/2019</td>\n",
       "      <td>3</td>\n",
       "      <td>married</td>\n",
       "      <td>40423</td>\n",
       "      <td>South</td>\n",
       "      <td>normal_activity_customer</td>\n",
       "    </tr>\n",
       "    <tr>\n",
       "      <th>4</th>\n",
       "      <td>431534</td>\n",
       "      <td>1</td>\n",
       "      <td>5</td>\n",
       "      <td>4</td>\n",
       "      <td>15</td>\n",
       "      <td>28.0</td>\n",
       "      <td>False</td>\n",
       "      <td>196</td>\n",
       "      <td>1</td>\n",
       "      <td>1</td>\n",
       "      <td>...</td>\n",
       "      <td>Nguyen</td>\n",
       "      <td>Female</td>\n",
       "      <td>Alabama</td>\n",
       "      <td>31</td>\n",
       "      <td>2/17/2019</td>\n",
       "      <td>3</td>\n",
       "      <td>married</td>\n",
       "      <td>40423</td>\n",
       "      <td>South</td>\n",
       "      <td>normal_activity_customer</td>\n",
       "    </tr>\n",
       "  </tbody>\n",
       "</table>\n",
       "<p>5 rows × 36 columns</p>\n",
       "</div>"
      ],
      "text/plain": [
       "   order_id  user_id  order_number  orders_day_of_week  order_hour_of_day  \\\n",
       "0   2539329        1             1                   2                  8   \n",
       "1   2398795        1             2                   3                  7   \n",
       "2    473747        1             3                   3                 12   \n",
       "3   2254736        1             4                   4                  7   \n",
       "4    431534        1             5                   4                 15   \n",
       "\n",
       "   days_since_prior_order  new_customer  product_id  add_to_cart_order  \\\n",
       "0                     NaN          True         196                  1   \n",
       "1                    15.0         False         196                  1   \n",
       "2                    21.0         False         196                  1   \n",
       "3                    29.0         False         196                  1   \n",
       "4                    28.0         False         196                  1   \n",
       "\n",
       "   reordered  ... surname  gender    state  age date_registered  \\\n",
       "0          0  ...  Nguyen  Female  Alabama   31       2/17/2019   \n",
       "1          1  ...  Nguyen  Female  Alabama   31       2/17/2019   \n",
       "2          1  ...  Nguyen  Female  Alabama   31       2/17/2019   \n",
       "3          1  ...  Nguyen  Female  Alabama   31       2/17/2019   \n",
       "4          1  ...  Nguyen  Female  Alabama   31       2/17/2019   \n",
       "\n",
       "  number_of_dependants marital_status income region             activity_flag  \n",
       "0                    3        married  40423  South  normal_activity_customer  \n",
       "1                    3        married  40423  South  normal_activity_customer  \n",
       "2                    3        married  40423  South  normal_activity_customer  \n",
       "3                    3        married  40423  South  normal_activity_customer  \n",
       "4                    3        married  40423  South  normal_activity_customer  \n",
       "\n",
       "[5 rows x 36 columns]"
      ]
     },
     "execution_count": 21,
     "metadata": {},
     "output_type": "execute_result"
    }
   ],
   "source": [
    "# Checking the subset\n",
    "ords_prods_custs_normal.head(5)"
   ]
  },
  {
   "cell_type": "code",
   "execution_count": 22,
   "id": "5791f910",
   "metadata": {},
   "outputs": [
    {
     "data": {
      "text/plain": [
       "(30964564, 36)"
      ]
     },
     "execution_count": 22,
     "metadata": {},
     "output_type": "execute_result"
    }
   ],
   "source": [
    "# Checking the subset's size\n",
    "ords_prods_custs_normal.shape"
   ]
  },
  {
   "cell_type": "code",
   "execution_count": 23,
   "id": "7f4410d5",
   "metadata": {},
   "outputs": [
    {
     "name": "stdout",
     "output_type": "stream",
     "text": [
      "<class 'pandas.core.frame.DataFrame'>\n",
      "Int64Index: 30964564 entries, 0 to 32404854\n",
      "Data columns (total 36 columns):\n",
      " #   Column                  Dtype   \n",
      "---  ------                  -----   \n",
      " 0   order_id                int64   \n",
      " 1   user_id                 int64   \n",
      " 2   order_number            int64   \n",
      " 3   orders_day_of_week      int64   \n",
      " 4   order_hour_of_day       int64   \n",
      " 5   days_since_prior_order  float64 \n",
      " 6   new_customer            bool    \n",
      " 7   product_id              int64   \n",
      " 8   add_to_cart_order       int64   \n",
      " 9   reordered               int64   \n",
      " 10  product_name            object  \n",
      " 11  aisle_id                int64   \n",
      " 12  department_id           int64   \n",
      " 13  prices                  float64 \n",
      " 14  _merge                  category\n",
      " 15  price_range_loc         object  \n",
      " 16  busiest_day             object  \n",
      " 17  Busiest_days            object  \n",
      " 18  busiest_period_of_day   object  \n",
      " 19  max_order               int64   \n",
      " 20  loyalty_flag            object  \n",
      " 21  avg_price               float64 \n",
      " 22  spending_flag           object  \n",
      " 23  median_order            float64 \n",
      " 24  order_frequency_flag    object  \n",
      " 25  first_name              object  \n",
      " 26  surname                 object  \n",
      " 27  gender                  object  \n",
      " 28  state                   object  \n",
      " 29  age                     int64   \n",
      " 30  date_registered         object  \n",
      " 31  number_of_dependants    int64   \n",
      " 32  marital_status          object  \n",
      " 33  income                  int64   \n",
      " 34  region                  object  \n",
      " 35  activity_flag           object  \n",
      "dtypes: bool(1), category(1), float64(4), int64(14), object(16)\n",
      "memory usage: 8.1+ GB\n"
     ]
    }
   ],
   "source": [
    "# Checking the subset's columns\n",
    "ords_prods_custs_normal.info()"
   ]
  },
  {
   "cell_type": "code",
   "execution_count": 24,
   "id": "aa0da74a",
   "metadata": {},
   "outputs": [
    {
     "data": {
      "text/plain": [
       "normal_activity_customer    30964564\n",
       "Name: activity_flag, dtype: int64"
      ]
     },
     "execution_count": 24,
     "metadata": {},
     "output_type": "execute_result"
    }
   ],
   "source": [
    "# Counting the values left on the new subset\n",
    "ords_prods_custs_normal['activity_flag'].value_counts(dropna = False)"
   ]
  },
  {
   "cell_type": "markdown",
   "id": "804a1f9f",
   "metadata": {},
   "source": [
    "The new df includes only the normal activity customers"
   ]
  },
  {
   "cell_type": "markdown",
   "id": "5bfd227a",
   "metadata": {},
   "source": [
    "QN 5 -- The marketing and business strategy units at Instacart want to create more-relevant marketing strategies for different products and are, thus, curious about customer profiling in their database. Create a profiling variable based on age, income, certain goods in the “department_id” column, and number of dependents. You might also use the “orders_day_of_the_week” and “order_hour_of_day” columns if you can think of a way they would impact customer profiles. (Hint: As an example, try thinking of what characteristics would lead you to the profile “Single adult” or “Young parent.”)"
   ]
  },
  {
   "cell_type": "markdown",
   "id": "66bc2c12",
   "metadata": {},
   "source": [
    "#### Age profiling\n",
    "\n",
    "For the age profiling I will use three categories:\n",
    "\n",
    "18-35 = Young\n",
    "\n",
    "36-60 = Middle aged\n",
    "\n",
    "over 60 = Senior"
   ]
  },
  {
   "cell_type": "code",
   "execution_count": 25,
   "id": "8c057523",
   "metadata": {},
   "outputs": [
    {
     "name": "stderr",
     "output_type": "stream",
     "text": [
      "/var/folders/3y/p4952z696432py_v1pq1tc6h0000gn/T/ipykernel_28253/4263175177.py:2: SettingWithCopyWarning: \n",
      "A value is trying to be set on a copy of a slice from a DataFrame.\n",
      "Try using .loc[row_indexer,col_indexer] = value instead\n",
      "\n",
      "See the caveats in the documentation: https://pandas.pydata.org/pandas-docs/stable/user_guide/indexing.html#returning-a-view-versus-a-copy\n",
      "  ords_prods_custs_normal.loc[(ords_prods_custs_normal['age']>=18)&(ords_prods_custs_normal['age']<=35),'age_group_flag']='Young'\n"
     ]
    }
   ],
   "source": [
    "# Creating the age group flag\n",
    "ords_prods_custs_normal.loc[(ords_prods_custs_normal['age']>=18)&(ords_prods_custs_normal['age']<=35),'age_group_flag']='Young'\n",
    "ords_prods_custs_normal.loc[(ords_prods_custs_normal['age']>=36)&(ords_prods_custs_normal['age']<=60),'age_group_flag']='Middle aged'\n",
    "ords_prods_custs_normal.loc[ords_prods_custs_normal['age']>60,'age_group_flag']='Senior'\n"
   ]
  },
  {
   "cell_type": "code",
   "execution_count": 26,
   "id": "cda9145f",
   "metadata": {},
   "outputs": [
    {
     "data": {
      "text/html": [
       "<div>\n",
       "<style scoped>\n",
       "    .dataframe tbody tr th:only-of-type {\n",
       "        vertical-align: middle;\n",
       "    }\n",
       "\n",
       "    .dataframe tbody tr th {\n",
       "        vertical-align: top;\n",
       "    }\n",
       "\n",
       "    .dataframe thead th {\n",
       "        text-align: right;\n",
       "    }\n",
       "</style>\n",
       "<table border=\"1\" class=\"dataframe\">\n",
       "  <thead>\n",
       "    <tr style=\"text-align: right;\">\n",
       "      <th></th>\n",
       "      <th>order_id</th>\n",
       "      <th>user_id</th>\n",
       "      <th>order_number</th>\n",
       "      <th>orders_day_of_week</th>\n",
       "      <th>order_hour_of_day</th>\n",
       "      <th>days_since_prior_order</th>\n",
       "      <th>new_customer</th>\n",
       "      <th>product_id</th>\n",
       "      <th>add_to_cart_order</th>\n",
       "      <th>reordered</th>\n",
       "      <th>...</th>\n",
       "      <th>gender</th>\n",
       "      <th>state</th>\n",
       "      <th>age</th>\n",
       "      <th>date_registered</th>\n",
       "      <th>number_of_dependants</th>\n",
       "      <th>marital_status</th>\n",
       "      <th>income</th>\n",
       "      <th>region</th>\n",
       "      <th>activity_flag</th>\n",
       "      <th>age_group_flag</th>\n",
       "    </tr>\n",
       "  </thead>\n",
       "  <tbody>\n",
       "    <tr>\n",
       "      <th>0</th>\n",
       "      <td>2539329</td>\n",
       "      <td>1</td>\n",
       "      <td>1</td>\n",
       "      <td>2</td>\n",
       "      <td>8</td>\n",
       "      <td>NaN</td>\n",
       "      <td>True</td>\n",
       "      <td>196</td>\n",
       "      <td>1</td>\n",
       "      <td>0</td>\n",
       "      <td>...</td>\n",
       "      <td>Female</td>\n",
       "      <td>Alabama</td>\n",
       "      <td>31</td>\n",
       "      <td>2/17/2019</td>\n",
       "      <td>3</td>\n",
       "      <td>married</td>\n",
       "      <td>40423</td>\n",
       "      <td>South</td>\n",
       "      <td>normal_activity_customer</td>\n",
       "      <td>Young</td>\n",
       "    </tr>\n",
       "    <tr>\n",
       "      <th>1</th>\n",
       "      <td>2398795</td>\n",
       "      <td>1</td>\n",
       "      <td>2</td>\n",
       "      <td>3</td>\n",
       "      <td>7</td>\n",
       "      <td>15.0</td>\n",
       "      <td>False</td>\n",
       "      <td>196</td>\n",
       "      <td>1</td>\n",
       "      <td>1</td>\n",
       "      <td>...</td>\n",
       "      <td>Female</td>\n",
       "      <td>Alabama</td>\n",
       "      <td>31</td>\n",
       "      <td>2/17/2019</td>\n",
       "      <td>3</td>\n",
       "      <td>married</td>\n",
       "      <td>40423</td>\n",
       "      <td>South</td>\n",
       "      <td>normal_activity_customer</td>\n",
       "      <td>Young</td>\n",
       "    </tr>\n",
       "    <tr>\n",
       "      <th>2</th>\n",
       "      <td>473747</td>\n",
       "      <td>1</td>\n",
       "      <td>3</td>\n",
       "      <td>3</td>\n",
       "      <td>12</td>\n",
       "      <td>21.0</td>\n",
       "      <td>False</td>\n",
       "      <td>196</td>\n",
       "      <td>1</td>\n",
       "      <td>1</td>\n",
       "      <td>...</td>\n",
       "      <td>Female</td>\n",
       "      <td>Alabama</td>\n",
       "      <td>31</td>\n",
       "      <td>2/17/2019</td>\n",
       "      <td>3</td>\n",
       "      <td>married</td>\n",
       "      <td>40423</td>\n",
       "      <td>South</td>\n",
       "      <td>normal_activity_customer</td>\n",
       "      <td>Young</td>\n",
       "    </tr>\n",
       "    <tr>\n",
       "      <th>3</th>\n",
       "      <td>2254736</td>\n",
       "      <td>1</td>\n",
       "      <td>4</td>\n",
       "      <td>4</td>\n",
       "      <td>7</td>\n",
       "      <td>29.0</td>\n",
       "      <td>False</td>\n",
       "      <td>196</td>\n",
       "      <td>1</td>\n",
       "      <td>1</td>\n",
       "      <td>...</td>\n",
       "      <td>Female</td>\n",
       "      <td>Alabama</td>\n",
       "      <td>31</td>\n",
       "      <td>2/17/2019</td>\n",
       "      <td>3</td>\n",
       "      <td>married</td>\n",
       "      <td>40423</td>\n",
       "      <td>South</td>\n",
       "      <td>normal_activity_customer</td>\n",
       "      <td>Young</td>\n",
       "    </tr>\n",
       "    <tr>\n",
       "      <th>4</th>\n",
       "      <td>431534</td>\n",
       "      <td>1</td>\n",
       "      <td>5</td>\n",
       "      <td>4</td>\n",
       "      <td>15</td>\n",
       "      <td>28.0</td>\n",
       "      <td>False</td>\n",
       "      <td>196</td>\n",
       "      <td>1</td>\n",
       "      <td>1</td>\n",
       "      <td>...</td>\n",
       "      <td>Female</td>\n",
       "      <td>Alabama</td>\n",
       "      <td>31</td>\n",
       "      <td>2/17/2019</td>\n",
       "      <td>3</td>\n",
       "      <td>married</td>\n",
       "      <td>40423</td>\n",
       "      <td>South</td>\n",
       "      <td>normal_activity_customer</td>\n",
       "      <td>Young</td>\n",
       "    </tr>\n",
       "  </tbody>\n",
       "</table>\n",
       "<p>5 rows × 37 columns</p>\n",
       "</div>"
      ],
      "text/plain": [
       "   order_id  user_id  order_number  orders_day_of_week  order_hour_of_day  \\\n",
       "0   2539329        1             1                   2                  8   \n",
       "1   2398795        1             2                   3                  7   \n",
       "2    473747        1             3                   3                 12   \n",
       "3   2254736        1             4                   4                  7   \n",
       "4    431534        1             5                   4                 15   \n",
       "\n",
       "   days_since_prior_order  new_customer  product_id  add_to_cart_order  \\\n",
       "0                     NaN          True         196                  1   \n",
       "1                    15.0         False         196                  1   \n",
       "2                    21.0         False         196                  1   \n",
       "3                    29.0         False         196                  1   \n",
       "4                    28.0         False         196                  1   \n",
       "\n",
       "   reordered  ...  gender    state  age  date_registered number_of_dependants  \\\n",
       "0          0  ...  Female  Alabama   31        2/17/2019                    3   \n",
       "1          1  ...  Female  Alabama   31        2/17/2019                    3   \n",
       "2          1  ...  Female  Alabama   31        2/17/2019                    3   \n",
       "3          1  ...  Female  Alabama   31        2/17/2019                    3   \n",
       "4          1  ...  Female  Alabama   31        2/17/2019                    3   \n",
       "\n",
       "  marital_status income region             activity_flag  age_group_flag  \n",
       "0        married  40423  South  normal_activity_customer           Young  \n",
       "1        married  40423  South  normal_activity_customer           Young  \n",
       "2        married  40423  South  normal_activity_customer           Young  \n",
       "3        married  40423  South  normal_activity_customer           Young  \n",
       "4        married  40423  South  normal_activity_customer           Young  \n",
       "\n",
       "[5 rows x 37 columns]"
      ]
     },
     "execution_count": 26,
     "metadata": {},
     "output_type": "execute_result"
    }
   ],
   "source": [
    "# Checking the df\n",
    "ords_prods_custs_normal.head(5)"
   ]
  },
  {
   "cell_type": "code",
   "execution_count": 27,
   "id": "09c43ee2",
   "metadata": {},
   "outputs": [
    {
     "data": {
      "text/plain": [
       "Middle aged    12113152\n",
       "Senior         10112607\n",
       "Young           8738805\n",
       "Name: age_group_flag, dtype: int64"
      ]
     },
     "execution_count": 27,
     "metadata": {},
     "output_type": "execute_result"
    }
   ],
   "source": [
    "# Checking the df\n",
    "ords_prods_custs_normal['age_group_flag'].value_counts(dropna=False)"
   ]
  },
  {
   "cell_type": "markdown",
   "id": "da8777a7",
   "metadata": {},
   "source": [
    "Income profiling\n",
    "\n",
    "For the income profiling I will use three categories:\n",
    "\n",
    "<30000 = Low income\n",
    "\n",
    "30000-100000 = Middle income\n",
    "\n",
    "over 100000 = High Income"
   ]
  },
  {
   "cell_type": "code",
   "execution_count": 28,
   "id": "8a588a29",
   "metadata": {},
   "outputs": [
    {
     "name": "stderr",
     "output_type": "stream",
     "text": [
      "/var/folders/3y/p4952z696432py_v1pq1tc6h0000gn/T/ipykernel_28253/3880375638.py:2: SettingWithCopyWarning: \n",
      "A value is trying to be set on a copy of a slice from a DataFrame.\n",
      "Try using .loc[row_indexer,col_indexer] = value instead\n",
      "\n",
      "See the caveats in the documentation: https://pandas.pydata.org/pandas-docs/stable/user_guide/indexing.html#returning-a-view-versus-a-copy\n",
      "  ords_prods_custs_normal.loc[(ords_prods_custs_normal['income']<=30000),'income_flag']='Low income'\n"
     ]
    }
   ],
   "source": [
    "# Creating the income flag\n",
    "ords_prods_custs_normal.loc[(ords_prods_custs_normal['income']<=30000),'income_flag']='Low income'\n",
    "ords_prods_custs_normal.loc[(ords_prods_custs_normal['income']>30000)&(ords_prods_custs_normal['income']<=100000),'income_flag']='Middle income'\n",
    "ords_prods_custs_normal.loc[ords_prods_custs_normal['income']>100000,'income_flag']='High income'\n"
   ]
  },
  {
   "cell_type": "code",
   "execution_count": 29,
   "id": "ecf3370c",
   "metadata": {},
   "outputs": [
    {
     "data": {
      "text/html": [
       "<div>\n",
       "<style scoped>\n",
       "    .dataframe tbody tr th:only-of-type {\n",
       "        vertical-align: middle;\n",
       "    }\n",
       "\n",
       "    .dataframe tbody tr th {\n",
       "        vertical-align: top;\n",
       "    }\n",
       "\n",
       "    .dataframe thead th {\n",
       "        text-align: right;\n",
       "    }\n",
       "</style>\n",
       "<table border=\"1\" class=\"dataframe\">\n",
       "  <thead>\n",
       "    <tr style=\"text-align: right;\">\n",
       "      <th></th>\n",
       "      <th>order_id</th>\n",
       "      <th>user_id</th>\n",
       "      <th>order_number</th>\n",
       "      <th>orders_day_of_week</th>\n",
       "      <th>order_hour_of_day</th>\n",
       "      <th>days_since_prior_order</th>\n",
       "      <th>new_customer</th>\n",
       "      <th>product_id</th>\n",
       "      <th>add_to_cart_order</th>\n",
       "      <th>reordered</th>\n",
       "      <th>...</th>\n",
       "      <th>state</th>\n",
       "      <th>age</th>\n",
       "      <th>date_registered</th>\n",
       "      <th>number_of_dependants</th>\n",
       "      <th>marital_status</th>\n",
       "      <th>income</th>\n",
       "      <th>region</th>\n",
       "      <th>activity_flag</th>\n",
       "      <th>age_group_flag</th>\n",
       "      <th>income_flag</th>\n",
       "    </tr>\n",
       "  </thead>\n",
       "  <tbody>\n",
       "    <tr>\n",
       "      <th>0</th>\n",
       "      <td>2539329</td>\n",
       "      <td>1</td>\n",
       "      <td>1</td>\n",
       "      <td>2</td>\n",
       "      <td>8</td>\n",
       "      <td>NaN</td>\n",
       "      <td>True</td>\n",
       "      <td>196</td>\n",
       "      <td>1</td>\n",
       "      <td>0</td>\n",
       "      <td>...</td>\n",
       "      <td>Alabama</td>\n",
       "      <td>31</td>\n",
       "      <td>2/17/2019</td>\n",
       "      <td>3</td>\n",
       "      <td>married</td>\n",
       "      <td>40423</td>\n",
       "      <td>South</td>\n",
       "      <td>normal_activity_customer</td>\n",
       "      <td>Young</td>\n",
       "      <td>Middle income</td>\n",
       "    </tr>\n",
       "  </tbody>\n",
       "</table>\n",
       "<p>1 rows × 38 columns</p>\n",
       "</div>"
      ],
      "text/plain": [
       "   order_id  user_id  order_number  orders_day_of_week  order_hour_of_day  \\\n",
       "0   2539329        1             1                   2                  8   \n",
       "\n",
       "   days_since_prior_order  new_customer  product_id  add_to_cart_order  \\\n",
       "0                     NaN          True         196                  1   \n",
       "\n",
       "   reordered  ...    state  age  date_registered  number_of_dependants  \\\n",
       "0          0  ...  Alabama   31        2/17/2019                     3   \n",
       "\n",
       "  marital_status income region             activity_flag age_group_flag  \\\n",
       "0        married  40423  South  normal_activity_customer          Young   \n",
       "\n",
       "     income_flag  \n",
       "0  Middle income  \n",
       "\n",
       "[1 rows x 38 columns]"
      ]
     },
     "execution_count": 29,
     "metadata": {},
     "output_type": "execute_result"
    }
   ],
   "source": [
    "# Checking the df\n",
    "ords_prods_custs_normal.head(1)"
   ]
  },
  {
   "cell_type": "code",
   "execution_count": 30,
   "id": "7b8d949e",
   "metadata": {},
   "outputs": [
    {
     "data": {
      "text/plain": [
       "Middle income    16563404\n",
       "High income      14207028\n",
       "Low income         194132\n",
       "Name: income_flag, dtype: int64"
      ]
     },
     "execution_count": 30,
     "metadata": {},
     "output_type": "execute_result"
    }
   ],
   "source": [
    "# Checking the df\n",
    "ords_prods_custs_normal['income_flag'].value_counts(dropna=False)"
   ]
  },
  {
   "cell_type": "markdown",
   "id": "d4f67289",
   "metadata": {},
   "source": [
    "#### Number of depenands profiling\n",
    "\n",
    "For the number of depenands profiling I will use three categories:\n",
    "\n",
    "0 depenands = Small household\n",
    "\n",
    "1-2 depenands = Medium household\n",
    "\n",
    "more than 3 depenands = Big Household\n"
   ]
  },
  {
   "cell_type": "code",
   "execution_count": 31,
   "id": "d0195539",
   "metadata": {},
   "outputs": [
    {
     "name": "stderr",
     "output_type": "stream",
     "text": [
      "/var/folders/3y/p4952z696432py_v1pq1tc6h0000gn/T/ipykernel_28253/649267388.py:2: SettingWithCopyWarning: \n",
      "A value is trying to be set on a copy of a slice from a DataFrame.\n",
      "Try using .loc[row_indexer,col_indexer] = value instead\n",
      "\n",
      "See the caveats in the documentation: https://pandas.pydata.org/pandas-docs/stable/user_guide/indexing.html#returning-a-view-versus-a-copy\n",
      "  ords_prods_custs_normal.loc[ords_prods_custs_normal['number_of_dependants'] <= 0 ,'household_flag']='Small household'\n"
     ]
    }
   ],
   "source": [
    "# Creating the household flag\n",
    "ords_prods_custs_normal.loc[ords_prods_custs_normal['number_of_dependants'] <= 0 ,'household_flag']='Small household'\n",
    "ords_prods_custs_normal.loc[(ords_prods_custs_normal['number_of_dependants'] >= 1) & (ords_prods_custs_normal['number_of_dependants'] <= 2),'household_flag']='Medium household'\n",
    "ords_prods_custs_normal.loc[ords_prods_custs_normal['number_of_dependants']>=3,'household_flag']='Big household'\n"
   ]
  },
  {
   "cell_type": "code",
   "execution_count": 32,
   "id": "5f05eab5",
   "metadata": {},
   "outputs": [
    {
     "data": {
      "text/html": [
       "<div>\n",
       "<style scoped>\n",
       "    .dataframe tbody tr th:only-of-type {\n",
       "        vertical-align: middle;\n",
       "    }\n",
       "\n",
       "    .dataframe tbody tr th {\n",
       "        vertical-align: top;\n",
       "    }\n",
       "\n",
       "    .dataframe thead th {\n",
       "        text-align: right;\n",
       "    }\n",
       "</style>\n",
       "<table border=\"1\" class=\"dataframe\">\n",
       "  <thead>\n",
       "    <tr style=\"text-align: right;\">\n",
       "      <th></th>\n",
       "      <th>order_id</th>\n",
       "      <th>user_id</th>\n",
       "      <th>order_number</th>\n",
       "      <th>orders_day_of_week</th>\n",
       "      <th>order_hour_of_day</th>\n",
       "      <th>days_since_prior_order</th>\n",
       "      <th>new_customer</th>\n",
       "      <th>product_id</th>\n",
       "      <th>add_to_cart_order</th>\n",
       "      <th>reordered</th>\n",
       "      <th>...</th>\n",
       "      <th>age</th>\n",
       "      <th>date_registered</th>\n",
       "      <th>number_of_dependants</th>\n",
       "      <th>marital_status</th>\n",
       "      <th>income</th>\n",
       "      <th>region</th>\n",
       "      <th>activity_flag</th>\n",
       "      <th>age_group_flag</th>\n",
       "      <th>income_flag</th>\n",
       "      <th>household_flag</th>\n",
       "    </tr>\n",
       "  </thead>\n",
       "  <tbody>\n",
       "    <tr>\n",
       "      <th>0</th>\n",
       "      <td>2539329</td>\n",
       "      <td>1</td>\n",
       "      <td>1</td>\n",
       "      <td>2</td>\n",
       "      <td>8</td>\n",
       "      <td>NaN</td>\n",
       "      <td>True</td>\n",
       "      <td>196</td>\n",
       "      <td>1</td>\n",
       "      <td>0</td>\n",
       "      <td>...</td>\n",
       "      <td>31</td>\n",
       "      <td>2/17/2019</td>\n",
       "      <td>3</td>\n",
       "      <td>married</td>\n",
       "      <td>40423</td>\n",
       "      <td>South</td>\n",
       "      <td>normal_activity_customer</td>\n",
       "      <td>Young</td>\n",
       "      <td>Middle income</td>\n",
       "      <td>Big household</td>\n",
       "    </tr>\n",
       "  </tbody>\n",
       "</table>\n",
       "<p>1 rows × 39 columns</p>\n",
       "</div>"
      ],
      "text/plain": [
       "   order_id  user_id  order_number  orders_day_of_week  order_hour_of_day  \\\n",
       "0   2539329        1             1                   2                  8   \n",
       "\n",
       "   days_since_prior_order  new_customer  product_id  add_to_cart_order  \\\n",
       "0                     NaN          True         196                  1   \n",
       "\n",
       "   reordered  ... age  date_registered  number_of_dependants  marital_status  \\\n",
       "0          0  ...  31        2/17/2019                     3         married   \n",
       "\n",
       "  income region             activity_flag age_group_flag    income_flag  \\\n",
       "0  40423  South  normal_activity_customer          Young  Middle income   \n",
       "\n",
       "   household_flag  \n",
       "0   Big household  \n",
       "\n",
       "[1 rows x 39 columns]"
      ]
     },
     "execution_count": 32,
     "metadata": {},
     "output_type": "execute_result"
    }
   ],
   "source": [
    "# Checking the df\n",
    "ords_prods_custs_normal.head(1)"
   ]
  },
  {
   "cell_type": "code",
   "execution_count": 33,
   "id": "a02d7712",
   "metadata": {},
   "outputs": [
    {
     "data": {
      "text/plain": [
       "Medium household    15452367\n",
       "Big household        7772516\n",
       "Small household      7739681\n",
       "Name: household_flag, dtype: int64"
      ]
     },
     "execution_count": 33,
     "metadata": {},
     "output_type": "execute_result"
    }
   ],
   "source": [
    "# Checking the df\n",
    "ords_prods_custs_normal['household_flag'].value_counts(dropna=False)"
   ]
  },
  {
   "cell_type": "code",
   "execution_count": 34,
   "id": "9ccb9a36",
   "metadata": {},
   "outputs": [
    {
     "data": {
      "text/html": [
       "<div>\n",
       "<style scoped>\n",
       "    .dataframe tbody tr th:only-of-type {\n",
       "        vertical-align: middle;\n",
       "    }\n",
       "\n",
       "    .dataframe tbody tr th {\n",
       "        vertical-align: top;\n",
       "    }\n",
       "\n",
       "    .dataframe thead th {\n",
       "        text-align: right;\n",
       "    }\n",
       "</style>\n",
       "<table border=\"1\" class=\"dataframe\">\n",
       "  <thead>\n",
       "    <tr style=\"text-align: right;\">\n",
       "      <th></th>\n",
       "      <th>order_id</th>\n",
       "      <th>user_id</th>\n",
       "      <th>order_number</th>\n",
       "      <th>orders_day_of_week</th>\n",
       "      <th>order_hour_of_day</th>\n",
       "      <th>days_since_prior_order</th>\n",
       "      <th>new_customer</th>\n",
       "      <th>product_id</th>\n",
       "      <th>add_to_cart_order</th>\n",
       "      <th>reordered</th>\n",
       "      <th>...</th>\n",
       "      <th>age</th>\n",
       "      <th>date_registered</th>\n",
       "      <th>number_of_dependants</th>\n",
       "      <th>marital_status</th>\n",
       "      <th>income</th>\n",
       "      <th>region</th>\n",
       "      <th>activity_flag</th>\n",
       "      <th>age_group_flag</th>\n",
       "      <th>income_flag</th>\n",
       "      <th>household_flag</th>\n",
       "    </tr>\n",
       "  </thead>\n",
       "  <tbody>\n",
       "    <tr>\n",
       "      <th>0</th>\n",
       "      <td>2539329</td>\n",
       "      <td>1</td>\n",
       "      <td>1</td>\n",
       "      <td>2</td>\n",
       "      <td>8</td>\n",
       "      <td>NaN</td>\n",
       "      <td>True</td>\n",
       "      <td>196</td>\n",
       "      <td>1</td>\n",
       "      <td>0</td>\n",
       "      <td>...</td>\n",
       "      <td>31</td>\n",
       "      <td>2/17/2019</td>\n",
       "      <td>3</td>\n",
       "      <td>married</td>\n",
       "      <td>40423</td>\n",
       "      <td>South</td>\n",
       "      <td>normal_activity_customer</td>\n",
       "      <td>Young</td>\n",
       "      <td>Middle income</td>\n",
       "      <td>Big household</td>\n",
       "    </tr>\n",
       "  </tbody>\n",
       "</table>\n",
       "<p>1 rows × 39 columns</p>\n",
       "</div>"
      ],
      "text/plain": [
       "   order_id  user_id  order_number  orders_day_of_week  order_hour_of_day  \\\n",
       "0   2539329        1             1                   2                  8   \n",
       "\n",
       "   days_since_prior_order  new_customer  product_id  add_to_cart_order  \\\n",
       "0                     NaN          True         196                  1   \n",
       "\n",
       "   reordered  ... age  date_registered  number_of_dependants  marital_status  \\\n",
       "0          0  ...  31        2/17/2019                     3         married   \n",
       "\n",
       "  income region             activity_flag age_group_flag    income_flag  \\\n",
       "0  40423  South  normal_activity_customer          Young  Middle income   \n",
       "\n",
       "   household_flag  \n",
       "0   Big household  \n",
       "\n",
       "[1 rows x 39 columns]"
      ]
     },
     "execution_count": 34,
     "metadata": {},
     "output_type": "execute_result"
    }
   ],
   "source": [
    "ords_prods_custs_normal.head(1)"
   ]
  },
  {
   "cell_type": "code",
   "execution_count": 35,
   "id": "fe74dc12",
   "metadata": {},
   "outputs": [
    {
     "data": {
      "text/plain": [
       "(30964564, 39)"
      ]
     },
     "execution_count": 35,
     "metadata": {},
     "output_type": "execute_result"
    }
   ],
   "source": [
    "ords_prods_custs_normal.shape"
   ]
  },
  {
   "cell_type": "markdown",
   "id": "af147c7a",
   "metadata": {},
   "source": [
    "#### Baby Profiling\n",
    "\n",
    "If a family is buying from department_id=18 (babies) and number of depenands > 0= young child\n",
    "\n",
    "If department_id is not 18 and number of depenands > 0= young child= older child\n"
   ]
  },
  {
   "cell_type": "code",
   "execution_count": 36,
   "id": "cbf28e64",
   "metadata": {},
   "outputs": [],
   "source": [
    "# Creating a subset for Babies\n",
    "babies = ords_prods_custs_normal[ords_prods_custs_normal['department_id']==18]"
   ]
  },
  {
   "cell_type": "code",
   "execution_count": 37,
   "id": "6382e144",
   "metadata": {},
   "outputs": [
    {
     "data": {
      "text/html": [
       "<div>\n",
       "<style scoped>\n",
       "    .dataframe tbody tr th:only-of-type {\n",
       "        vertical-align: middle;\n",
       "    }\n",
       "\n",
       "    .dataframe tbody tr th {\n",
       "        vertical-align: top;\n",
       "    }\n",
       "\n",
       "    .dataframe thead th {\n",
       "        text-align: right;\n",
       "    }\n",
       "</style>\n",
       "<table border=\"1\" class=\"dataframe\">\n",
       "  <thead>\n",
       "    <tr style=\"text-align: right;\">\n",
       "      <th></th>\n",
       "      <th>order_id</th>\n",
       "      <th>user_id</th>\n",
       "      <th>order_number</th>\n",
       "      <th>orders_day_of_week</th>\n",
       "      <th>order_hour_of_day</th>\n",
       "      <th>days_since_prior_order</th>\n",
       "      <th>new_customer</th>\n",
       "      <th>product_id</th>\n",
       "      <th>add_to_cart_order</th>\n",
       "      <th>reordered</th>\n",
       "      <th>...</th>\n",
       "      <th>age</th>\n",
       "      <th>date_registered</th>\n",
       "      <th>number_of_dependants</th>\n",
       "      <th>marital_status</th>\n",
       "      <th>income</th>\n",
       "      <th>region</th>\n",
       "      <th>activity_flag</th>\n",
       "      <th>age_group_flag</th>\n",
       "      <th>income_flag</th>\n",
       "      <th>household_flag</th>\n",
       "    </tr>\n",
       "  </thead>\n",
       "  <tbody>\n",
       "    <tr>\n",
       "      <th>1508</th>\n",
       "      <td>1382150</td>\n",
       "      <td>109</td>\n",
       "      <td>6</td>\n",
       "      <td>1</td>\n",
       "      <td>9</td>\n",
       "      <td>15.0</td>\n",
       "      <td>False</td>\n",
       "      <td>3858</td>\n",
       "      <td>5</td>\n",
       "      <td>0</td>\n",
       "      <td>...</td>\n",
       "      <td>67</td>\n",
       "      <td>7/29/2018</td>\n",
       "      <td>1</td>\n",
       "      <td>married</td>\n",
       "      <td>41805</td>\n",
       "      <td>North East</td>\n",
       "      <td>normal_activity_customer</td>\n",
       "      <td>Senior</td>\n",
       "      <td>Middle income</td>\n",
       "      <td>Medium household</td>\n",
       "    </tr>\n",
       "  </tbody>\n",
       "</table>\n",
       "<p>1 rows × 39 columns</p>\n",
       "</div>"
      ],
      "text/plain": [
       "      order_id  user_id  order_number  orders_day_of_week  order_hour_of_day  \\\n",
       "1508   1382150      109             6                   1                  9   \n",
       "\n",
       "      days_since_prior_order  new_customer  product_id  add_to_cart_order  \\\n",
       "1508                    15.0         False        3858                  5   \n",
       "\n",
       "      reordered  ... age  date_registered  number_of_dependants  \\\n",
       "1508          0  ...  67        7/29/2018                     1   \n",
       "\n",
       "      marital_status income      region             activity_flag  \\\n",
       "1508         married  41805  North East  normal_activity_customer   \n",
       "\n",
       "     age_group_flag    income_flag    household_flag  \n",
       "1508         Senior  Middle income  Medium household  \n",
       "\n",
       "[1 rows x 39 columns]"
      ]
     },
     "execution_count": 37,
     "metadata": {},
     "output_type": "execute_result"
    }
   ],
   "source": [
    "# Checking the df\n",
    "babies.head(1)"
   ]
  },
  {
   "cell_type": "markdown",
   "id": "c48df66a",
   "metadata": {},
   "source": [
    "### I run in major problems with the size of the new dfs that I created so far. There was no more space left in my laptop, so I decided to reduce the size of this subset and for the visualizations I will use sampling"
   ]
  },
  {
   "cell_type": "code",
   "execution_count": 38,
   "id": "df91f240",
   "metadata": {},
   "outputs": [],
   "source": [
    "# Reducing the size of the subset\n",
    "babies = babies[['user_id','department_id']]"
   ]
  },
  {
   "cell_type": "code",
   "execution_count": 40,
   "id": "cb5cd6f5",
   "metadata": {},
   "outputs": [
    {
     "data": {
      "text/html": [
       "<div>\n",
       "<style scoped>\n",
       "    .dataframe tbody tr th:only-of-type {\n",
       "        vertical-align: middle;\n",
       "    }\n",
       "\n",
       "    .dataframe tbody tr th {\n",
       "        vertical-align: top;\n",
       "    }\n",
       "\n",
       "    .dataframe thead th {\n",
       "        text-align: right;\n",
       "    }\n",
       "</style>\n",
       "<table border=\"1\" class=\"dataframe\">\n",
       "  <thead>\n",
       "    <tr style=\"text-align: right;\">\n",
       "      <th></th>\n",
       "      <th>user_id</th>\n",
       "      <th>department_id</th>\n",
       "    </tr>\n",
       "  </thead>\n",
       "  <tbody>\n",
       "    <tr>\n",
       "      <th>1508</th>\n",
       "      <td>109</td>\n",
       "      <td>18</td>\n",
       "    </tr>\n",
       "    <tr>\n",
       "      <th>2893</th>\n",
       "      <td>290</td>\n",
       "      <td>18</td>\n",
       "    </tr>\n",
       "    <tr>\n",
       "      <th>3508</th>\n",
       "      <td>290</td>\n",
       "      <td>18</td>\n",
       "    </tr>\n",
       "    <tr>\n",
       "      <th>3982</th>\n",
       "      <td>420</td>\n",
       "      <td>18</td>\n",
       "    </tr>\n",
       "    <tr>\n",
       "      <th>4030</th>\n",
       "      <td>420</td>\n",
       "      <td>18</td>\n",
       "    </tr>\n",
       "  </tbody>\n",
       "</table>\n",
       "</div>"
      ],
      "text/plain": [
       "      user_id  department_id\n",
       "1508      109             18\n",
       "2893      290             18\n",
       "3508      290             18\n",
       "3982      420             18\n",
       "4030      420             18"
      ]
     },
     "execution_count": 40,
     "metadata": {},
     "output_type": "execute_result"
    }
   ],
   "source": [
    "# Checking the subset\n",
    "babies.head() "
   ]
  },
  {
   "cell_type": "code",
   "execution_count": 41,
   "id": "5e05a416",
   "metadata": {},
   "outputs": [
    {
     "data": {
      "text/plain": [
       "(410392, 2)"
      ]
     },
     "execution_count": 41,
     "metadata": {},
     "output_type": "execute_result"
    }
   ],
   "source": [
    "# Checking the subset\n",
    "babies.shape"
   ]
  },
  {
   "cell_type": "code",
   "execution_count": 42,
   "id": "613a4f9b",
   "metadata": {},
   "outputs": [],
   "source": [
    "# Removing duplicates\n",
    "babies = babies.drop_duplicates()"
   ]
  },
  {
   "cell_type": "code",
   "execution_count": 43,
   "id": "1e2c9ec9",
   "metadata": {},
   "outputs": [
    {
     "data": {
      "text/plain": [
       "(30230, 2)"
      ]
     },
     "execution_count": 43,
     "metadata": {},
     "output_type": "execute_result"
    }
   ],
   "source": [
    "# Checking the subset\n",
    "babies.shape"
   ]
  },
  {
   "cell_type": "code",
   "execution_count": 44,
   "id": "90271d0e",
   "metadata": {},
   "outputs": [],
   "source": [
    "# Creating a list for babies\n",
    "list_babies = babies['user_id'].unique()"
   ]
  },
  {
   "cell_type": "code",
   "execution_count": 45,
   "id": "2c40b68f",
   "metadata": {},
   "outputs": [
    {
     "data": {
      "text/plain": [
       "array([   109,    290,    420, ..., 149691, 194803,  21688])"
      ]
     },
     "execution_count": 45,
     "metadata": {},
     "output_type": "execute_result"
    }
   ],
   "source": [
    "# Checking the list\n",
    "list_babies"
   ]
  },
  {
   "cell_type": "code",
   "execution_count": 46,
   "id": "5e932be9",
   "metadata": {},
   "outputs": [
    {
     "name": "stderr",
     "output_type": "stream",
     "text": [
      "/var/folders/3y/p4952z696432py_v1pq1tc6h0000gn/T/ipykernel_28253/3863877669.py:2: SettingWithCopyWarning: \n",
      "A value is trying to be set on a copy of a slice from a DataFrame.\n",
      "Try using .loc[row_indexer,col_indexer] = value instead\n",
      "\n",
      "See the caveats in the documentation: https://pandas.pydata.org/pandas-docs/stable/user_guide/indexing.html#returning-a-view-versus-a-copy\n",
      "  ords_prods_custs_normal.loc[(ords_prods_custs_normal['user_id'].isin(list_babies))&(ords_prods_custs_normal['number_of_dependants']>0),'baby_flag']='Young child'\n"
     ]
    }
   ],
   "source": [
    "# Creating the baby flag\n",
    "ords_prods_custs_normal.loc[(ords_prods_custs_normal['user_id'].isin(list_babies))&(ords_prods_custs_normal['number_of_dependants']>0),'baby_flag']='Young child'\n",
    "ords_prods_custs_normal.loc[(ords_prods_custs_normal['department_id']!=18)&(ords_prods_custs_normal['number_of_dependants']>0),'baby_flag']='Older child'\n",
    "ords_prods_custs_normal.loc[ords_prods_custs_normal['number_of_dependants']==0,'baby_flag']='No child'\n"
   ]
  },
  {
   "cell_type": "code",
   "execution_count": 47,
   "id": "34c94759",
   "metadata": {},
   "outputs": [
    {
     "data": {
      "text/html": [
       "<div>\n",
       "<style scoped>\n",
       "    .dataframe tbody tr th:only-of-type {\n",
       "        vertical-align: middle;\n",
       "    }\n",
       "\n",
       "    .dataframe tbody tr th {\n",
       "        vertical-align: top;\n",
       "    }\n",
       "\n",
       "    .dataframe thead th {\n",
       "        text-align: right;\n",
       "    }\n",
       "</style>\n",
       "<table border=\"1\" class=\"dataframe\">\n",
       "  <thead>\n",
       "    <tr style=\"text-align: right;\">\n",
       "      <th></th>\n",
       "      <th>order_id</th>\n",
       "      <th>user_id</th>\n",
       "      <th>order_number</th>\n",
       "      <th>orders_day_of_week</th>\n",
       "      <th>order_hour_of_day</th>\n",
       "      <th>days_since_prior_order</th>\n",
       "      <th>new_customer</th>\n",
       "      <th>product_id</th>\n",
       "      <th>add_to_cart_order</th>\n",
       "      <th>reordered</th>\n",
       "      <th>...</th>\n",
       "      <th>date_registered</th>\n",
       "      <th>number_of_dependants</th>\n",
       "      <th>marital_status</th>\n",
       "      <th>income</th>\n",
       "      <th>region</th>\n",
       "      <th>activity_flag</th>\n",
       "      <th>age_group_flag</th>\n",
       "      <th>income_flag</th>\n",
       "      <th>household_flag</th>\n",
       "      <th>baby_flag</th>\n",
       "    </tr>\n",
       "  </thead>\n",
       "  <tbody>\n",
       "    <tr>\n",
       "      <th>0</th>\n",
       "      <td>2539329</td>\n",
       "      <td>1</td>\n",
       "      <td>1</td>\n",
       "      <td>2</td>\n",
       "      <td>8</td>\n",
       "      <td>NaN</td>\n",
       "      <td>True</td>\n",
       "      <td>196</td>\n",
       "      <td>1</td>\n",
       "      <td>0</td>\n",
       "      <td>...</td>\n",
       "      <td>2/17/2019</td>\n",
       "      <td>3</td>\n",
       "      <td>married</td>\n",
       "      <td>40423</td>\n",
       "      <td>South</td>\n",
       "      <td>normal_activity_customer</td>\n",
       "      <td>Young</td>\n",
       "      <td>Middle income</td>\n",
       "      <td>Big household</td>\n",
       "      <td>Older child</td>\n",
       "    </tr>\n",
       "  </tbody>\n",
       "</table>\n",
       "<p>1 rows × 40 columns</p>\n",
       "</div>"
      ],
      "text/plain": [
       "   order_id  user_id  order_number  orders_day_of_week  order_hour_of_day  \\\n",
       "0   2539329        1             1                   2                  8   \n",
       "\n",
       "   days_since_prior_order  new_customer  product_id  add_to_cart_order  \\\n",
       "0                     NaN          True         196                  1   \n",
       "\n",
       "   reordered  ... date_registered  number_of_dependants  marital_status  \\\n",
       "0          0  ...       2/17/2019                     3         married   \n",
       "\n",
       "   income region             activity_flag age_group_flag    income_flag  \\\n",
       "0   40423  South  normal_activity_customer          Young  Middle income   \n",
       "\n",
       "  household_flag    baby_flag  \n",
       "0  Big household  Older child  \n",
       "\n",
       "[1 rows x 40 columns]"
      ]
     },
     "execution_count": 47,
     "metadata": {},
     "output_type": "execute_result"
    }
   ],
   "source": [
    "# Checking the df\n",
    "ords_prods_custs_normal.head(1)"
   ]
  },
  {
   "cell_type": "code",
   "execution_count": 48,
   "id": "7470cc0d",
   "metadata": {},
   "outputs": [
    {
     "data": {
      "text/plain": [
       "Older child    22917819\n",
       "No child        7739681\n",
       "Young child      307064\n",
       "Name: baby_flag, dtype: int64"
      ]
     },
     "execution_count": 48,
     "metadata": {},
     "output_type": "execute_result"
    }
   ],
   "source": [
    "# Checking the df\n",
    "ords_prods_custs_normal['baby_flag'].value_counts(dropna=False)"
   ]
  },
  {
   "cell_type": "markdown",
   "id": "146d3c4b",
   "metadata": {},
   "source": [
    "#### QN 6 --  Create an appropriate visualization to show the distribution of profiles."
   ]
  },
  {
   "cell_type": "code",
   "execution_count": 52,
   "id": "82cd5992",
   "metadata": {},
   "outputs": [],
   "source": [
    "# First I will create a sammple subset\n",
    "dev = np.random.rand(len(ords_prods_custs_normal)) <= 0.7"
   ]
  },
  {
   "cell_type": "code",
   "execution_count": 53,
   "id": "158b589e",
   "metadata": {},
   "outputs": [
    {
     "data": {
      "text/plain": [
       "array([ True, False,  True, ..., False,  True,  True])"
      ]
     },
     "execution_count": 53,
     "metadata": {},
     "output_type": "execute_result"
    }
   ],
   "source": [
    "dev"
   ]
  },
  {
   "cell_type": "code",
   "execution_count": 54,
   "id": "7154d3ba",
   "metadata": {},
   "outputs": [],
   "source": [
    "np.random.seed(4)"
   ]
  },
  {
   "cell_type": "code",
   "execution_count": 55,
   "id": "826cda48",
   "metadata": {},
   "outputs": [],
   "source": [
    "# Storing 70% of the df in the new df big\n",
    "big = ords_prods_custs_normal[dev]"
   ]
  },
  {
   "cell_type": "code",
   "execution_count": 56,
   "id": "320a3231",
   "metadata": {},
   "outputs": [],
   "source": [
    "# Storing 30% of the df in the new df smal\n",
    "small = ords_prods_custs_normal[~dev]"
   ]
  },
  {
   "cell_type": "code",
   "execution_count": 57,
   "id": "87decc50",
   "metadata": {},
   "outputs": [
    {
     "data": {
      "text/plain": [
       "30964564"
      ]
     },
     "execution_count": 57,
     "metadata": {},
     "output_type": "execute_result"
    }
   ],
   "source": [
    "# Checking if the size of the new dfs together is the same as \n",
    "len(ords_prods_custs_normal)"
   ]
  },
  {
   "cell_type": "code",
   "execution_count": 58,
   "id": "e1c396f9",
   "metadata": {},
   "outputs": [
    {
     "data": {
      "text/plain": [
       "30964564"
      ]
     },
     "execution_count": 58,
     "metadata": {},
     "output_type": "execute_result"
    }
   ],
   "source": [
    "len(big)+len(small)"
   ]
  },
  {
   "cell_type": "code",
   "execution_count": 59,
   "id": "01439308",
   "metadata": {},
   "outputs": [
    {
     "data": {
      "text/html": [
       "<div>\n",
       "<style scoped>\n",
       "    .dataframe tbody tr th:only-of-type {\n",
       "        vertical-align: middle;\n",
       "    }\n",
       "\n",
       "    .dataframe tbody tr th {\n",
       "        vertical-align: top;\n",
       "    }\n",
       "\n",
       "    .dataframe thead th {\n",
       "        text-align: right;\n",
       "    }\n",
       "</style>\n",
       "<table border=\"1\" class=\"dataframe\">\n",
       "  <thead>\n",
       "    <tr style=\"text-align: right;\">\n",
       "      <th></th>\n",
       "      <th>order_id</th>\n",
       "      <th>user_id</th>\n",
       "      <th>order_number</th>\n",
       "      <th>orders_day_of_week</th>\n",
       "      <th>order_hour_of_day</th>\n",
       "      <th>days_since_prior_order</th>\n",
       "      <th>new_customer</th>\n",
       "      <th>product_id</th>\n",
       "      <th>add_to_cart_order</th>\n",
       "      <th>reordered</th>\n",
       "      <th>...</th>\n",
       "      <th>date_registered</th>\n",
       "      <th>number_of_dependants</th>\n",
       "      <th>marital_status</th>\n",
       "      <th>income</th>\n",
       "      <th>region</th>\n",
       "      <th>activity_flag</th>\n",
       "      <th>age_group_flag</th>\n",
       "      <th>income_flag</th>\n",
       "      <th>household_flag</th>\n",
       "      <th>baby_flag</th>\n",
       "    </tr>\n",
       "  </thead>\n",
       "  <tbody>\n",
       "    <tr>\n",
       "      <th>1</th>\n",
       "      <td>2398795</td>\n",
       "      <td>1</td>\n",
       "      <td>2</td>\n",
       "      <td>3</td>\n",
       "      <td>7</td>\n",
       "      <td>15.0</td>\n",
       "      <td>False</td>\n",
       "      <td>196</td>\n",
       "      <td>1</td>\n",
       "      <td>1</td>\n",
       "      <td>...</td>\n",
       "      <td>2/17/2019</td>\n",
       "      <td>3</td>\n",
       "      <td>married</td>\n",
       "      <td>40423</td>\n",
       "      <td>South</td>\n",
       "      <td>normal_activity_customer</td>\n",
       "      <td>Young</td>\n",
       "      <td>Middle income</td>\n",
       "      <td>Big household</td>\n",
       "      <td>Older child</td>\n",
       "    </tr>\n",
       "  </tbody>\n",
       "</table>\n",
       "<p>1 rows × 40 columns</p>\n",
       "</div>"
      ],
      "text/plain": [
       "   order_id  user_id  order_number  orders_day_of_week  order_hour_of_day  \\\n",
       "1   2398795        1             2                   3                  7   \n",
       "\n",
       "   days_since_prior_order  new_customer  product_id  add_to_cart_order  \\\n",
       "1                    15.0         False         196                  1   \n",
       "\n",
       "   reordered  ... date_registered  number_of_dependants  marital_status  \\\n",
       "1          1  ...       2/17/2019                     3         married   \n",
       "\n",
       "   income region             activity_flag age_group_flag    income_flag  \\\n",
       "1   40423  South  normal_activity_customer          Young  Middle income   \n",
       "\n",
       "  household_flag    baby_flag  \n",
       "1  Big household  Older child  \n",
       "\n",
       "[1 rows x 40 columns]"
      ]
     },
     "execution_count": 59,
     "metadata": {},
     "output_type": "execute_result"
    }
   ],
   "source": [
    "small.head(1)"
   ]
  },
  {
   "cell_type": "markdown",
   "id": "52dd67bb",
   "metadata": {},
   "source": [
    "#### Age group"
   ]
  },
  {
   "cell_type": "code",
   "execution_count": 61,
   "id": "bba09aaa",
   "metadata": {},
   "outputs": [
    {
     "data": {
      "image/png": "[encoded data removed]",
      "text/plain": [
       "<Figure size 640x480 with 1 Axes>"
      ]
     },
     "metadata": {},
     "output_type": "display_data"
    }
   ],
   "source": [
    "# Bar chart for age group\n",
    "barchart_age_group=small['age_group_flag'].value_counts().plot.bar()"
   ]
  },
  {
   "cell_type": "markdown",
   "id": "dc42b0bd",
   "metadata": {},
   "source": [
    "#### Income"
   ]
  },
  {
   "cell_type": "code",
   "execution_count": 62,
   "id": "7f7a1d0f",
   "metadata": {},
   "outputs": [
    {
     "data": {
      "image/png": "[encoded data removed]",
      "text/plain": [
       "<Figure size 640x480 with 1 Axes>"
      ]
     },
     "metadata": {},
     "output_type": "display_data"
    }
   ],
   "source": [
    "# Bar chart for Income\n",
    "barchart_income=small['income_flag'].value_counts().plot.bar()"
   ]
  },
  {
   "cell_type": "code",
   "execution_count": 63,
   "id": "36b6f3ea",
   "metadata": {},
   "outputs": [
    {
     "data": {
      "image/png": "[encoded data removed]",
      "text/plain": [
       "<Figure size 640x480 with 1 Axes>"
      ]
     },
     "metadata": {},
     "output_type": "display_data"
    }
   ],
   "source": [
    "# Bar chart for household size\n",
    "barchart_household_size=small['household_flag'].value_counts().plot.bar()"
   ]
  },
  {
   "cell_type": "markdown",
   "id": "9d1e5b8b",
   "metadata": {},
   "source": [
    "#### Child age in household"
   ]
  },
  {
   "cell_type": "code",
   "execution_count": 64,
   "id": "7ed00c3d",
   "metadata": {},
   "outputs": [
    {
     "data": {
      "image/png": "[encoded data removed]",
      "text/plain": [
       "<Figure size 640x480 with 1 Axes>"
      ]
     },
     "metadata": {},
     "output_type": "display_data"
    }
   ],
   "source": [
    "# Bar chart for child age\n",
    "barchart_child=small['baby_flag'].value_counts().plot.bar()"
   ]
  },
  {
   "cell_type": "markdown",
   "id": "05525db5",
   "metadata": {},
   "source": [
    "#### QN 7 -- Aggregate the max, mean, and min variables on a customer-profile level for usage frequency and expenditure."
   ]
  },
  {
   "cell_type": "code",
   "execution_count": 66,
   "id": "9549d215",
   "metadata": {},
   "outputs": [
    {
     "name": "stdout",
     "output_type": "stream",
     "text": [
      "<class 'pandas.core.frame.DataFrame'>\n",
      "Int64Index: 30964564 entries, 0 to 32404854\n",
      "Data columns (total 40 columns):\n",
      " #   Column                  Dtype   \n",
      "---  ------                  -----   \n",
      " 0   order_id                int64   \n",
      " 1   user_id                 int64   \n",
      " 2   order_number            int64   \n",
      " 3   orders_day_of_week      int64   \n",
      " 4   order_hour_of_day       int64   \n",
      " 5   days_since_prior_order  float64 \n",
      " 6   new_customer            bool    \n",
      " 7   product_id              int64   \n",
      " 8   add_to_cart_order       int64   \n",
      " 9   reordered               int64   \n",
      " 10  product_name            object  \n",
      " 11  aisle_id                int64   \n",
      " 12  department_id           int64   \n",
      " 13  prices                  float64 \n",
      " 14  _merge                  category\n",
      " 15  price_range_loc         object  \n",
      " 16  busiest_day             object  \n",
      " 17  Busiest_days            object  \n",
      " 18  busiest_period_of_day   object  \n",
      " 19  max_order               int64   \n",
      " 20  loyalty_flag            object  \n",
      " 21  avg_price               float64 \n",
      " 22  spending_flag           object  \n",
      " 23  median_order            float64 \n",
      " 24  order_frequency_flag    object  \n",
      " 25  first_name              object  \n",
      " 26  surname                 object  \n",
      " 27  gender                  object  \n",
      " 28  state                   object  \n",
      " 29  age                     int64   \n",
      " 30  date_registered         object  \n",
      " 31  number_of_dependants    int64   \n",
      " 32  marital_status          object  \n",
      " 33  income                  int64   \n",
      " 34  region                  object  \n",
      " 35  activity_flag           object  \n",
      " 36  age_group_flag          object  \n",
      " 37  income_flag             object  \n",
      " 38  household_flag          object  \n",
      " 39  baby_flag               object  \n",
      "dtypes: bool(1), category(1), float64(4), int64(14), object(20)\n",
      "memory usage: 9.1+ GB\n"
     ]
    }
   ],
   "source": [
    "# Checking the df\n",
    "ords_prods_custs_normal.info()"
   ]
  },
  {
   "cell_type": "markdown",
   "id": "423b6b01",
   "metadata": {},
   "source": [
    "#### Age"
   ]
  },
  {
   "cell_type": "code",
   "execution_count": 67,
   "id": "6f5f6b24",
   "metadata": {},
   "outputs": [
    {
     "data": {
      "text/html": [
       "<div>\n",
       "<style scoped>\n",
       "    .dataframe tbody tr th:only-of-type {\n",
       "        vertical-align: middle;\n",
       "    }\n",
       "\n",
       "    .dataframe tbody tr th {\n",
       "        vertical-align: top;\n",
       "    }\n",
       "\n",
       "    .dataframe thead tr th {\n",
       "        text-align: left;\n",
       "    }\n",
       "\n",
       "    .dataframe thead tr:last-of-type th {\n",
       "        text-align: right;\n",
       "    }\n",
       "</style>\n",
       "<table border=\"1\" class=\"dataframe\">\n",
       "  <thead>\n",
       "    <tr>\n",
       "      <th></th>\n",
       "      <th colspan=\"3\" halign=\"left\">days_since_prior_order</th>\n",
       "    </tr>\n",
       "    <tr>\n",
       "      <th></th>\n",
       "      <th>mean</th>\n",
       "      <th>min</th>\n",
       "      <th>max</th>\n",
       "    </tr>\n",
       "    <tr>\n",
       "      <th>age_group_flag</th>\n",
       "      <th></th>\n",
       "      <th></th>\n",
       "      <th></th>\n",
       "    </tr>\n",
       "  </thead>\n",
       "  <tbody>\n",
       "    <tr>\n",
       "      <th>Middle aged</th>\n",
       "      <td>10.812179</td>\n",
       "      <td>0.0</td>\n",
       "      <td>30.0</td>\n",
       "    </tr>\n",
       "    <tr>\n",
       "      <th>Senior</th>\n",
       "      <td>10.791879</td>\n",
       "      <td>0.0</td>\n",
       "      <td>30.0</td>\n",
       "    </tr>\n",
       "    <tr>\n",
       "      <th>Young</th>\n",
       "      <td>10.829007</td>\n",
       "      <td>0.0</td>\n",
       "      <td>30.0</td>\n",
       "    </tr>\n",
       "  </tbody>\n",
       "</table>\n",
       "</div>"
      ],
      "text/plain": [
       "               days_since_prior_order           \n",
       "                                 mean  min   max\n",
       "age_group_flag                                  \n",
       "Middle aged                 10.812179  0.0  30.0\n",
       "Senior                      10.791879  0.0  30.0\n",
       "Young                       10.829007  0.0  30.0"
      ]
     },
     "execution_count": 67,
     "metadata": {},
     "output_type": "execute_result"
    }
   ],
   "source": [
    "# Aggregating frequency per age\n",
    "ords_prods_custs_normal.groupby('age_group_flag').agg({'days_since_prior_order':['mean', 'min','max']})"
   ]
  },
  {
   "cell_type": "code",
   "execution_count": 68,
   "id": "b86ed7f8",
   "metadata": {},
   "outputs": [
    {
     "data": {
      "text/html": [
       "<div>\n",
       "<style scoped>\n",
       "    .dataframe tbody tr th:only-of-type {\n",
       "        vertical-align: middle;\n",
       "    }\n",
       "\n",
       "    .dataframe tbody tr th {\n",
       "        vertical-align: top;\n",
       "    }\n",
       "\n",
       "    .dataframe thead tr th {\n",
       "        text-align: left;\n",
       "    }\n",
       "\n",
       "    .dataframe thead tr:last-of-type th {\n",
       "        text-align: right;\n",
       "    }\n",
       "</style>\n",
       "<table border=\"1\" class=\"dataframe\">\n",
       "  <thead>\n",
       "    <tr>\n",
       "      <th></th>\n",
       "      <th colspan=\"3\" halign=\"left\">prices</th>\n",
       "    </tr>\n",
       "    <tr>\n",
       "      <th></th>\n",
       "      <th>mean</th>\n",
       "      <th>min</th>\n",
       "      <th>max</th>\n",
       "    </tr>\n",
       "    <tr>\n",
       "      <th>age_group_flag</th>\n",
       "      <th></th>\n",
       "      <th></th>\n",
       "      <th></th>\n",
       "    </tr>\n",
       "  </thead>\n",
       "  <tbody>\n",
       "    <tr>\n",
       "      <th>Middle aged</th>\n",
       "      <td>7.790531</td>\n",
       "      <td>1.0</td>\n",
       "      <td>25.0</td>\n",
       "    </tr>\n",
       "    <tr>\n",
       "      <th>Senior</th>\n",
       "      <td>7.796144</td>\n",
       "      <td>1.0</td>\n",
       "      <td>25.0</td>\n",
       "    </tr>\n",
       "    <tr>\n",
       "      <th>Young</th>\n",
       "      <td>7.784246</td>\n",
       "      <td>1.0</td>\n",
       "      <td>25.0</td>\n",
       "    </tr>\n",
       "  </tbody>\n",
       "</table>\n",
       "</div>"
      ],
      "text/plain": [
       "                  prices           \n",
       "                    mean  min   max\n",
       "age_group_flag                     \n",
       "Middle aged     7.790531  1.0  25.0\n",
       "Senior          7.796144  1.0  25.0\n",
       "Young           7.784246  1.0  25.0"
      ]
     },
     "execution_count": 68,
     "metadata": {},
     "output_type": "execute_result"
    }
   ],
   "source": [
    "# Aggregating expenditure per age\n",
    "ords_prods_custs_normal.groupby('age_group_flag').agg({'prices':['mean', 'min','max']})"
   ]
  },
  {
   "cell_type": "markdown",
   "id": "227d62a8",
   "metadata": {},
   "source": [
    "#### Income"
   ]
  },
  {
   "cell_type": "code",
   "execution_count": 69,
   "id": "e43968a9",
   "metadata": {},
   "outputs": [
    {
     "data": {
      "text/html": [
       "<div>\n",
       "<style scoped>\n",
       "    .dataframe tbody tr th:only-of-type {\n",
       "        vertical-align: middle;\n",
       "    }\n",
       "\n",
       "    .dataframe tbody tr th {\n",
       "        vertical-align: top;\n",
       "    }\n",
       "\n",
       "    .dataframe thead tr th {\n",
       "        text-align: left;\n",
       "    }\n",
       "\n",
       "    .dataframe thead tr:last-of-type th {\n",
       "        text-align: right;\n",
       "    }\n",
       "</style>\n",
       "<table border=\"1\" class=\"dataframe\">\n",
       "  <thead>\n",
       "    <tr>\n",
       "      <th></th>\n",
       "      <th colspan=\"3\" halign=\"left\">days_since_prior_order</th>\n",
       "    </tr>\n",
       "    <tr>\n",
       "      <th></th>\n",
       "      <th>mean</th>\n",
       "      <th>min</th>\n",
       "      <th>max</th>\n",
       "    </tr>\n",
       "    <tr>\n",
       "      <th>income_flag</th>\n",
       "      <th></th>\n",
       "      <th></th>\n",
       "      <th></th>\n",
       "    </tr>\n",
       "  </thead>\n",
       "  <tbody>\n",
       "    <tr>\n",
       "      <th>High income</th>\n",
       "      <td>10.769663</td>\n",
       "      <td>0.0</td>\n",
       "      <td>30.0</td>\n",
       "    </tr>\n",
       "    <tr>\n",
       "      <th>Low income</th>\n",
       "      <td>11.595375</td>\n",
       "      <td>0.0</td>\n",
       "      <td>30.0</td>\n",
       "    </tr>\n",
       "    <tr>\n",
       "      <th>Middle income</th>\n",
       "      <td>10.836047</td>\n",
       "      <td>0.0</td>\n",
       "      <td>30.0</td>\n",
       "    </tr>\n",
       "  </tbody>\n",
       "</table>\n",
       "</div>"
      ],
      "text/plain": [
       "              days_since_prior_order           \n",
       "                                mean  min   max\n",
       "income_flag                                    \n",
       "High income                10.769663  0.0  30.0\n",
       "Low income                 11.595375  0.0  30.0\n",
       "Middle income              10.836047  0.0  30.0"
      ]
     },
     "execution_count": 69,
     "metadata": {},
     "output_type": "execute_result"
    }
   ],
   "source": [
    "# Aggregating frequency per income\n",
    "ords_prods_custs_normal.groupby('income_flag').agg({'days_since_prior_order':['mean', 'min','max']})"
   ]
  },
  {
   "cell_type": "code",
   "execution_count": 72,
   "id": "14da85d8",
   "metadata": {},
   "outputs": [
    {
     "data": {
      "text/html": [
       "<div>\n",
       "<style scoped>\n",
       "    .dataframe tbody tr th:only-of-type {\n",
       "        vertical-align: middle;\n",
       "    }\n",
       "\n",
       "    .dataframe tbody tr th {\n",
       "        vertical-align: top;\n",
       "    }\n",
       "\n",
       "    .dataframe thead tr th {\n",
       "        text-align: left;\n",
       "    }\n",
       "\n",
       "    .dataframe thead tr:last-of-type th {\n",
       "        text-align: right;\n",
       "    }\n",
       "</style>\n",
       "<table border=\"1\" class=\"dataframe\">\n",
       "  <thead>\n",
       "    <tr>\n",
       "      <th></th>\n",
       "      <th colspan=\"3\" halign=\"left\">prices</th>\n",
       "    </tr>\n",
       "    <tr>\n",
       "      <th></th>\n",
       "      <th>mean</th>\n",
       "      <th>min</th>\n",
       "      <th>max</th>\n",
       "    </tr>\n",
       "    <tr>\n",
       "      <th>income_flag</th>\n",
       "      <th></th>\n",
       "      <th></th>\n",
       "      <th></th>\n",
       "    </tr>\n",
       "  </thead>\n",
       "  <tbody>\n",
       "    <tr>\n",
       "      <th>High income</th>\n",
       "      <td>7.953438</td>\n",
       "      <td>1.0</td>\n",
       "      <td>25.0</td>\n",
       "    </tr>\n",
       "    <tr>\n",
       "      <th>Low income</th>\n",
       "      <td>6.532439</td>\n",
       "      <td>1.0</td>\n",
       "      <td>25.0</td>\n",
       "    </tr>\n",
       "    <tr>\n",
       "      <th>Middle income</th>\n",
       "      <td>7.665700</td>\n",
       "      <td>1.0</td>\n",
       "      <td>25.0</td>\n",
       "    </tr>\n",
       "  </tbody>\n",
       "</table>\n",
       "</div>"
      ],
      "text/plain": [
       "                 prices           \n",
       "                   mean  min   max\n",
       "income_flag                       \n",
       "High income    7.953438  1.0  25.0\n",
       "Low income     6.532439  1.0  25.0\n",
       "Middle income  7.665700  1.0  25.0"
      ]
     },
     "execution_count": 72,
     "metadata": {},
     "output_type": "execute_result"
    }
   ],
   "source": [
    "# Aggregating expenditure per income\n",
    "ords_prods_custs_normal.groupby('income_flag').agg({'prices':['mean', 'min','max']})"
   ]
  },
  {
   "cell_type": "markdown",
   "id": "57833d88",
   "metadata": {},
   "source": [
    "#### Household size\n"
   ]
  },
  {
   "cell_type": "code",
   "execution_count": 71,
   "id": "58be3ce8",
   "metadata": {},
   "outputs": [
    {
     "data": {
      "text/html": [
       "<div>\n",
       "<style scoped>\n",
       "    .dataframe tbody tr th:only-of-type {\n",
       "        vertical-align: middle;\n",
       "    }\n",
       "\n",
       "    .dataframe tbody tr th {\n",
       "        vertical-align: top;\n",
       "    }\n",
       "\n",
       "    .dataframe thead tr th {\n",
       "        text-align: left;\n",
       "    }\n",
       "\n",
       "    .dataframe thead tr:last-of-type th {\n",
       "        text-align: right;\n",
       "    }\n",
       "</style>\n",
       "<table border=\"1\" class=\"dataframe\">\n",
       "  <thead>\n",
       "    <tr>\n",
       "      <th></th>\n",
       "      <th colspan=\"3\" halign=\"left\">days_since_prior_order</th>\n",
       "    </tr>\n",
       "    <tr>\n",
       "      <th></th>\n",
       "      <th>mean</th>\n",
       "      <th>min</th>\n",
       "      <th>max</th>\n",
       "    </tr>\n",
       "    <tr>\n",
       "      <th>household_flag</th>\n",
       "      <th></th>\n",
       "      <th></th>\n",
       "      <th></th>\n",
       "    </tr>\n",
       "  </thead>\n",
       "  <tbody>\n",
       "    <tr>\n",
       "      <th>Big household</th>\n",
       "      <td>10.816223</td>\n",
       "      <td>0.0</td>\n",
       "      <td>30.0</td>\n",
       "    </tr>\n",
       "    <tr>\n",
       "      <th>Medium household</th>\n",
       "      <td>10.816513</td>\n",
       "      <td>0.0</td>\n",
       "      <td>30.0</td>\n",
       "    </tr>\n",
       "    <tr>\n",
       "      <th>Small household</th>\n",
       "      <td>10.791951</td>\n",
       "      <td>0.0</td>\n",
       "      <td>30.0</td>\n",
       "    </tr>\n",
       "  </tbody>\n",
       "</table>\n",
       "</div>"
      ],
      "text/plain": [
       "                 days_since_prior_order           \n",
       "                                   mean  min   max\n",
       "household_flag                                    \n",
       "Big household                 10.816223  0.0  30.0\n",
       "Medium household              10.816513  0.0  30.0\n",
       "Small household               10.791951  0.0  30.0"
      ]
     },
     "execution_count": 71,
     "metadata": {},
     "output_type": "execute_result"
    }
   ],
   "source": [
    "# Aggregating frequency per household size\n",
    "ords_prods_custs_normal.groupby('household_flag').agg({'days_since_prior_order':['mean', 'min','max']})"
   ]
  },
  {
   "cell_type": "code",
   "execution_count": 73,
   "id": "9a2ccb9c",
   "metadata": {},
   "outputs": [
    {
     "data": {
      "text/html": [
       "<div>\n",
       "<style scoped>\n",
       "    .dataframe tbody tr th:only-of-type {\n",
       "        vertical-align: middle;\n",
       "    }\n",
       "\n",
       "    .dataframe tbody tr th {\n",
       "        vertical-align: top;\n",
       "    }\n",
       "\n",
       "    .dataframe thead tr th {\n",
       "        text-align: left;\n",
       "    }\n",
       "\n",
       "    .dataframe thead tr:last-of-type th {\n",
       "        text-align: right;\n",
       "    }\n",
       "</style>\n",
       "<table border=\"1\" class=\"dataframe\">\n",
       "  <thead>\n",
       "    <tr>\n",
       "      <th></th>\n",
       "      <th colspan=\"3\" halign=\"left\">prices</th>\n",
       "    </tr>\n",
       "    <tr>\n",
       "      <th></th>\n",
       "      <th>mean</th>\n",
       "      <th>min</th>\n",
       "      <th>max</th>\n",
       "    </tr>\n",
       "    <tr>\n",
       "      <th>household_flag</th>\n",
       "      <th></th>\n",
       "      <th></th>\n",
       "      <th></th>\n",
       "    </tr>\n",
       "  </thead>\n",
       "  <tbody>\n",
       "    <tr>\n",
       "      <th>Big household</th>\n",
       "      <td>7.792886</td>\n",
       "      <td>1.0</td>\n",
       "      <td>25.0</td>\n",
       "    </tr>\n",
       "    <tr>\n",
       "      <th>Medium household</th>\n",
       "      <td>7.789957</td>\n",
       "      <td>1.0</td>\n",
       "      <td>25.0</td>\n",
       "    </tr>\n",
       "    <tr>\n",
       "      <th>Small household</th>\n",
       "      <td>7.789550</td>\n",
       "      <td>1.0</td>\n",
       "      <td>25.0</td>\n",
       "    </tr>\n",
       "  </tbody>\n",
       "</table>\n",
       "</div>"
      ],
      "text/plain": [
       "                    prices           \n",
       "                      mean  min   max\n",
       "household_flag                       \n",
       "Big household     7.792886  1.0  25.0\n",
       "Medium household  7.789957  1.0  25.0\n",
       "Small household   7.789550  1.0  25.0"
      ]
     },
     "execution_count": 73,
     "metadata": {},
     "output_type": "execute_result"
    }
   ],
   "source": [
    "# Aggregating expenditure per household size\n",
    "ords_prods_custs_normal.groupby('household_flag').agg({'prices':['mean', 'min','max']})"
   ]
  },
  {
   "cell_type": "markdown",
   "id": "fd8feb1f",
   "metadata": {},
   "source": [
    "#### Child age"
   ]
  },
  {
   "cell_type": "code",
   "execution_count": 75,
   "id": "dca6763a",
   "metadata": {},
   "outputs": [
    {
     "data": {
      "text/html": [
       "<div>\n",
       "<style scoped>\n",
       "    .dataframe tbody tr th:only-of-type {\n",
       "        vertical-align: middle;\n",
       "    }\n",
       "\n",
       "    .dataframe tbody tr th {\n",
       "        vertical-align: top;\n",
       "    }\n",
       "\n",
       "    .dataframe thead tr th {\n",
       "        text-align: left;\n",
       "    }\n",
       "\n",
       "    .dataframe thead tr:last-of-type th {\n",
       "        text-align: right;\n",
       "    }\n",
       "</style>\n",
       "<table border=\"1\" class=\"dataframe\">\n",
       "  <thead>\n",
       "    <tr>\n",
       "      <th></th>\n",
       "      <th colspan=\"3\" halign=\"left\">days_since_prior_order</th>\n",
       "    </tr>\n",
       "    <tr>\n",
       "      <th></th>\n",
       "      <th>mean</th>\n",
       "      <th>min</th>\n",
       "      <th>max</th>\n",
       "    </tr>\n",
       "    <tr>\n",
       "      <th>baby_flag</th>\n",
       "      <th></th>\n",
       "      <th></th>\n",
       "      <th></th>\n",
       "    </tr>\n",
       "  </thead>\n",
       "  <tbody>\n",
       "    <tr>\n",
       "      <th>No child</th>\n",
       "      <td>10.791951</td>\n",
       "      <td>0.0</td>\n",
       "      <td>30.0</td>\n",
       "    </tr>\n",
       "    <tr>\n",
       "      <th>Older child</th>\n",
       "      <td>10.831001</td>\n",
       "      <td>0.0</td>\n",
       "      <td>30.0</td>\n",
       "    </tr>\n",
       "    <tr>\n",
       "      <th>Young child</th>\n",
       "      <td>9.737722</td>\n",
       "      <td>0.0</td>\n",
       "      <td>30.0</td>\n",
       "    </tr>\n",
       "  </tbody>\n",
       "</table>\n",
       "</div>"
      ],
      "text/plain": [
       "            days_since_prior_order           \n",
       "                              mean  min   max\n",
       "baby_flag                                    \n",
       "No child                 10.791951  0.0  30.0\n",
       "Older child              10.831001  0.0  30.0\n",
       "Young child               9.737722  0.0  30.0"
      ]
     },
     "execution_count": 75,
     "metadata": {},
     "output_type": "execute_result"
    }
   ],
   "source": [
    "# Aggregating frequency per child age\n",
    "ords_prods_custs_normal.groupby('baby_flag').agg({'days_since_prior_order':['mean', 'min','max']})"
   ]
  },
  {
   "cell_type": "code",
   "execution_count": 76,
   "id": "6a5636f9",
   "metadata": {},
   "outputs": [
    {
     "data": {
      "text/html": [
       "<div>\n",
       "<style scoped>\n",
       "    .dataframe tbody tr th:only-of-type {\n",
       "        vertical-align: middle;\n",
       "    }\n",
       "\n",
       "    .dataframe tbody tr th {\n",
       "        vertical-align: top;\n",
       "    }\n",
       "\n",
       "    .dataframe thead tr th {\n",
       "        text-align: left;\n",
       "    }\n",
       "\n",
       "    .dataframe thead tr:last-of-type th {\n",
       "        text-align: right;\n",
       "    }\n",
       "</style>\n",
       "<table border=\"1\" class=\"dataframe\">\n",
       "  <thead>\n",
       "    <tr>\n",
       "      <th></th>\n",
       "      <th colspan=\"3\" halign=\"left\">prices</th>\n",
       "    </tr>\n",
       "    <tr>\n",
       "      <th></th>\n",
       "      <th>mean</th>\n",
       "      <th>min</th>\n",
       "      <th>max</th>\n",
       "    </tr>\n",
       "    <tr>\n",
       "      <th>baby_flag</th>\n",
       "      <th></th>\n",
       "      <th></th>\n",
       "      <th></th>\n",
       "    </tr>\n",
       "  </thead>\n",
       "  <tbody>\n",
       "    <tr>\n",
       "      <th>No child</th>\n",
       "      <td>7.789550</td>\n",
       "      <td>1.0</td>\n",
       "      <td>25.0</td>\n",
       "    </tr>\n",
       "    <tr>\n",
       "      <th>Older child</th>\n",
       "      <td>7.792857</td>\n",
       "      <td>1.0</td>\n",
       "      <td>25.0</td>\n",
       "    </tr>\n",
       "    <tr>\n",
       "      <th>Young child</th>\n",
       "      <td>7.647681</td>\n",
       "      <td>1.0</td>\n",
       "      <td>15.0</td>\n",
       "    </tr>\n",
       "  </tbody>\n",
       "</table>\n",
       "</div>"
      ],
      "text/plain": [
       "               prices           \n",
       "                 mean  min   max\n",
       "baby_flag                       \n",
       "No child     7.789550  1.0  25.0\n",
       "Older child  7.792857  1.0  25.0\n",
       "Young child  7.647681  1.0  15.0"
      ]
     },
     "execution_count": 76,
     "metadata": {},
     "output_type": "execute_result"
    }
   ],
   "source": [
    "# Aggregating expenditure per child age\n",
    "ords_prods_custs_normal.groupby('baby_flag').agg({'prices':['mean', 'min','max']})"
   ]
  },
  {
   "cell_type": "markdown",
   "id": "4ca3f456",
   "metadata": {},
   "source": [
    "#### QN 8 -- Compare your customer profiles with regions and departments. Can you identify a link between them? Customers may demonstrate different behaviors across regions, which could make this information important.\n"
   ]
  },
  {
   "cell_type": "code",
   "execution_count": 131,
   "id": "68c99598",
   "metadata": {},
   "outputs": [],
   "source": [
    "# Importing departments dataframe\n",
    "dept = pd.read_csv(os.path.join(path, '02 Data', 'Prepared Data', 'departments_wrangled.csv'))"
   ]
  },
  {
   "cell_type": "code",
   "execution_count": 132,
   "id": "30a1a0f3",
   "metadata": {},
   "outputs": [
    {
     "data": {
      "text/html": [
       "<div>\n",
       "<style scoped>\n",
       "    .dataframe tbody tr th:only-of-type {\n",
       "        vertical-align: middle;\n",
       "    }\n",
       "\n",
       "    .dataframe tbody tr th {\n",
       "        vertical-align: top;\n",
       "    }\n",
       "\n",
       "    .dataframe thead th {\n",
       "        text-align: right;\n",
       "    }\n",
       "</style>\n",
       "<table border=\"1\" class=\"dataframe\">\n",
       "  <thead>\n",
       "    <tr style=\"text-align: right;\">\n",
       "      <th></th>\n",
       "      <th>Unnamed: 0</th>\n",
       "      <th>department</th>\n",
       "    </tr>\n",
       "  </thead>\n",
       "  <tbody>\n",
       "    <tr>\n",
       "      <th>0</th>\n",
       "      <td>1</td>\n",
       "      <td>frozen</td>\n",
       "    </tr>\n",
       "    <tr>\n",
       "      <th>1</th>\n",
       "      <td>2</td>\n",
       "      <td>other</td>\n",
       "    </tr>\n",
       "    <tr>\n",
       "      <th>2</th>\n",
       "      <td>3</td>\n",
       "      <td>bakery</td>\n",
       "    </tr>\n",
       "    <tr>\n",
       "      <th>3</th>\n",
       "      <td>4</td>\n",
       "      <td>produce</td>\n",
       "    </tr>\n",
       "    <tr>\n",
       "      <th>4</th>\n",
       "      <td>5</td>\n",
       "      <td>alcohol</td>\n",
       "    </tr>\n",
       "    <tr>\n",
       "      <th>5</th>\n",
       "      <td>6</td>\n",
       "      <td>international</td>\n",
       "    </tr>\n",
       "    <tr>\n",
       "      <th>6</th>\n",
       "      <td>7</td>\n",
       "      <td>beverages</td>\n",
       "    </tr>\n",
       "    <tr>\n",
       "      <th>7</th>\n",
       "      <td>8</td>\n",
       "      <td>pets</td>\n",
       "    </tr>\n",
       "    <tr>\n",
       "      <th>8</th>\n",
       "      <td>9</td>\n",
       "      <td>dry goods pasta</td>\n",
       "    </tr>\n",
       "    <tr>\n",
       "      <th>9</th>\n",
       "      <td>10</td>\n",
       "      <td>bulk</td>\n",
       "    </tr>\n",
       "    <tr>\n",
       "      <th>10</th>\n",
       "      <td>11</td>\n",
       "      <td>personal care</td>\n",
       "    </tr>\n",
       "    <tr>\n",
       "      <th>11</th>\n",
       "      <td>12</td>\n",
       "      <td>meat seafood</td>\n",
       "    </tr>\n",
       "    <tr>\n",
       "      <th>12</th>\n",
       "      <td>13</td>\n",
       "      <td>pantry</td>\n",
       "    </tr>\n",
       "    <tr>\n",
       "      <th>13</th>\n",
       "      <td>14</td>\n",
       "      <td>breakfast</td>\n",
       "    </tr>\n",
       "    <tr>\n",
       "      <th>14</th>\n",
       "      <td>15</td>\n",
       "      <td>canned goods</td>\n",
       "    </tr>\n",
       "    <tr>\n",
       "      <th>15</th>\n",
       "      <td>16</td>\n",
       "      <td>dairy eggs</td>\n",
       "    </tr>\n",
       "    <tr>\n",
       "      <th>16</th>\n",
       "      <td>17</td>\n",
       "      <td>household</td>\n",
       "    </tr>\n",
       "    <tr>\n",
       "      <th>17</th>\n",
       "      <td>18</td>\n",
       "      <td>babies</td>\n",
       "    </tr>\n",
       "    <tr>\n",
       "      <th>18</th>\n",
       "      <td>19</td>\n",
       "      <td>snacks</td>\n",
       "    </tr>\n",
       "    <tr>\n",
       "      <th>19</th>\n",
       "      <td>20</td>\n",
       "      <td>deli</td>\n",
       "    </tr>\n",
       "    <tr>\n",
       "      <th>20</th>\n",
       "      <td>21</td>\n",
       "      <td>missing</td>\n",
       "    </tr>\n",
       "  </tbody>\n",
       "</table>\n",
       "</div>"
      ],
      "text/plain": [
       "    Unnamed: 0       department\n",
       "0            1           frozen\n",
       "1            2            other\n",
       "2            3           bakery\n",
       "3            4          produce\n",
       "4            5          alcohol\n",
       "5            6    international\n",
       "6            7        beverages\n",
       "7            8             pets\n",
       "8            9  dry goods pasta\n",
       "9           10             bulk\n",
       "10          11    personal care\n",
       "11          12     meat seafood\n",
       "12          13           pantry\n",
       "13          14        breakfast\n",
       "14          15     canned goods\n",
       "15          16       dairy eggs\n",
       "16          17        household\n",
       "17          18           babies\n",
       "18          19           snacks\n",
       "19          20             deli\n",
       "20          21          missing"
      ]
     },
     "execution_count": 132,
     "metadata": {},
     "output_type": "execute_result"
    }
   ],
   "source": [
    "dept"
   ]
  },
  {
   "cell_type": "code",
   "execution_count": 134,
   "id": "0243ccca",
   "metadata": {},
   "outputs": [],
   "source": [
    "# Renaming Unnamed:0 column = department_id\n",
    "dept.rename(columns ={'Unnamed: 0': 'department_id'}, inplace = True)"
   ]
  },
  {
   "cell_type": "code",
   "execution_count": 135,
   "id": "c03bbb24",
   "metadata": {},
   "outputs": [
    {
     "data": {
      "text/html": [
       "<div>\n",
       "<style scoped>\n",
       "    .dataframe tbody tr th:only-of-type {\n",
       "        vertical-align: middle;\n",
       "    }\n",
       "\n",
       "    .dataframe tbody tr th {\n",
       "        vertical-align: top;\n",
       "    }\n",
       "\n",
       "    .dataframe thead th {\n",
       "        text-align: right;\n",
       "    }\n",
       "</style>\n",
       "<table border=\"1\" class=\"dataframe\">\n",
       "  <thead>\n",
       "    <tr style=\"text-align: right;\">\n",
       "      <th></th>\n",
       "      <th>department_id</th>\n",
       "      <th>department</th>\n",
       "    </tr>\n",
       "  </thead>\n",
       "  <tbody>\n",
       "    <tr>\n",
       "      <th>0</th>\n",
       "      <td>1</td>\n",
       "      <td>frozen</td>\n",
       "    </tr>\n",
       "    <tr>\n",
       "      <th>1</th>\n",
       "      <td>2</td>\n",
       "      <td>other</td>\n",
       "    </tr>\n",
       "    <tr>\n",
       "      <th>2</th>\n",
       "      <td>3</td>\n",
       "      <td>bakery</td>\n",
       "    </tr>\n",
       "    <tr>\n",
       "      <th>3</th>\n",
       "      <td>4</td>\n",
       "      <td>produce</td>\n",
       "    </tr>\n",
       "    <tr>\n",
       "      <th>4</th>\n",
       "      <td>5</td>\n",
       "      <td>alcohol</td>\n",
       "    </tr>\n",
       "    <tr>\n",
       "      <th>5</th>\n",
       "      <td>6</td>\n",
       "      <td>international</td>\n",
       "    </tr>\n",
       "    <tr>\n",
       "      <th>6</th>\n",
       "      <td>7</td>\n",
       "      <td>beverages</td>\n",
       "    </tr>\n",
       "    <tr>\n",
       "      <th>7</th>\n",
       "      <td>8</td>\n",
       "      <td>pets</td>\n",
       "    </tr>\n",
       "    <tr>\n",
       "      <th>8</th>\n",
       "      <td>9</td>\n",
       "      <td>dry goods pasta</td>\n",
       "    </tr>\n",
       "    <tr>\n",
       "      <th>9</th>\n",
       "      <td>10</td>\n",
       "      <td>bulk</td>\n",
       "    </tr>\n",
       "    <tr>\n",
       "      <th>10</th>\n",
       "      <td>11</td>\n",
       "      <td>personal care</td>\n",
       "    </tr>\n",
       "    <tr>\n",
       "      <th>11</th>\n",
       "      <td>12</td>\n",
       "      <td>meat seafood</td>\n",
       "    </tr>\n",
       "    <tr>\n",
       "      <th>12</th>\n",
       "      <td>13</td>\n",
       "      <td>pantry</td>\n",
       "    </tr>\n",
       "    <tr>\n",
       "      <th>13</th>\n",
       "      <td>14</td>\n",
       "      <td>breakfast</td>\n",
       "    </tr>\n",
       "    <tr>\n",
       "      <th>14</th>\n",
       "      <td>15</td>\n",
       "      <td>canned goods</td>\n",
       "    </tr>\n",
       "    <tr>\n",
       "      <th>15</th>\n",
       "      <td>16</td>\n",
       "      <td>dairy eggs</td>\n",
       "    </tr>\n",
       "    <tr>\n",
       "      <th>16</th>\n",
       "      <td>17</td>\n",
       "      <td>household</td>\n",
       "    </tr>\n",
       "    <tr>\n",
       "      <th>17</th>\n",
       "      <td>18</td>\n",
       "      <td>babies</td>\n",
       "    </tr>\n",
       "    <tr>\n",
       "      <th>18</th>\n",
       "      <td>19</td>\n",
       "      <td>snacks</td>\n",
       "    </tr>\n",
       "    <tr>\n",
       "      <th>19</th>\n",
       "      <td>20</td>\n",
       "      <td>deli</td>\n",
       "    </tr>\n",
       "    <tr>\n",
       "      <th>20</th>\n",
       "      <td>21</td>\n",
       "      <td>missing</td>\n",
       "    </tr>\n",
       "  </tbody>\n",
       "</table>\n",
       "</div>"
      ],
      "text/plain": [
       "    department_id       department\n",
       "0               1           frozen\n",
       "1               2            other\n",
       "2               3           bakery\n",
       "3               4          produce\n",
       "4               5          alcohol\n",
       "5               6    international\n",
       "6               7        beverages\n",
       "7               8             pets\n",
       "8               9  dry goods pasta\n",
       "9              10             bulk\n",
       "10             11    personal care\n",
       "11             12     meat seafood\n",
       "12             13           pantry\n",
       "13             14        breakfast\n",
       "14             15     canned goods\n",
       "15             16       dairy eggs\n",
       "16             17        household\n",
       "17             18           babies\n",
       "18             19           snacks\n",
       "19             20             deli\n",
       "20             21          missing"
      ]
     },
     "execution_count": 135,
     "metadata": {},
     "output_type": "execute_result"
    }
   ],
   "source": [
    "# Checking the df\n",
    "dept"
   ]
  },
  {
   "cell_type": "code",
   "execution_count": 136,
   "id": "abf8b2da",
   "metadata": {},
   "outputs": [
    {
     "data": {
      "text/plain": [
       "{1: 'frozen',\n",
       " 2: 'other',\n",
       " 3: 'bakery',\n",
       " 4: 'produce',\n",
       " 5: 'alcohol',\n",
       " 6: 'international',\n",
       " 7: 'beverages',\n",
       " 8: 'pets',\n",
       " 9: 'dry goods pasta',\n",
       " 10: 'bulk',\n",
       " 11: 'personal care',\n",
       " 12: 'meat seafood',\n",
       " 13: 'pantry',\n",
       " 14: 'breakfast',\n",
       " 15: 'canned goods',\n",
       " 16: 'dairy eggs',\n",
       " 17: 'household',\n",
       " 18: 'babies',\n",
       " 19: 'snacks',\n",
       " 20: 'deli',\n",
       " 21: 'missing'}"
      ]
     },
     "execution_count": 136,
     "metadata": {},
     "output_type": "execute_result"
    }
   ],
   "source": [
    "# Turning department dataframe into data dictionary\n",
    "zipped=zip(dept['department_id'], dept['department'])\n",
    "data_dict=dict(zipped)\n",
    "data_dict"
   ]
  },
  {
   "cell_type": "code",
   "execution_count": 137,
   "id": "578f3849",
   "metadata": {},
   "outputs": [
    {
     "name": "stderr",
     "output_type": "stream",
     "text": [
      "/var/folders/3y/p4952z696432py_v1pq1tc6h0000gn/T/ipykernel_28253/2584066056.py:2: SettingWithCopyWarning: \n",
      "A value is trying to be set on a copy of a slice from a DataFrame.\n",
      "Try using .loc[row_indexer,col_indexer] = value instead\n",
      "\n",
      "See the caveats in the documentation: https://pandas.pydata.org/pandas-docs/stable/user_guide/indexing.html#returning-a-view-versus-a-copy\n",
      "  ords_prods_custs_normal['department'] = ords_prods_custs_normal['department_id'].map(data_dict)\n"
     ]
    }
   ],
   "source": [
    "# department names = department_id \n",
    "ords_prods_custs_normal['department'] = ords_prods_custs_normal['department_id'].map(data_dict)"
   ]
  },
  {
   "cell_type": "code",
   "execution_count": 138,
   "id": "8703f29c",
   "metadata": {},
   "outputs": [
    {
     "data": {
      "text/html": [
       "<div>\n",
       "<style scoped>\n",
       "    .dataframe tbody tr th:only-of-type {\n",
       "        vertical-align: middle;\n",
       "    }\n",
       "\n",
       "    .dataframe tbody tr th {\n",
       "        vertical-align: top;\n",
       "    }\n",
       "\n",
       "    .dataframe thead th {\n",
       "        text-align: right;\n",
       "    }\n",
       "</style>\n",
       "<table border=\"1\" class=\"dataframe\">\n",
       "  <thead>\n",
       "    <tr style=\"text-align: right;\">\n",
       "      <th></th>\n",
       "      <th>order_id</th>\n",
       "      <th>user_id</th>\n",
       "      <th>order_number</th>\n",
       "      <th>orders_day_of_week</th>\n",
       "      <th>order_hour_of_day</th>\n",
       "      <th>days_since_prior_order</th>\n",
       "      <th>new_customer</th>\n",
       "      <th>product_id</th>\n",
       "      <th>add_to_cart_order</th>\n",
       "      <th>reordered</th>\n",
       "      <th>...</th>\n",
       "      <th>number_of_dependants</th>\n",
       "      <th>marital_status</th>\n",
       "      <th>income</th>\n",
       "      <th>region</th>\n",
       "      <th>activity_flag</th>\n",
       "      <th>age_group_flag</th>\n",
       "      <th>income_flag</th>\n",
       "      <th>household_flag</th>\n",
       "      <th>baby_flag</th>\n",
       "      <th>department</th>\n",
       "    </tr>\n",
       "  </thead>\n",
       "  <tbody>\n",
       "    <tr>\n",
       "      <th>0</th>\n",
       "      <td>2539329</td>\n",
       "      <td>1</td>\n",
       "      <td>1</td>\n",
       "      <td>2</td>\n",
       "      <td>8</td>\n",
       "      <td>NaN</td>\n",
       "      <td>True</td>\n",
       "      <td>196</td>\n",
       "      <td>1</td>\n",
       "      <td>0</td>\n",
       "      <td>...</td>\n",
       "      <td>3</td>\n",
       "      <td>married</td>\n",
       "      <td>40423</td>\n",
       "      <td>South</td>\n",
       "      <td>normal_activity_customer</td>\n",
       "      <td>Young</td>\n",
       "      <td>Middle income</td>\n",
       "      <td>Big household</td>\n",
       "      <td>Older child</td>\n",
       "      <td>beverages</td>\n",
       "    </tr>\n",
       "    <tr>\n",
       "      <th>1</th>\n",
       "      <td>2398795</td>\n",
       "      <td>1</td>\n",
       "      <td>2</td>\n",
       "      <td>3</td>\n",
       "      <td>7</td>\n",
       "      <td>15.0</td>\n",
       "      <td>False</td>\n",
       "      <td>196</td>\n",
       "      <td>1</td>\n",
       "      <td>1</td>\n",
       "      <td>...</td>\n",
       "      <td>3</td>\n",
       "      <td>married</td>\n",
       "      <td>40423</td>\n",
       "      <td>South</td>\n",
       "      <td>normal_activity_customer</td>\n",
       "      <td>Young</td>\n",
       "      <td>Middle income</td>\n",
       "      <td>Big household</td>\n",
       "      <td>Older child</td>\n",
       "      <td>beverages</td>\n",
       "    </tr>\n",
       "    <tr>\n",
       "      <th>2</th>\n",
       "      <td>473747</td>\n",
       "      <td>1</td>\n",
       "      <td>3</td>\n",
       "      <td>3</td>\n",
       "      <td>12</td>\n",
       "      <td>21.0</td>\n",
       "      <td>False</td>\n",
       "      <td>196</td>\n",
       "      <td>1</td>\n",
       "      <td>1</td>\n",
       "      <td>...</td>\n",
       "      <td>3</td>\n",
       "      <td>married</td>\n",
       "      <td>40423</td>\n",
       "      <td>South</td>\n",
       "      <td>normal_activity_customer</td>\n",
       "      <td>Young</td>\n",
       "      <td>Middle income</td>\n",
       "      <td>Big household</td>\n",
       "      <td>Older child</td>\n",
       "      <td>beverages</td>\n",
       "    </tr>\n",
       "    <tr>\n",
       "      <th>3</th>\n",
       "      <td>2254736</td>\n",
       "      <td>1</td>\n",
       "      <td>4</td>\n",
       "      <td>4</td>\n",
       "      <td>7</td>\n",
       "      <td>29.0</td>\n",
       "      <td>False</td>\n",
       "      <td>196</td>\n",
       "      <td>1</td>\n",
       "      <td>1</td>\n",
       "      <td>...</td>\n",
       "      <td>3</td>\n",
       "      <td>married</td>\n",
       "      <td>40423</td>\n",
       "      <td>South</td>\n",
       "      <td>normal_activity_customer</td>\n",
       "      <td>Young</td>\n",
       "      <td>Middle income</td>\n",
       "      <td>Big household</td>\n",
       "      <td>Older child</td>\n",
       "      <td>beverages</td>\n",
       "    </tr>\n",
       "    <tr>\n",
       "      <th>4</th>\n",
       "      <td>431534</td>\n",
       "      <td>1</td>\n",
       "      <td>5</td>\n",
       "      <td>4</td>\n",
       "      <td>15</td>\n",
       "      <td>28.0</td>\n",
       "      <td>False</td>\n",
       "      <td>196</td>\n",
       "      <td>1</td>\n",
       "      <td>1</td>\n",
       "      <td>...</td>\n",
       "      <td>3</td>\n",
       "      <td>married</td>\n",
       "      <td>40423</td>\n",
       "      <td>South</td>\n",
       "      <td>normal_activity_customer</td>\n",
       "      <td>Young</td>\n",
       "      <td>Middle income</td>\n",
       "      <td>Big household</td>\n",
       "      <td>Older child</td>\n",
       "      <td>beverages</td>\n",
       "    </tr>\n",
       "  </tbody>\n",
       "</table>\n",
       "<p>5 rows × 41 columns</p>\n",
       "</div>"
      ],
      "text/plain": [
       "   order_id  user_id  order_number  orders_day_of_week  order_hour_of_day  \\\n",
       "0   2539329        1             1                   2                  8   \n",
       "1   2398795        1             2                   3                  7   \n",
       "2    473747        1             3                   3                 12   \n",
       "3   2254736        1             4                   4                  7   \n",
       "4    431534        1             5                   4                 15   \n",
       "\n",
       "   days_since_prior_order  new_customer  product_id  add_to_cart_order  \\\n",
       "0                     NaN          True         196                  1   \n",
       "1                    15.0         False         196                  1   \n",
       "2                    21.0         False         196                  1   \n",
       "3                    29.0         False         196                  1   \n",
       "4                    28.0         False         196                  1   \n",
       "\n",
       "   reordered  ... number_of_dependants  marital_status  income  region  \\\n",
       "0          0  ...                    3         married   40423   South   \n",
       "1          1  ...                    3         married   40423   South   \n",
       "2          1  ...                    3         married   40423   South   \n",
       "3          1  ...                    3         married   40423   South   \n",
       "4          1  ...                    3         married   40423   South   \n",
       "\n",
       "              activity_flag age_group_flag    income_flag household_flag  \\\n",
       "0  normal_activity_customer          Young  Middle income  Big household   \n",
       "1  normal_activity_customer          Young  Middle income  Big household   \n",
       "2  normal_activity_customer          Young  Middle income  Big household   \n",
       "3  normal_activity_customer          Young  Middle income  Big household   \n",
       "4  normal_activity_customer          Young  Middle income  Big household   \n",
       "\n",
       "     baby_flag  department  \n",
       "0  Older child   beverages  \n",
       "1  Older child   beverages  \n",
       "2  Older child   beverages  \n",
       "3  Older child   beverages  \n",
       "4  Older child   beverages  \n",
       "\n",
       "[5 rows x 41 columns]"
      ]
     },
     "execution_count": 138,
     "metadata": {},
     "output_type": "execute_result"
    }
   ],
   "source": [
    "ords_prods_custs_normal.head(5)"
   ]
  },
  {
   "cell_type": "markdown",
   "id": "c5015b6d",
   "metadata": {},
   "source": [
    "#### Age"
   ]
  },
  {
   "cell_type": "code",
   "execution_count": 77,
   "id": "d21b7f27",
   "metadata": {},
   "outputs": [],
   "source": [
    "# We need to create crosstab between age and region flags\n",
    "age_region =pd.crosstab(ords_prods_custs_normal['age_group_flag'], ords_prods_custs_normal['region'])"
   ]
  },
  {
   "cell_type": "code",
   "execution_count": 79,
   "id": "d7c2d72a",
   "metadata": {},
   "outputs": [
    {
     "data": {
      "text/html": [
       "<div>\n",
       "<style scoped>\n",
       "    .dataframe tbody tr th:only-of-type {\n",
       "        vertical-align: middle;\n",
       "    }\n",
       "\n",
       "    .dataframe tbody tr th {\n",
       "        vertical-align: top;\n",
       "    }\n",
       "\n",
       "    .dataframe thead th {\n",
       "        text-align: right;\n",
       "    }\n",
       "</style>\n",
       "<table border=\"1\" class=\"dataframe\">\n",
       "  <thead>\n",
       "    <tr style=\"text-align: right;\">\n",
       "      <th>region</th>\n",
       "      <th>Midwest</th>\n",
       "      <th>North East</th>\n",
       "      <th>South</th>\n",
       "      <th>West</th>\n",
       "    </tr>\n",
       "    <tr>\n",
       "      <th>age_group_flag</th>\n",
       "      <th></th>\n",
       "      <th></th>\n",
       "      <th></th>\n",
       "      <th></th>\n",
       "    </tr>\n",
       "  </thead>\n",
       "  <tbody>\n",
       "    <tr>\n",
       "      <th>Middle aged</th>\n",
       "      <td>2886332</td>\n",
       "      <td>2104198</td>\n",
       "      <td>3999499</td>\n",
       "      <td>3123123</td>\n",
       "    </tr>\n",
       "    <tr>\n",
       "      <th>Senior</th>\n",
       "      <td>2356770</td>\n",
       "      <td>1809013</td>\n",
       "      <td>3361229</td>\n",
       "      <td>2585595</td>\n",
       "    </tr>\n",
       "    <tr>\n",
       "      <th>Young</th>\n",
       "      <td>2018411</td>\n",
       "      <td>1551474</td>\n",
       "      <td>2950411</td>\n",
       "      <td>2218509</td>\n",
       "    </tr>\n",
       "  </tbody>\n",
       "</table>\n",
       "</div>"
      ],
      "text/plain": [
       "region          Midwest  North East    South     West\n",
       "age_group_flag                                       \n",
       "Middle aged     2886332     2104198  3999499  3123123\n",
       "Senior          2356770     1809013  3361229  2585595\n",
       "Young           2018411     1551474  2950411  2218509"
      ]
     },
     "execution_count": 79,
     "metadata": {},
     "output_type": "execute_result"
    }
   ],
   "source": [
    "age_region"
   ]
  },
  {
   "cell_type": "code",
   "execution_count": 80,
   "id": "559ed663",
   "metadata": {},
   "outputs": [],
   "source": [
    "# Export to clipboard\n",
    "age_region.to_clipboard()"
   ]
  },
  {
   "cell_type": "code",
   "execution_count": 142,
   "id": "622c7595",
   "metadata": {},
   "outputs": [],
   "source": [
    "# Crosstab between age and department flags\n",
    "age_depart =pd.crosstab(ords_prods_custs_normal['department'], ords_prods_custs_normal['age_group_flag'])"
   ]
  },
  {
   "cell_type": "code",
   "execution_count": 143,
   "id": "36ccfb1d",
   "metadata": {},
   "outputs": [
    {
     "data": {
      "text/html": [
       "<div>\n",
       "<style scoped>\n",
       "    .dataframe tbody tr th:only-of-type {\n",
       "        vertical-align: middle;\n",
       "    }\n",
       "\n",
       "    .dataframe tbody tr th {\n",
       "        vertical-align: top;\n",
       "    }\n",
       "\n",
       "    .dataframe thead th {\n",
       "        text-align: right;\n",
       "    }\n",
       "</style>\n",
       "<table border=\"1\" class=\"dataframe\">\n",
       "  <thead>\n",
       "    <tr style=\"text-align: right;\">\n",
       "      <th>age_group_flag</th>\n",
       "      <th>Middle aged</th>\n",
       "      <th>Senior</th>\n",
       "      <th>Young</th>\n",
       "    </tr>\n",
       "    <tr>\n",
       "      <th>department</th>\n",
       "      <th></th>\n",
       "      <th></th>\n",
       "      <th></th>\n",
       "    </tr>\n",
       "  </thead>\n",
       "  <tbody>\n",
       "    <tr>\n",
       "      <th>alcohol</th>\n",
       "      <td>56614</td>\n",
       "      <td>45628</td>\n",
       "      <td>42385</td>\n",
       "    </tr>\n",
       "    <tr>\n",
       "      <th>babies</th>\n",
       "      <td>163908</td>\n",
       "      <td>133019</td>\n",
       "      <td>113465</td>\n",
       "    </tr>\n",
       "    <tr>\n",
       "      <th>bakery</th>\n",
       "      <td>437780</td>\n",
       "      <td>366017</td>\n",
       "      <td>317031</td>\n",
       "    </tr>\n",
       "    <tr>\n",
       "      <th>beverages</th>\n",
       "      <td>1009824</td>\n",
       "      <td>844687</td>\n",
       "      <td>717390</td>\n",
       "    </tr>\n",
       "    <tr>\n",
       "      <th>breakfast</th>\n",
       "      <td>261894</td>\n",
       "      <td>217539</td>\n",
       "      <td>191417</td>\n",
       "    </tr>\n",
       "    <tr>\n",
       "      <th>bulk</th>\n",
       "      <td>12898</td>\n",
       "      <td>10929</td>\n",
       "      <td>9624</td>\n",
       "    </tr>\n",
       "    <tr>\n",
       "      <th>canned goods</th>\n",
       "      <td>395410</td>\n",
       "      <td>329485</td>\n",
       "      <td>287179</td>\n",
       "    </tr>\n",
       "    <tr>\n",
       "      <th>dairy eggs</th>\n",
       "      <td>2017712</td>\n",
       "      <td>1687944</td>\n",
       "      <td>1471526</td>\n",
       "    </tr>\n",
       "    <tr>\n",
       "      <th>deli</th>\n",
       "      <td>391004</td>\n",
       "      <td>328967</td>\n",
       "      <td>283863</td>\n",
       "    </tr>\n",
       "    <tr>\n",
       "      <th>dry goods pasta</th>\n",
       "      <td>321903</td>\n",
       "      <td>267652</td>\n",
       "      <td>232581</td>\n",
       "    </tr>\n",
       "    <tr>\n",
       "      <th>frozen</th>\n",
       "      <td>827328</td>\n",
       "      <td>697366</td>\n",
       "      <td>597037</td>\n",
       "    </tr>\n",
       "    <tr>\n",
       "      <th>household</th>\n",
       "      <td>273925</td>\n",
       "      <td>229979</td>\n",
       "      <td>195953</td>\n",
       "    </tr>\n",
       "    <tr>\n",
       "      <th>international</th>\n",
       "      <td>100500</td>\n",
       "      <td>82578</td>\n",
       "      <td>72913</td>\n",
       "    </tr>\n",
       "    <tr>\n",
       "      <th>meat seafood</th>\n",
       "      <td>262954</td>\n",
       "      <td>222435</td>\n",
       "      <td>189392</td>\n",
       "    </tr>\n",
       "    <tr>\n",
       "      <th>missing</th>\n",
       "      <td>25319</td>\n",
       "      <td>20703</td>\n",
       "      <td>18746</td>\n",
       "    </tr>\n",
       "    <tr>\n",
       "      <th>other</th>\n",
       "      <td>13378</td>\n",
       "      <td>11087</td>\n",
       "      <td>9946</td>\n",
       "    </tr>\n",
       "    <tr>\n",
       "      <th>pantry</th>\n",
       "      <td>697912</td>\n",
       "      <td>581946</td>\n",
       "      <td>502847</td>\n",
       "    </tr>\n",
       "    <tr>\n",
       "      <th>personal care</th>\n",
       "      <td>168260</td>\n",
       "      <td>137346</td>\n",
       "      <td>118700</td>\n",
       "    </tr>\n",
       "    <tr>\n",
       "      <th>pets</th>\n",
       "      <td>36062</td>\n",
       "      <td>30570</td>\n",
       "      <td>26428</td>\n",
       "    </tr>\n",
       "    <tr>\n",
       "      <th>produce</th>\n",
       "      <td>3557482</td>\n",
       "      <td>2966397</td>\n",
       "      <td>2555394</td>\n",
       "    </tr>\n",
       "    <tr>\n",
       "      <th>snacks</th>\n",
       "      <td>1081085</td>\n",
       "      <td>900333</td>\n",
       "      <td>784988</td>\n",
       "    </tr>\n",
       "  </tbody>\n",
       "</table>\n",
       "</div>"
      ],
      "text/plain": [
       "age_group_flag   Middle aged   Senior    Young\n",
       "department                                    \n",
       "alcohol                56614    45628    42385\n",
       "babies                163908   133019   113465\n",
       "bakery                437780   366017   317031\n",
       "beverages            1009824   844687   717390\n",
       "breakfast             261894   217539   191417\n",
       "bulk                   12898    10929     9624\n",
       "canned goods          395410   329485   287179\n",
       "dairy eggs           2017712  1687944  1471526\n",
       "deli                  391004   328967   283863\n",
       "dry goods pasta       321903   267652   232581\n",
       "frozen                827328   697366   597037\n",
       "household             273925   229979   195953\n",
       "international         100500    82578    72913\n",
       "meat seafood          262954   222435   189392\n",
       "missing                25319    20703    18746\n",
       "other                  13378    11087     9946\n",
       "pantry                697912   581946   502847\n",
       "personal care         168260   137346   118700\n",
       "pets                   36062    30570    26428\n",
       "produce              3557482  2966397  2555394\n",
       "snacks               1081085   900333   784988"
      ]
     },
     "execution_count": 143,
     "metadata": {},
     "output_type": "execute_result"
    }
   ],
   "source": [
    "age_depart"
   ]
  },
  {
   "cell_type": "code",
   "execution_count": 144,
   "id": "4726e418",
   "metadata": {},
   "outputs": [],
   "source": [
    "# Export to clipboard\n",
    "age_depart.to_clipboard()"
   ]
  },
  {
   "cell_type": "markdown",
   "id": "b099c24d",
   "metadata": {},
   "source": [
    "#### Income"
   ]
  },
  {
   "cell_type": "code",
   "execution_count": 145,
   "id": "4616d10c",
   "metadata": {},
   "outputs": [],
   "source": [
    "# Crosstab between income and region flags\n",
    "income_region =pd.crosstab(ords_prods_custs_normal['income_flag'], ords_prods_custs_normal['region'])"
   ]
  },
  {
   "cell_type": "code",
   "execution_count": 85,
   "id": "eea0a63f",
   "metadata": {},
   "outputs": [
    {
     "data": {
      "text/html": [
       "<div>\n",
       "<style scoped>\n",
       "    .dataframe tbody tr th:only-of-type {\n",
       "        vertical-align: middle;\n",
       "    }\n",
       "\n",
       "    .dataframe tbody tr th {\n",
       "        vertical-align: top;\n",
       "    }\n",
       "\n",
       "    .dataframe thead th {\n",
       "        text-align: right;\n",
       "    }\n",
       "</style>\n",
       "<table border=\"1\" class=\"dataframe\">\n",
       "  <thead>\n",
       "    <tr style=\"text-align: right;\">\n",
       "      <th>region</th>\n",
       "      <th>Midwest</th>\n",
       "      <th>North East</th>\n",
       "      <th>South</th>\n",
       "      <th>West</th>\n",
       "    </tr>\n",
       "    <tr>\n",
       "      <th>income_flag</th>\n",
       "      <th></th>\n",
       "      <th></th>\n",
       "      <th></th>\n",
       "      <th></th>\n",
       "    </tr>\n",
       "  </thead>\n",
       "  <tbody>\n",
       "    <tr>\n",
       "      <th>High income</th>\n",
       "      <td>3400093</td>\n",
       "      <td>2516484</td>\n",
       "      <td>4663571</td>\n",
       "      <td>3626880</td>\n",
       "    </tr>\n",
       "    <tr>\n",
       "      <th>Low income</th>\n",
       "      <td>53250</td>\n",
       "      <td>33144</td>\n",
       "      <td>65230</td>\n",
       "      <td>42508</td>\n",
       "    </tr>\n",
       "    <tr>\n",
       "      <th>Middle income</th>\n",
       "      <td>3808170</td>\n",
       "      <td>2915057</td>\n",
       "      <td>5582338</td>\n",
       "      <td>4257839</td>\n",
       "    </tr>\n",
       "  </tbody>\n",
       "</table>\n",
       "</div>"
      ],
      "text/plain": [
       "region         Midwest  North East    South     West\n",
       "income_flag                                         \n",
       "High income    3400093     2516484  4663571  3626880\n",
       "Low income       53250       33144    65230    42508\n",
       "Middle income  3808170     2915057  5582338  4257839"
      ]
     },
     "execution_count": 85,
     "metadata": {},
     "output_type": "execute_result"
    }
   ],
   "source": [
    "income_region"
   ]
  },
  {
   "cell_type": "code",
   "execution_count": 86,
   "id": "3954829c",
   "metadata": {},
   "outputs": [],
   "source": [
    "# Export to clipboard\n",
    "income_region.to_clipboard()"
   ]
  },
  {
   "cell_type": "code",
   "execution_count": 146,
   "id": "104a365c",
   "metadata": {},
   "outputs": [],
   "source": [
    "# Crosstab between income and department flags\n",
    "income_depart =pd.crosstab(ords_prods_custs_normal['department'], ords_prods_custs_normal['income_flag'])"
   ]
  },
  {
   "cell_type": "code",
   "execution_count": 147,
   "id": "9f323b0d",
   "metadata": {},
   "outputs": [
    {
     "data": {
      "text/html": [
       "<div>\n",
       "<style scoped>\n",
       "    .dataframe tbody tr th:only-of-type {\n",
       "        vertical-align: middle;\n",
       "    }\n",
       "\n",
       "    .dataframe tbody tr th {\n",
       "        vertical-align: top;\n",
       "    }\n",
       "\n",
       "    .dataframe thead th {\n",
       "        text-align: right;\n",
       "    }\n",
       "</style>\n",
       "<table border=\"1\" class=\"dataframe\">\n",
       "  <thead>\n",
       "    <tr style=\"text-align: right;\">\n",
       "      <th>income_flag</th>\n",
       "      <th>High income</th>\n",
       "      <th>Low income</th>\n",
       "      <th>Middle income</th>\n",
       "    </tr>\n",
       "    <tr>\n",
       "      <th>department</th>\n",
       "      <th></th>\n",
       "      <th></th>\n",
       "      <th></th>\n",
       "    </tr>\n",
       "  </thead>\n",
       "  <tbody>\n",
       "    <tr>\n",
       "      <th>alcohol</th>\n",
       "      <td>69142</td>\n",
       "      <td>1247</td>\n",
       "      <td>74238</td>\n",
       "    </tr>\n",
       "    <tr>\n",
       "      <th>babies</th>\n",
       "      <td>196696</td>\n",
       "      <td>1509</td>\n",
       "      <td>212187</td>\n",
       "    </tr>\n",
       "    <tr>\n",
       "      <th>bakery</th>\n",
       "      <td>527703</td>\n",
       "      <td>6023</td>\n",
       "      <td>587102</td>\n",
       "    </tr>\n",
       "    <tr>\n",
       "      <th>beverages</th>\n",
       "      <td>1126437</td>\n",
       "      <td>23403</td>\n",
       "      <td>1422061</td>\n",
       "    </tr>\n",
       "    <tr>\n",
       "      <th>breakfast</th>\n",
       "      <td>297594</td>\n",
       "      <td>4802</td>\n",
       "      <td>368454</td>\n",
       "    </tr>\n",
       "    <tr>\n",
       "      <th>bulk</th>\n",
       "      <td>14218</td>\n",
       "      <td>333</td>\n",
       "      <td>18900</td>\n",
       "    </tr>\n",
       "    <tr>\n",
       "      <th>canned goods</th>\n",
       "      <td>485226</td>\n",
       "      <td>4206</td>\n",
       "      <td>522642</td>\n",
       "    </tr>\n",
       "    <tr>\n",
       "      <th>dairy eggs</th>\n",
       "      <td>2406160</td>\n",
       "      <td>28400</td>\n",
       "      <td>2742622</td>\n",
       "    </tr>\n",
       "    <tr>\n",
       "      <th>deli</th>\n",
       "      <td>462089</td>\n",
       "      <td>6505</td>\n",
       "      <td>535240</td>\n",
       "    </tr>\n",
       "    <tr>\n",
       "      <th>dry goods pasta</th>\n",
       "      <td>392709</td>\n",
       "      <td>3947</td>\n",
       "      <td>425480</td>\n",
       "    </tr>\n",
       "    <tr>\n",
       "      <th>frozen</th>\n",
       "      <td>988452</td>\n",
       "      <td>12797</td>\n",
       "      <td>1120482</td>\n",
       "    </tr>\n",
       "    <tr>\n",
       "      <th>household</th>\n",
       "      <td>319958</td>\n",
       "      <td>4729</td>\n",
       "      <td>375170</td>\n",
       "    </tr>\n",
       "    <tr>\n",
       "      <th>international</th>\n",
       "      <td>119987</td>\n",
       "      <td>1378</td>\n",
       "      <td>134626</td>\n",
       "    </tr>\n",
       "    <tr>\n",
       "      <th>meat seafood</th>\n",
       "      <td>335535</td>\n",
       "      <td>1568</td>\n",
       "      <td>337678</td>\n",
       "    </tr>\n",
       "    <tr>\n",
       "      <th>missing</th>\n",
       "      <td>29452</td>\n",
       "      <td>395</td>\n",
       "      <td>34921</td>\n",
       "    </tr>\n",
       "    <tr>\n",
       "      <th>other</th>\n",
       "      <td>15749</td>\n",
       "      <td>288</td>\n",
       "      <td>18374</td>\n",
       "    </tr>\n",
       "    <tr>\n",
       "      <th>pantry</th>\n",
       "      <td>839920</td>\n",
       "      <td>8731</td>\n",
       "      <td>934054</td>\n",
       "    </tr>\n",
       "    <tr>\n",
       "      <th>personal care</th>\n",
       "      <td>193412</td>\n",
       "      <td>2459</td>\n",
       "      <td>228435</td>\n",
       "    </tr>\n",
       "    <tr>\n",
       "      <th>pets</th>\n",
       "      <td>45089</td>\n",
       "      <td>450</td>\n",
       "      <td>47521</td>\n",
       "    </tr>\n",
       "    <tr>\n",
       "      <th>produce</th>\n",
       "      <td>4236921</td>\n",
       "      <td>46104</td>\n",
       "      <td>4796248</td>\n",
       "    </tr>\n",
       "    <tr>\n",
       "      <th>snacks</th>\n",
       "      <td>1104579</td>\n",
       "      <td>34858</td>\n",
       "      <td>1626969</td>\n",
       "    </tr>\n",
       "  </tbody>\n",
       "</table>\n",
       "</div>"
      ],
      "text/plain": [
       "income_flag      High income  Low income  Middle income\n",
       "department                                             \n",
       "alcohol                69142        1247          74238\n",
       "babies                196696        1509         212187\n",
       "bakery                527703        6023         587102\n",
       "beverages            1126437       23403        1422061\n",
       "breakfast             297594        4802         368454\n",
       "bulk                   14218         333          18900\n",
       "canned goods          485226        4206         522642\n",
       "dairy eggs           2406160       28400        2742622\n",
       "deli                  462089        6505         535240\n",
       "dry goods pasta       392709        3947         425480\n",
       "frozen                988452       12797        1120482\n",
       "household             319958        4729         375170\n",
       "international         119987        1378         134626\n",
       "meat seafood          335535        1568         337678\n",
       "missing                29452         395          34921\n",
       "other                  15749         288          18374\n",
       "pantry                839920        8731         934054\n",
       "personal care         193412        2459         228435\n",
       "pets                   45089         450          47521\n",
       "produce              4236921       46104        4796248\n",
       "snacks               1104579       34858        1626969"
      ]
     },
     "execution_count": 147,
     "metadata": {},
     "output_type": "execute_result"
    }
   ],
   "source": [
    "income_depart"
   ]
  },
  {
   "cell_type": "code",
   "execution_count": 148,
   "id": "d14d3f12",
   "metadata": {},
   "outputs": [],
   "source": [
    "# Export to clipboard\n",
    "income_depart.to_clipboard()"
   ]
  },
  {
   "cell_type": "markdown",
   "id": "708915db",
   "metadata": {},
   "source": [
    "#### Household size"
   ]
  },
  {
   "cell_type": "code",
   "execution_count": 91,
   "id": "4a882f72",
   "metadata": {},
   "outputs": [],
   "source": [
    "# Crosstab between household size and region flags\n",
    "household_region =pd.crosstab(ords_prods_custs_normal['household_flag'], ords_prods_custs_normal['region'])"
   ]
  },
  {
   "cell_type": "code",
   "execution_count": 92,
   "id": "793c6fe7",
   "metadata": {},
   "outputs": [
    {
     "data": {
      "text/html": [
       "<div>\n",
       "<style scoped>\n",
       "    .dataframe tbody tr th:only-of-type {\n",
       "        vertical-align: middle;\n",
       "    }\n",
       "\n",
       "    .dataframe tbody tr th {\n",
       "        vertical-align: top;\n",
       "    }\n",
       "\n",
       "    .dataframe thead th {\n",
       "        text-align: right;\n",
       "    }\n",
       "</style>\n",
       "<table border=\"1\" class=\"dataframe\">\n",
       "  <thead>\n",
       "    <tr style=\"text-align: right;\">\n",
       "      <th>region</th>\n",
       "      <th>Midwest</th>\n",
       "      <th>North East</th>\n",
       "      <th>South</th>\n",
       "      <th>West</th>\n",
       "    </tr>\n",
       "    <tr>\n",
       "      <th>household_flag</th>\n",
       "      <th></th>\n",
       "      <th></th>\n",
       "      <th></th>\n",
       "      <th></th>\n",
       "    </tr>\n",
       "  </thead>\n",
       "  <tbody>\n",
       "    <tr>\n",
       "      <th>Big household</th>\n",
       "      <td>1787286</td>\n",
       "      <td>1381233</td>\n",
       "      <td>2585864</td>\n",
       "      <td>2018133</td>\n",
       "    </tr>\n",
       "    <tr>\n",
       "      <th>Medium household</th>\n",
       "      <td>3651411</td>\n",
       "      <td>2728970</td>\n",
       "      <td>5143342</td>\n",
       "      <td>3928644</td>\n",
       "    </tr>\n",
       "    <tr>\n",
       "      <th>Small household</th>\n",
       "      <td>1822816</td>\n",
       "      <td>1354482</td>\n",
       "      <td>2581933</td>\n",
       "      <td>1980450</td>\n",
       "    </tr>\n",
       "  </tbody>\n",
       "</table>\n",
       "</div>"
      ],
      "text/plain": [
       "region            Midwest  North East    South     West\n",
       "household_flag                                         \n",
       "Big household     1787286     1381233  2585864  2018133\n",
       "Medium household  3651411     2728970  5143342  3928644\n",
       "Small household   1822816     1354482  2581933  1980450"
      ]
     },
     "execution_count": 92,
     "metadata": {},
     "output_type": "execute_result"
    }
   ],
   "source": [
    "household_region"
   ]
  },
  {
   "cell_type": "code",
   "execution_count": 93,
   "id": "7c524507",
   "metadata": {},
   "outputs": [],
   "source": [
    "# Export to clipboard\n",
    "household_region.to_clipboard()"
   ]
  },
  {
   "cell_type": "code",
   "execution_count": 149,
   "id": "7a8221d6",
   "metadata": {},
   "outputs": [],
   "source": [
    "# Crosstab between household and department flags\n",
    "household_depart =pd.crosstab(ords_prods_custs_normal['department'], ords_prods_custs_normal['household_flag'])"
   ]
  },
  {
   "cell_type": "code",
   "execution_count": 150,
   "id": "88d29eaf",
   "metadata": {},
   "outputs": [
    {
     "data": {
      "text/html": [
       "<div>\n",
       "<style scoped>\n",
       "    .dataframe tbody tr th:only-of-type {\n",
       "        vertical-align: middle;\n",
       "    }\n",
       "\n",
       "    .dataframe tbody tr th {\n",
       "        vertical-align: top;\n",
       "    }\n",
       "\n",
       "    .dataframe thead th {\n",
       "        text-align: right;\n",
       "    }\n",
       "</style>\n",
       "<table border=\"1\" class=\"dataframe\">\n",
       "  <thead>\n",
       "    <tr style=\"text-align: right;\">\n",
       "      <th>household_flag</th>\n",
       "      <th>Big household</th>\n",
       "      <th>Medium household</th>\n",
       "      <th>Small household</th>\n",
       "    </tr>\n",
       "    <tr>\n",
       "      <th>department</th>\n",
       "      <th></th>\n",
       "      <th></th>\n",
       "      <th></th>\n",
       "    </tr>\n",
       "  </thead>\n",
       "  <tbody>\n",
       "    <tr>\n",
       "      <th>alcohol</th>\n",
       "      <td>37333</td>\n",
       "      <td>70467</td>\n",
       "      <td>36827</td>\n",
       "    </tr>\n",
       "    <tr>\n",
       "      <th>babies</th>\n",
       "      <td>102585</td>\n",
       "      <td>204479</td>\n",
       "      <td>103328</td>\n",
       "    </tr>\n",
       "    <tr>\n",
       "      <th>bakery</th>\n",
       "      <td>279822</td>\n",
       "      <td>559611</td>\n",
       "      <td>281395</td>\n",
       "    </tr>\n",
       "    <tr>\n",
       "      <th>beverages</th>\n",
       "      <td>640927</td>\n",
       "      <td>1285633</td>\n",
       "      <td>645341</td>\n",
       "    </tr>\n",
       "    <tr>\n",
       "      <th>breakfast</th>\n",
       "      <td>167322</td>\n",
       "      <td>337096</td>\n",
       "      <td>166432</td>\n",
       "    </tr>\n",
       "    <tr>\n",
       "      <th>bulk</th>\n",
       "      <td>8403</td>\n",
       "      <td>17048</td>\n",
       "      <td>8000</td>\n",
       "    </tr>\n",
       "    <tr>\n",
       "      <th>canned goods</th>\n",
       "      <td>255325</td>\n",
       "      <td>505729</td>\n",
       "      <td>251020</td>\n",
       "    </tr>\n",
       "    <tr>\n",
       "      <th>dairy eggs</th>\n",
       "      <td>1296264</td>\n",
       "      <td>2586542</td>\n",
       "      <td>1294376</td>\n",
       "    </tr>\n",
       "    <tr>\n",
       "      <th>deli</th>\n",
       "      <td>252592</td>\n",
       "      <td>497860</td>\n",
       "      <td>253382</td>\n",
       "    </tr>\n",
       "    <tr>\n",
       "      <th>dry goods pasta</th>\n",
       "      <td>208412</td>\n",
       "      <td>409428</td>\n",
       "      <td>204296</td>\n",
       "    </tr>\n",
       "    <tr>\n",
       "      <th>frozen</th>\n",
       "      <td>532408</td>\n",
       "      <td>1059975</td>\n",
       "      <td>529348</td>\n",
       "    </tr>\n",
       "    <tr>\n",
       "      <th>household</th>\n",
       "      <td>176284</td>\n",
       "      <td>352215</td>\n",
       "      <td>171358</td>\n",
       "    </tr>\n",
       "    <tr>\n",
       "      <th>international</th>\n",
       "      <td>63473</td>\n",
       "      <td>128057</td>\n",
       "      <td>64461</td>\n",
       "    </tr>\n",
       "    <tr>\n",
       "      <th>meat seafood</th>\n",
       "      <td>171423</td>\n",
       "      <td>337480</td>\n",
       "      <td>165878</td>\n",
       "    </tr>\n",
       "    <tr>\n",
       "      <th>missing</th>\n",
       "      <td>16435</td>\n",
       "      <td>32398</td>\n",
       "      <td>15935</td>\n",
       "    </tr>\n",
       "    <tr>\n",
       "      <th>other</th>\n",
       "      <td>8377</td>\n",
       "      <td>17320</td>\n",
       "      <td>8714</td>\n",
       "    </tr>\n",
       "    <tr>\n",
       "      <th>pantry</th>\n",
       "      <td>446156</td>\n",
       "      <td>892645</td>\n",
       "      <td>443904</td>\n",
       "    </tr>\n",
       "    <tr>\n",
       "      <th>personal care</th>\n",
       "      <td>106315</td>\n",
       "      <td>211786</td>\n",
       "      <td>106205</td>\n",
       "    </tr>\n",
       "    <tr>\n",
       "      <th>pets</th>\n",
       "      <td>23142</td>\n",
       "      <td>46316</td>\n",
       "      <td>23602</td>\n",
       "    </tr>\n",
       "    <tr>\n",
       "      <th>produce</th>\n",
       "      <td>2287719</td>\n",
       "      <td>4516113</td>\n",
       "      <td>2275441</td>\n",
       "    </tr>\n",
       "    <tr>\n",
       "      <th>snacks</th>\n",
       "      <td>691799</td>\n",
       "      <td>1384169</td>\n",
       "      <td>690438</td>\n",
       "    </tr>\n",
       "  </tbody>\n",
       "</table>\n",
       "</div>"
      ],
      "text/plain": [
       "household_flag   Big household  Medium household  Small household\n",
       "department                                                       \n",
       "alcohol                  37333             70467            36827\n",
       "babies                  102585            204479           103328\n",
       "bakery                  279822            559611           281395\n",
       "beverages               640927           1285633           645341\n",
       "breakfast               167322            337096           166432\n",
       "bulk                      8403             17048             8000\n",
       "canned goods            255325            505729           251020\n",
       "dairy eggs             1296264           2586542          1294376\n",
       "deli                    252592            497860           253382\n",
       "dry goods pasta         208412            409428           204296\n",
       "frozen                  532408           1059975           529348\n",
       "household               176284            352215           171358\n",
       "international            63473            128057            64461\n",
       "meat seafood            171423            337480           165878\n",
       "missing                  16435             32398            15935\n",
       "other                     8377             17320             8714\n",
       "pantry                  446156            892645           443904\n",
       "personal care           106315            211786           106205\n",
       "pets                     23142             46316            23602\n",
       "produce                2287719           4516113          2275441\n",
       "snacks                  691799           1384169           690438"
      ]
     },
     "execution_count": 150,
     "metadata": {},
     "output_type": "execute_result"
    }
   ],
   "source": [
    "household_depart"
   ]
  },
  {
   "cell_type": "code",
   "execution_count": 151,
   "id": "fd3f3ed0",
   "metadata": {},
   "outputs": [],
   "source": [
    "# Export to clipboard\n",
    "household_depart.to_clipboard()"
   ]
  },
  {
   "cell_type": "markdown",
   "id": "c68c7dc4",
   "metadata": {},
   "source": [
    "#### Child Age"
   ]
  },
  {
   "cell_type": "code",
   "execution_count": 97,
   "id": "f41872c1",
   "metadata": {},
   "outputs": [],
   "source": [
    "# Crosstab between household size and region flags\n",
    "child_region =pd.crosstab(ords_prods_custs_normal['baby_flag'], ords_prods_custs_normal['region'])"
   ]
  },
  {
   "cell_type": "code",
   "execution_count": 98,
   "id": "96e788bd",
   "metadata": {},
   "outputs": [
    {
     "data": {
      "text/html": [
       "<div>\n",
       "<style scoped>\n",
       "    .dataframe tbody tr th:only-of-type {\n",
       "        vertical-align: middle;\n",
       "    }\n",
       "\n",
       "    .dataframe tbody tr th {\n",
       "        vertical-align: top;\n",
       "    }\n",
       "\n",
       "    .dataframe thead th {\n",
       "        text-align: right;\n",
       "    }\n",
       "</style>\n",
       "<table border=\"1\" class=\"dataframe\">\n",
       "  <thead>\n",
       "    <tr style=\"text-align: right;\">\n",
       "      <th>region</th>\n",
       "      <th>Midwest</th>\n",
       "      <th>North East</th>\n",
       "      <th>South</th>\n",
       "      <th>West</th>\n",
       "    </tr>\n",
       "    <tr>\n",
       "      <th>baby_flag</th>\n",
       "      <th></th>\n",
       "      <th></th>\n",
       "      <th></th>\n",
       "      <th></th>\n",
       "    </tr>\n",
       "  </thead>\n",
       "  <tbody>\n",
       "    <tr>\n",
       "      <th>No child</th>\n",
       "      <td>1822816</td>\n",
       "      <td>1354482</td>\n",
       "      <td>2581933</td>\n",
       "      <td>1980450</td>\n",
       "    </tr>\n",
       "    <tr>\n",
       "      <th>Older child</th>\n",
       "      <td>5367664</td>\n",
       "      <td>4055516</td>\n",
       "      <td>7624975</td>\n",
       "      <td>5869664</td>\n",
       "    </tr>\n",
       "    <tr>\n",
       "      <th>Young child</th>\n",
       "      <td>71033</td>\n",
       "      <td>54687</td>\n",
       "      <td>104231</td>\n",
       "      <td>77113</td>\n",
       "    </tr>\n",
       "  </tbody>\n",
       "</table>\n",
       "</div>"
      ],
      "text/plain": [
       "region       Midwest  North East    South     West\n",
       "baby_flag                                         \n",
       "No child     1822816     1354482  2581933  1980450\n",
       "Older child  5367664     4055516  7624975  5869664\n",
       "Young child    71033       54687   104231    77113"
      ]
     },
     "execution_count": 98,
     "metadata": {},
     "output_type": "execute_result"
    }
   ],
   "source": [
    "child_region"
   ]
  },
  {
   "cell_type": "code",
   "execution_count": 99,
   "id": "a12a5e52",
   "metadata": {},
   "outputs": [],
   "source": [
    "# Export to clipboard\n",
    "child_region.to_clipboard()"
   ]
  },
  {
   "cell_type": "code",
   "execution_count": 152,
   "id": "3efa7f0e",
   "metadata": {},
   "outputs": [],
   "source": [
    "# Crosstab between household and department flags\n",
    "child_depart =pd.crosstab(ords_prods_custs_normal['department'], ords_prods_custs_normal['baby_flag'])"
   ]
  },
  {
   "cell_type": "code",
   "execution_count": 153,
   "id": "4c474158",
   "metadata": {},
   "outputs": [
    {
     "data": {
      "text/html": [
       "<div>\n",
       "<style scoped>\n",
       "    .dataframe tbody tr th:only-of-type {\n",
       "        vertical-align: middle;\n",
       "    }\n",
       "\n",
       "    .dataframe tbody tr th {\n",
       "        vertical-align: top;\n",
       "    }\n",
       "\n",
       "    .dataframe thead th {\n",
       "        text-align: right;\n",
       "    }\n",
       "</style>\n",
       "<table border=\"1\" class=\"dataframe\">\n",
       "  <thead>\n",
       "    <tr style=\"text-align: right;\">\n",
       "      <th>baby_flag</th>\n",
       "      <th>No child</th>\n",
       "      <th>Older child</th>\n",
       "      <th>Young child</th>\n",
       "    </tr>\n",
       "    <tr>\n",
       "      <th>department</th>\n",
       "      <th></th>\n",
       "      <th></th>\n",
       "      <th></th>\n",
       "    </tr>\n",
       "  </thead>\n",
       "  <tbody>\n",
       "    <tr>\n",
       "      <th>alcohol</th>\n",
       "      <td>36827</td>\n",
       "      <td>107800</td>\n",
       "      <td>0</td>\n",
       "    </tr>\n",
       "    <tr>\n",
       "      <th>babies</th>\n",
       "      <td>103328</td>\n",
       "      <td>0</td>\n",
       "      <td>307064</td>\n",
       "    </tr>\n",
       "    <tr>\n",
       "      <th>bakery</th>\n",
       "      <td>281395</td>\n",
       "      <td>839433</td>\n",
       "      <td>0</td>\n",
       "    </tr>\n",
       "    <tr>\n",
       "      <th>beverages</th>\n",
       "      <td>645341</td>\n",
       "      <td>1926560</td>\n",
       "      <td>0</td>\n",
       "    </tr>\n",
       "    <tr>\n",
       "      <th>breakfast</th>\n",
       "      <td>166432</td>\n",
       "      <td>504418</td>\n",
       "      <td>0</td>\n",
       "    </tr>\n",
       "    <tr>\n",
       "      <th>bulk</th>\n",
       "      <td>8000</td>\n",
       "      <td>25451</td>\n",
       "      <td>0</td>\n",
       "    </tr>\n",
       "    <tr>\n",
       "      <th>canned goods</th>\n",
       "      <td>251020</td>\n",
       "      <td>761054</td>\n",
       "      <td>0</td>\n",
       "    </tr>\n",
       "    <tr>\n",
       "      <th>dairy eggs</th>\n",
       "      <td>1294376</td>\n",
       "      <td>3882806</td>\n",
       "      <td>0</td>\n",
       "    </tr>\n",
       "    <tr>\n",
       "      <th>deli</th>\n",
       "      <td>253382</td>\n",
       "      <td>750452</td>\n",
       "      <td>0</td>\n",
       "    </tr>\n",
       "    <tr>\n",
       "      <th>dry goods pasta</th>\n",
       "      <td>204296</td>\n",
       "      <td>617840</td>\n",
       "      <td>0</td>\n",
       "    </tr>\n",
       "    <tr>\n",
       "      <th>frozen</th>\n",
       "      <td>529348</td>\n",
       "      <td>1592383</td>\n",
       "      <td>0</td>\n",
       "    </tr>\n",
       "    <tr>\n",
       "      <th>household</th>\n",
       "      <td>171358</td>\n",
       "      <td>528499</td>\n",
       "      <td>0</td>\n",
       "    </tr>\n",
       "    <tr>\n",
       "      <th>international</th>\n",
       "      <td>64461</td>\n",
       "      <td>191530</td>\n",
       "      <td>0</td>\n",
       "    </tr>\n",
       "    <tr>\n",
       "      <th>meat seafood</th>\n",
       "      <td>165878</td>\n",
       "      <td>508903</td>\n",
       "      <td>0</td>\n",
       "    </tr>\n",
       "    <tr>\n",
       "      <th>missing</th>\n",
       "      <td>15935</td>\n",
       "      <td>48833</td>\n",
       "      <td>0</td>\n",
       "    </tr>\n",
       "    <tr>\n",
       "      <th>other</th>\n",
       "      <td>8714</td>\n",
       "      <td>25697</td>\n",
       "      <td>0</td>\n",
       "    </tr>\n",
       "    <tr>\n",
       "      <th>pantry</th>\n",
       "      <td>443904</td>\n",
       "      <td>1338801</td>\n",
       "      <td>0</td>\n",
       "    </tr>\n",
       "    <tr>\n",
       "      <th>personal care</th>\n",
       "      <td>106205</td>\n",
       "      <td>318101</td>\n",
       "      <td>0</td>\n",
       "    </tr>\n",
       "    <tr>\n",
       "      <th>pets</th>\n",
       "      <td>23602</td>\n",
       "      <td>69458</td>\n",
       "      <td>0</td>\n",
       "    </tr>\n",
       "    <tr>\n",
       "      <th>produce</th>\n",
       "      <td>2275441</td>\n",
       "      <td>6803832</td>\n",
       "      <td>0</td>\n",
       "    </tr>\n",
       "    <tr>\n",
       "      <th>snacks</th>\n",
       "      <td>690438</td>\n",
       "      <td>2075968</td>\n",
       "      <td>0</td>\n",
       "    </tr>\n",
       "  </tbody>\n",
       "</table>\n",
       "</div>"
      ],
      "text/plain": [
       "baby_flag        No child  Older child  Young child\n",
       "department                                         \n",
       "alcohol             36827       107800            0\n",
       "babies             103328            0       307064\n",
       "bakery             281395       839433            0\n",
       "beverages          645341      1926560            0\n",
       "breakfast          166432       504418            0\n",
       "bulk                 8000        25451            0\n",
       "canned goods       251020       761054            0\n",
       "dairy eggs        1294376      3882806            0\n",
       "deli               253382       750452            0\n",
       "dry goods pasta    204296       617840            0\n",
       "frozen             529348      1592383            0\n",
       "household          171358       528499            0\n",
       "international       64461       191530            0\n",
       "meat seafood       165878       508903            0\n",
       "missing             15935        48833            0\n",
       "other                8714        25697            0\n",
       "pantry             443904      1338801            0\n",
       "personal care      106205       318101            0\n",
       "pets                23602        69458            0\n",
       "produce           2275441      6803832            0\n",
       "snacks             690438      2075968            0"
      ]
     },
     "execution_count": 153,
     "metadata": {},
     "output_type": "execute_result"
    }
   ],
   "source": [
    "child_depart"
   ]
  },
  {
   "cell_type": "code",
   "execution_count": 154,
   "id": "24137e18",
   "metadata": {},
   "outputs": [],
   "source": [
    "# Export to clipboard\n",
    "child_depart.to_clipboard()"
   ]
  },
  {
   "cell_type": "markdown",
   "id": "862feb62",
   "metadata": {},
   "source": [
    "#### QN 9 -- Produce suitable charts to illustrate your results and export them in your project folder.\n"
   ]
  },
  {
   "cell_type": "markdown",
   "id": "d0778998",
   "metadata": {},
   "source": [
    "#### Age and region"
   ]
  },
  {
   "cell_type": "code",
   "execution_count": 103,
   "id": "21d4e804",
   "metadata": {},
   "outputs": [
    {
     "data": {
      "image/png": "[encoded data removed]",
      "text/plain": [
       "<Figure size 640x480 with 1 Axes>"
      ]
     },
     "metadata": {},
     "output_type": "display_data"
    }
   ],
   "source": [
    "barchart_age_region=age_region.plot(kind= 'bar', stacked = True)"
   ]
  },
  {
   "cell_type": "markdown",
   "id": "b8bfa5fc",
   "metadata": {},
   "source": [
    " South has the most customers accross regions and the age distribution is similar "
   ]
  },
  {
   "cell_type": "code",
   "execution_count": 104,
   "id": "5c687019",
   "metadata": {},
   "outputs": [],
   "source": [
    "# Exporting barchart_age_region\n",
    "barchart_age_region.figure.savefig(os.path.join(path, '04 Analysis','Visualizations','barchart_age_region.png'))"
   ]
  },
  {
   "cell_type": "markdown",
   "id": "2fcd77fc",
   "metadata": {},
   "source": [
    "#### Age and Department"
   ]
  },
  {
   "cell_type": "code",
   "execution_count": 155,
   "id": "8d273d4a",
   "metadata": {},
   "outputs": [
    {
     "data": {
      "image/png": "[encoded data removed]",
      "text/plain": [
       "<Figure size 640x480 with 1 Axes>"
      ]
     },
     "metadata": {},
     "output_type": "display_data"
    }
   ],
   "source": [
    "barchart_age_depart=age_depart.plot(kind= 'bar', stacked = True)"
   ]
  },
  {
   "cell_type": "markdown",
   "id": "b688fe07",
   "metadata": {},
   "source": [
    "Produce has by far the most sales across all categories and age groups followed by dairy-eggs, snacks and beverages"
   ]
  },
  {
   "cell_type": "code",
   "execution_count": 156,
   "id": "8969ed58",
   "metadata": {},
   "outputs": [],
   "source": [
    "# Exporting barchart_age_dept\n",
    "barchart_age_depart.figure.savefig(os.path.join(path, '04 Analysis','Visualizations','barchart_age_depart.png'))"
   ]
  },
  {
   "cell_type": "markdown",
   "id": "734ead1a",
   "metadata": {},
   "source": [
    "#### Income and region"
   ]
  },
  {
   "cell_type": "code",
   "execution_count": 157,
   "id": "8c25dbaf",
   "metadata": {},
   "outputs": [
    {
     "data": {
      "image/png": "[encoded data removed]",
      "text/plain": [
       "<Figure size 640x480 with 1 Axes>"
      ]
     },
     "metadata": {},
     "output_type": "display_data"
    }
   ],
   "source": [
    "barchart_income_region=income_region.plot(kind= 'bar', stacked = True)"
   ]
  },
  {
   "cell_type": "markdown",
   "id": "ece29ae5",
   "metadata": {},
   "source": [
    "South is (once more) the best selling region. People with middle income contribute the most in total sales"
   ]
  },
  {
   "cell_type": "code",
   "execution_count": 158,
   "id": "e1d1d4ef",
   "metadata": {},
   "outputs": [],
   "source": [
    "# Exporting barchart_income_region\n",
    "barchart_income_region.figure.savefig(os.path.join(path, '04 Analysis','Visualizations','barchart_income_region.png'))"
   ]
  },
  {
   "cell_type": "markdown",
   "id": "0cc17f0a",
   "metadata": {},
   "source": [
    "#### Income and department"
   ]
  },
  {
   "cell_type": "code",
   "execution_count": 159,
   "id": "f3f07c18",
   "metadata": {},
   "outputs": [
    {
     "data": {
      "image/png": "[encoded data removed]",
      "text/plain": [
       "<Figure size 640x480 with 1 Axes>"
      ]
     },
     "metadata": {},
     "output_type": "display_data"
    }
   ],
   "source": [
    "barchart_income_depart=income_depart.plot(kind= 'bar', stacked = True)"
   ]
  },
  {
   "cell_type": "markdown",
   "id": "9d49a3f7",
   "metadata": {},
   "source": [
    "Middle income people dominate in most of department categories"
   ]
  },
  {
   "cell_type": "code",
   "execution_count": 160,
   "id": "447219cd",
   "metadata": {},
   "outputs": [],
   "source": [
    "# Exporting barchart_income_depart\n",
    "barchart_income_depart.figure.savefig(os.path.join(path, '04 Analysis','Visualizations','barchart_income_depart.png'))"
   ]
  },
  {
   "cell_type": "markdown",
   "id": "7f07a993",
   "metadata": {},
   "source": [
    "#### Household and Region"
   ]
  },
  {
   "cell_type": "code",
   "execution_count": 161,
   "id": "6691a76c",
   "metadata": {},
   "outputs": [
    {
     "data": {
      "image/png": "[encoded data removed]",
      "text/plain": [
       "<Figure size 640x480 with 1 Axes>"
      ]
     },
     "metadata": {},
     "output_type": "display_data"
    }
   ],
   "source": [
    "barchart_household_region=household_region.plot(kind= 'bar', stacked = True)"
   ]
  },
  {
   "cell_type": "markdown",
   "id": "93a00cdf",
   "metadata": {},
   "source": [
    "Most of the customers are Medium size households across all regions"
   ]
  },
  {
   "cell_type": "code",
   "execution_count": 162,
   "id": "09ed5905",
   "metadata": {},
   "outputs": [],
   "source": [
    "# Exporting barchart_income_depart\n",
    "barchart_household_region.figure.savefig(os.path.join(path, '04 Analysis','Visualizations','barchart_household_region.png'))"
   ]
  },
  {
   "cell_type": "markdown",
   "id": "2a8b22d2",
   "metadata": {},
   "source": [
    "#### Household and Department"
   ]
  },
  {
   "cell_type": "code",
   "execution_count": 164,
   "id": "2bb856f8",
   "metadata": {},
   "outputs": [
    {
     "data": {
      "image/png": "[encoded data removed]",
      "text/plain": [
       "<Figure size 640x480 with 1 Axes>"
      ]
     },
     "metadata": {},
     "output_type": "display_data"
    }
   ],
   "source": [
    "barchart_household_depart=household_depart.plot(kind= 'bar', stacked = True)"
   ]
  },
  {
   "cell_type": "markdown",
   "id": "63612319",
   "metadata": {},
   "source": [
    "The selling categories are the same as earlier with medium size households dominating the produce"
   ]
  },
  {
   "cell_type": "code",
   "execution_count": 167,
   "id": "e8321cce",
   "metadata": {},
   "outputs": [],
   "source": [
    "# Exporting barchart_household_depart\n",
    "barchart_household_depart.figure.savefig(os.path.join(path, '04 Analysis','Visualizations','barchart_household_depart.png'))"
   ]
  },
  {
   "cell_type": "markdown",
   "id": "d27afabc",
   "metadata": {},
   "source": [
    "#### Children and region"
   ]
  },
  {
   "cell_type": "code",
   "execution_count": 166,
   "id": "b3d70879",
   "metadata": {},
   "outputs": [
    {
     "data": {
      "image/png": "[encoded data removed]",
      "text/plain": [
       "<Figure size 640x480 with 1 Axes>"
      ]
     },
     "metadata": {},
     "output_type": "display_data"
    }
   ],
   "source": [
    "barchart_child_region=child_region.plot(kind= 'bar', stacked = True)"
   ]
  },
  {
   "cell_type": "markdown",
   "id": "99b750f2",
   "metadata": {},
   "source": [
    "The South has most families with older children. Most of the customers , by far, are families with older children. "
   ]
  },
  {
   "cell_type": "code",
   "execution_count": 168,
   "id": "28ee9716",
   "metadata": {},
   "outputs": [],
   "source": [
    "# Exporting barchart_child_region\n",
    "barchart_child_region.figure.savefig(os.path.join(path, '04 Analysis','Visualizations','barchart_child_region.png'))"
   ]
  },
  {
   "cell_type": "markdown",
   "id": "bcb8441e",
   "metadata": {},
   "source": [
    "#### Children and department"
   ]
  },
  {
   "cell_type": "code",
   "execution_count": 169,
   "id": "005a0532",
   "metadata": {},
   "outputs": [
    {
     "data": {
      "image/png": "[encoded data removed]",
      "text/plain": [
       "<Figure size 640x480 with 1 Axes>"
      ]
     },
     "metadata": {},
     "output_type": "display_data"
    }
   ],
   "source": [
    "barchart_child_depart=child_depart.plot(kind= 'bar', stacked = True)"
   ]
  },
  {
   "cell_type": "markdown",
   "id": "b420b37d",
   "metadata": {},
   "source": [
    "Families with older children dominate all department categories.\n",
    "\n",
    "Produce, eggs_dairy and snacks are the strongest categories amongst families with older children"
   ]
  },
  {
   "cell_type": "markdown",
   "id": "48ccb567",
   "metadata": {},
   "source": [
    "#### Loyalty Flag"
   ]
  },
  {
   "cell_type": "code",
   "execution_count": 171,
   "id": "f3f1d22b",
   "metadata": {},
   "outputs": [
    {
     "data": {
      "image/png": "[encoded data removed]",
      "text/plain": [
       "<Figure size 640x480 with 1 Axes>"
      ]
     },
     "metadata": {},
     "output_type": "display_data"
    }
   ],
   "source": [
    "# Creating pie chart \n",
    "pie_loyalty = ords_prods_custs_normal['loyalty_flag'].value_counts().plot.pie(autopct=('%1.f%%'), colors=['red','green','yellow'])\n"
   ]
  },
  {
   "cell_type": "code",
   "execution_count": 172,
   "id": "17110890",
   "metadata": {},
   "outputs": [],
   "source": [
    "# Exporting pie chart\n",
    "pie_loyalty.figure.savefig(os.path.join(path, '04 Analysis','Visualizations', 'pie_loyalty.png'))"
   ]
  },
  {
   "cell_type": "code",
   "execution_count": 173,
   "id": "09fb4e50",
   "metadata": {},
   "outputs": [],
   "source": [
    "#  Exporting the df\n",
    "ords_prods_custs_normal.to_pickle(os.path.join(path, '02 Data','Prepared Data', 'ords_prods_custs_normal.pkl'))"
   ]
  },
  {
   "cell_type": "code",
   "execution_count": null,
   "id": "def55e6e",
   "metadata": {},
   "outputs": [],
   "source": []
  }
 ],
 "metadata": {
  "kernelspec": {
   "display_name": "Python 3 (ipykernel)",
   "language": "python",
   "name": "python3"
  },
  "language_info": {
   "codemirror_mode": {
    "name": "ipython",
    "version": 3
   },
   "file_extension": ".py",
   "mimetype": "text/x-python",
   "name": "python",
   "nbconvert_exporter": "python",
   "pygments_lexer": "ipython3",
   "version": "3.9.13"
  }
 },
 "nbformat": 4,
 "nbformat_minor": 5
}
