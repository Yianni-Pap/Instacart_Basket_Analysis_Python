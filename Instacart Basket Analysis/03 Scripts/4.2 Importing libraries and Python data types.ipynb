{
 "cells": [
  {
   "cell_type": "markdown",
   "id": "4627a49b",
   "metadata": {},
   "source": [
    "#01.Importing libraries"
   ]
  },
  {
   "cell_type": "code",
   "execution_count": 34,
   "id": "ad66a49b",
   "metadata": {},
   "outputs": [],
   "source": [
    "# Importing Libraries\n",
    "import pandas as pd\n",
    "import numpy as np\n",
    "import os"
   ]
  },
  {
   "cell_type": "code",
   "execution_count": 35,
   "id": "20257282",
   "metadata": {},
   "outputs": [],
   "source": [
    "# Working with Python Data Types\n",
    "x=20"
   ]
  },
  {
   "cell_type": "code",
   "execution_count": 36,
   "id": "19895948",
   "metadata": {},
   "outputs": [],
   "source": [
    "y=80"
   ]
  },
  {
   "cell_type": "code",
   "execution_count": 37,
   "id": "35dc5be0",
   "metadata": {},
   "outputs": [
    {
     "data": {
      "text/plain": [
       "100"
      ]
     },
     "execution_count": 37,
     "metadata": {},
     "output_type": "execute_result"
    }
   ],
   "source": [
    "x+y"
   ]
  },
  {
   "cell_type": "code",
   "execution_count": 38,
   "id": "a14828d2",
   "metadata": {},
   "outputs": [],
   "source": [
    "z=120"
   ]
  },
  {
   "cell_type": "code",
   "execution_count": 39,
   "id": "f90cd38b",
   "metadata": {},
   "outputs": [
    {
     "data": {
      "text/plain": [
       "100"
      ]
     },
     "execution_count": 39,
     "metadata": {},
     "output_type": "execute_result"
    }
   ],
   "source": [
    "z-x"
   ]
  },
  {
   "cell_type": "code",
   "execution_count": 40,
   "id": "5cac5b1e",
   "metadata": {},
   "outputs": [
    {
     "data": {
      "text/plain": [
       "100"
      ]
     },
     "execution_count": 40,
     "metadata": {},
     "output_type": "execute_result"
    }
   ],
   "source": [
    "y+20"
   ]
  },
  {
   "cell_type": "code",
   "execution_count": 41,
   "id": "55ac101f",
   "metadata": {},
   "outputs": [],
   "source": [
    "a=3.6"
   ]
  },
  {
   "cell_type": "code",
   "execution_count": 42,
   "id": "b8b97d40",
   "metadata": {},
   "outputs": [],
   "source": [
    "b=1.2"
   ]
  },
  {
   "cell_type": "code",
   "execution_count": 43,
   "id": "2ce5bd4f",
   "metadata": {},
   "outputs": [
    {
     "data": {
      "text/plain": [
       "3.0"
      ]
     },
     "execution_count": 43,
     "metadata": {},
     "output_type": "execute_result"
    }
   ],
   "source": [
    "a/b"
   ]
  },
  {
   "cell_type": "code",
   "execution_count": 44,
   "id": "b2259d4f",
   "metadata": {},
   "outputs": [],
   "source": [
    "c='Py'"
   ]
  },
  {
   "cell_type": "code",
   "execution_count": 45,
   "id": "61d8c3a3",
   "metadata": {},
   "outputs": [],
   "source": [
    "d='thon'"
   ]
  },
  {
   "cell_type": "code",
   "execution_count": 46,
   "id": "9d63ece2",
   "metadata": {},
   "outputs": [
    {
     "data": {
      "text/plain": [
       "'Python'"
      ]
     },
     "execution_count": 46,
     "metadata": {},
     "output_type": "execute_result"
    }
   ],
   "source": [
    "c+d"
   ]
  },
  {
   "cell_type": "code",
   "execution_count": 47,
   "id": "7e01fd3f",
   "metadata": {},
   "outputs": [],
   "source": [
    "e='I am learning Python.'"
   ]
  },
  {
   "cell_type": "code",
   "execution_count": 48,
   "id": "e059cc25",
   "metadata": {},
   "outputs": [],
   "source": [
    "f=' Python is a new, fascinating world for me.'"
   ]
  },
  {
   "cell_type": "code",
   "execution_count": 49,
   "id": "67507aa0",
   "metadata": {},
   "outputs": [
    {
     "data": {
      "text/plain": [
       "'I am learning Python. Python is a new, fascinating world for me.'"
      ]
     },
     "execution_count": 49,
     "metadata": {},
     "output_type": "execute_result"
    }
   ],
   "source": [
    "e+f"
   ]
  },
  {
   "cell_type": "code",
   "execution_count": 51,
   "id": "0994c555",
   "metadata": {},
   "outputs": [
    {
     "data": {
      "text/plain": [
       "'PythonPythonPythonPythonPythonPythonPythonPythonPythonPythonPythonPythonPythonPythonPythonPythonPythonPythonPythonPythonPythonPythonPythonPythonPythonPythonPythonPythonPythonPythonPythonPythonPythonPythonPythonPythonPythonPythonPythonPythonPythonPythonPythonPythonPythonPythonPythonPythonPythonPythonPythonPythonPythonPythonPythonPythonPythonPythonPythonPythonPythonPythonPythonPythonPythonPythonPythonPythonPythonPythonPythonPythonPythonPythonPythonPythonPythonPythonPythonPythonPythonPythonPythonPythonPythonPythonPythonPythonPythonPythonPythonPythonPythonPythonPythonPythonPythonPythonPythonPython'"
      ]
     },
     "execution_count": 51,
     "metadata": {},
     "output_type": "execute_result"
    }
   ],
   "source": [
    "# Bonus\n",
    "(c+d)*100\n"
   ]
  },
  {
   "cell_type": "code",
   "execution_count": null,
   "id": "8aff49de",
   "metadata": {},
   "outputs": [],
   "source": []
  }
 ],
 "metadata": {
  "kernelspec": {
   "display_name": "Python 3 (ipykernel)",
   "language": "python",
   "name": "python3"
  },
  "language_info": {
   "codemirror_mode": {
    "name": "ipython",
    "version": 3
   },
   "file_extension": ".py",
   "mimetype": "text/x-python",
   "name": "python",
   "nbconvert_exporter": "python",
   "pygments_lexer": "ipython3",
   "version": "3.9.13"
  }
 },
 "nbformat": 4,
 "nbformat_minor": 5
}
